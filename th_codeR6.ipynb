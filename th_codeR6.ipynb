{
  "cells": [
    {
      "cell_type": "markdown",
      "metadata": {
        "id": "view-in-github",
        "colab_type": "text"
      },
      "source": [
        "<a href=\"https://colab.research.google.com/github/agusxpro/msit/blob/big-data/th_codeR6.ipynb\" target=\"_parent\"><img src=\"https://colab.research.google.com/assets/colab-badge.svg\" alt=\"Open In Colab\"/></a>"
      ]
    },
    {
      "cell_type": "code",
      "execution_count": 2,
      "metadata": {
        "id": "tnh27eaxrtqx"
      },
      "outputs": [],
      "source": [
        "!pip install -U -q PyDrive\n",
        "\n",
        "from pydrive.auth import GoogleAuth\n",
        "from pydrive.drive import GoogleDrive\n",
        "from google.colab import auth\n",
        "from oauth2client.client import GoogleCredentials\n",
        "\n",
        "# Authenticate and create the PyDrive client.\n",
        "auth.authenticate_user()\n",
        "gauth = GoogleAuth()\n",
        "gauth.credentials = GoogleCredentials.get_application_default()\n",
        "drive = GoogleDrive(gauth)\n",
        "\n",
        "link = \"https://drive.google.com/file/d/19WUTs8nKJ185YjXJl8_sSi0kiWAI2Xh9/view\"\n",
        "\n",
        "# to get the id part of the file\n",
        "id = link.split(\"/\")[-2]\n",
        "\n",
        "downloaded = drive.CreateFile({'id':id})\n",
        "downloaded.GetContentFile('dataset.csv')"
      ]
    },
    {
      "cell_type": "markdown",
      "metadata": {
        "id": "dKyyL8iI7ETf"
      },
      "source": [
        "**LOAD THE DATASET**"
      ]
    },
    {
      "cell_type": "code",
      "execution_count": 4,
      "metadata": {
        "id": "Hbd0ct-Agz8W"
      },
      "outputs": [],
      "source": [
        "# Load the data from the CSV file\n",
        "import pandas as pd\n",
        "df_init = pd.read_csv('dataset.csv')"
      ]
    },
    {
      "cell_type": "markdown",
      "metadata": {
        "id": "VRWYHQj872FF"
      },
      "source": [
        "**REMOVING MISSING VALUE**"
      ]
    },
    {
      "cell_type": "code",
      "execution_count": 5,
      "metadata": {
        "id": "XWqA4NRM71JK"
      },
      "outputs": [],
      "source": [
        "# Remove any rows with missing values\n",
        "df = df_init.dropna()"
      ]
    },
    {
      "cell_type": "markdown",
      "metadata": {
        "id": "hoJZ1-Cv7-F1"
      },
      "source": [
        "**REMOVING OUTLIER WITH COVARIANCE ESTIMATOR**"
      ]
    },
    {
      "cell_type": "code",
      "execution_count": 6,
      "metadata": {
        "colab": {
          "base_uri": "https://localhost:8080/"
        },
        "id": "QjetZ3JWtLwy",
        "outputId": "ec3b90b3-a20a-4c6a-8023-1293d57e5502"
      },
      "outputs": [
        {
          "output_type": "stream",
          "name": "stdout",
          "text": [
            "Number of outliers: 1350\n",
            "Shape of final dataset: (7050, 82)\n",
            "Shape of original dataset: (8400, 82)\n"
          ]
        }
      ],
      "source": [
        "import pandas as pd\n",
        "from sklearn.ensemble import IsolationForest\n",
        "\n",
        "model = IsolationForest()\n",
        "model.fit(df)\n",
        "\n",
        "# Predict outliers\n",
        "outliers = model.predict(df) == -1\n",
        "\n",
        "# Store the final dataset without outliers as a DataFrame\n",
        "df_clean = df[~outliers]\n",
        "\n",
        "# Print the number of outliers detected and the shape of the final dataset\n",
        "print(\"Number of outliers:\", sum(outliers))\n",
        "print(\"Shape of final dataset:\", df_clean.shape)\n",
        "print(\"Shape of original dataset:\", df.shape)\n",
        "\n",
        "# Optionally, you can save the final dataset to a new CSV file\n",
        "#X_clean.to_csv(\"final_dataset.csv\", index=False)"
      ]
    },
    {
      "cell_type": "code",
      "execution_count": 7,
      "metadata": {
        "id": "4vKaV5kXHaBW"
      },
      "outputs": [],
      "source": [
        "# Separate target variable\n",
        "X = df_clean.drop('BOILER EFFICIENCY', axis=1) \n",
        "y = df_clean['BOILER EFFICIENCY']"
      ]
    },
    {
      "cell_type": "code",
      "source": [
        "X.shape"
      ],
      "metadata": {
        "colab": {
          "base_uri": "https://localhost:8080/"
        },
        "id": "32SopBiFXdxQ",
        "outputId": "37371ab1-08c8-4ab9-dc95-a3877dda0bc2"
      },
      "execution_count": 8,
      "outputs": [
        {
          "output_type": "execute_result",
          "data": {
            "text/plain": [
              "(7050, 81)"
            ]
          },
          "metadata": {},
          "execution_count": 8
        }
      ]
    },
    {
      "cell_type": "code",
      "source": [
        "import pandas as pd\n",
        "from statsmodels.stats.outliers_influence import variance_inflation_factor\n",
        "\n",
        "# Change to df\n",
        "dfX = pd.DataFrame(X)\n",
        "\n",
        "# Create a new dataframe to store the VIF scores\n",
        "vif_df = pd.DataFrame(columns=['Feature', 'VIF'])\n",
        "\n",
        "# Iterate through each feature in the dataframe and calculate its VIF score\n",
        "for i in range(len(dfX.columns)):\n",
        "    vif = variance_inflation_factor(dfX.values, i)\n",
        "    vif_df.loc[i] = [dfX.columns[i], vif]\n",
        "\n",
        "# Select the features with VIF score less than 10 and store them in a new dataframe\n",
        "selected_features_df = vif_df.loc[vif_df['VIF'] < 10]\n",
        "\n",
        "# Extract the names of the selected features\n",
        "selected_features = selected_features_df['Feature'].values\n",
        "\n",
        "# Create a new dataframe with the selected features\n",
        "selected_dfX = dfX[selected_features]"
      ],
      "metadata": {
        "id": "BBc9HGbeNv_U"
      },
      "execution_count": 9,
      "outputs": []
    },
    {
      "cell_type": "code",
      "source": [
        "selected_dfX.shape"
      ],
      "metadata": {
        "colab": {
          "base_uri": "https://localhost:8080/"
        },
        "id": "cs9vXxTxXh_g",
        "outputId": "d4095d4f-3a26-4eb0-992b-cc3f3c02cef5"
      },
      "execution_count": 10,
      "outputs": [
        {
          "output_type": "execute_result",
          "data": {
            "text/plain": [
              "(7050, 8)"
            ]
          },
          "metadata": {},
          "execution_count": 10
        }
      ]
    },
    {
      "cell_type": "code",
      "source": [
        "# Display the ranked result of the selected features\n",
        "print(selected_features_df.sort_values('VIF', ascending=True))"
      ],
      "metadata": {
        "colab": {
          "base_uri": "https://localhost:8080/"
        },
        "id": "HoYtE0boSJsB",
        "outputId": "f10f0ffa-f6b5-476c-c47e-48218966b6c2"
      },
      "execution_count": 11,
      "outputs": [
        {
          "output_type": "stream",
          "name": "stdout",
          "text": [
            "                        Feature       VIF\n",
            "33  PULV. F PRIMARY AIR TEMP. 1  1.375802\n",
            "11           MAIN STEAM A TEMP.  1.528223\n",
            "12           MAIN STEAM B TEMP.  1.697198\n",
            "14            HRH STEAM TEMP. B  1.862353\n",
            "75                  STB STM FLW  2.164788\n",
            "71      ECON OTL A GAS O2 S VLU  2.742873\n",
            "72      ECON OTL B GAS O2 S VLU  2.860734\n",
            "16       PSH SPRY WTR FLW S VLU  4.135506\n"
          ]
        }
      ]
    },
    {
      "cell_type": "code",
      "source": [
        "# Print the selected features\n",
        "print(selected_dfX.columns)\n",
        "print(selected_dfX.shape)"
      ],
      "metadata": {
        "colab": {
          "base_uri": "https://localhost:8080/"
        },
        "id": "e0R9GPi7Tbel",
        "outputId": "1aebeed0-bc49-4d56-ff1e-5a9af0387e31"
      },
      "execution_count": 12,
      "outputs": [
        {
          "output_type": "stream",
          "name": "stdout",
          "text": [
            "Index(['MAIN STEAM A TEMP.', 'MAIN STEAM B TEMP.', 'HRH STEAM TEMP. B',\n",
            "       'PSH SPRY WTR FLW S VLU', 'PULV. F PRIMARY AIR TEMP. 1',\n",
            "       'ECON OTL A GAS O2 S VLU', 'ECON OTL B GAS O2 S VLU', 'STB STM FLW'],\n",
            "      dtype='object')\n",
            "(7050, 8)\n"
          ]
        }
      ]
    },
    {
      "cell_type": "code",
      "source": [
        "# Scale features\n",
        "from sklearn.preprocessing import StandardScaler\n",
        "scaler = StandardScaler()\n",
        "X_prep_scaled = scaler.fit_transform(selected_dfX)\n",
        "y_prep_scaled = y"
      ],
      "metadata": {
        "id": "HQO63rCdUyyD"
      },
      "execution_count": 13,
      "outputs": []
    },
    {
      "cell_type": "code",
      "source": [
        "def feature_selection_RFE(x_var, y_var, n_features, model_types):\n",
        "  # Create RFE estimator with Ridge Regression estimator and 15 features\n",
        "  rfe = RFE(estimator=model_types, n_features_to_select=n_features)\n",
        "\n",
        "  # Fit RFE estimator to X and y\n",
        "  rfe.fit(x_var, y_var)\n",
        "\n",
        "  # Get selected feature indices\n",
        "  sel_rfe = rfe.get_support(indices=True)\n",
        "\n",
        "  # Get selected feature names\n",
        "  names_sel_rfe = X.columns[sel_rfe]\n",
        "\n",
        "  # Print\n",
        "  print(names_sel_rfe)\n",
        "  print(\"Length :\",len(names_sel_rfe))\n",
        "  return names_sel_rfe"
      ],
      "metadata": {
        "id": "_V5euJlhVF16"
      },
      "execution_count": 14,
      "outputs": []
    },
    {
      "cell_type": "code",
      "execution_count": 15,
      "metadata": {
        "colab": {
          "base_uri": "https://localhost:8080/"
        },
        "id": "VLdiynmq7BQL",
        "outputId": "9c59a2b9-3feb-4ccb-b403-5bbb07013b25"
      },
      "outputs": [
        {
          "output_type": "stream",
          "name": "stdout",
          "text": [
            "Index(['GENERATOR OUTPUT POWER', 'DESUPERHEATER A OUTLET WATER TEMP.',\n",
            "       'DESUPERHEATER B OUTLET WATER TEMP.', 'ECON INL FW FLW S VLU',\n",
            "       'FW FLW (EXC. SH SPRAY)', 'ECO INLET WATER TEMP S VLU',\n",
            "       'FEGT OUTLET TEMPERATURE S VLU',\n",
            "       'PRIMARY SUPERHEATER A OUTLET STEAM TEMP.'],\n",
            "      dtype='object')\n",
            "Length : 8\n"
          ]
        }
      ],
      "source": [
        "# Load necessary packages\n",
        "from sklearn.feature_selection import RFE\n",
        "from sklearn.linear_model import LinearRegression, Ridge, Lasso\n",
        "from sklearn.ensemble import RandomForestRegressor\n",
        "from sklearn.tree import DecisionTreeRegressor\n",
        "\n",
        "#Selected Feature\n",
        "n = 10\n",
        "\n",
        "# Estimator\n",
        "linear = LinearRegression()\n",
        "ridge = Ridge()\n",
        "lasso = Lasso()\n",
        "decision = DecisionTreeRegressor()\n",
        "forest = RandomForestRegressor()\n",
        "\n",
        "# Input to model\n",
        "rfe_names = feature_selection_RFE(X_prep_scaled, y_prep_scaled, n, linear)"
      ]
    },
    {
      "cell_type": "code",
      "execution_count": 16,
      "metadata": {
        "colab": {
          "base_uri": "https://localhost:8080/"
        },
        "id": "QIQ0GRkHcKpH",
        "outputId": "8bfd7bb3-a307-4718-e7c3-e240902d02da"
      },
      "outputs": [
        {
          "output_type": "stream",
          "name": "stdout",
          "text": [
            "X_rfe shape: (7050, 8)\n",
            "y shape: (7050,)\n"
          ]
        }
      ],
      "source": [
        "# Store final dataset with selected features\n",
        "X_rfe = df_clean[rfe_names]\n",
        "print(\"X_rfe shape:\", X_rfe.shape)\n",
        "print(\"y shape:\", y.shape)"
      ]
    },
    {
      "cell_type": "code",
      "execution_count": 17,
      "metadata": {
        "colab": {
          "base_uri": "https://localhost:8080/"
        },
        "id": "3nwYh4KeHllp",
        "outputId": "2239a531-c7bc-4bb8-8c85-5ff7c4a2265d"
      },
      "outputs": [
        {
          "output_type": "stream",
          "name": "stdout",
          "text": [
            "Index(['BOILER EFFICIENCY', 'GENERATOR OUTPUT POWER',\n",
            "       'DESUPERHEATER A OUTLET WATER TEMP.',\n",
            "       'DESUPERHEATER B OUTLET WATER TEMP.', 'ECON INL FW FLW S VLU',\n",
            "       'FW FLW (EXC. SH SPRAY)', 'ECO INLET WATER TEMP S VLU',\n",
            "       'FEGT OUTLET TEMPERATURE S VLU',\n",
            "       'PRIMARY SUPERHEATER A OUTLET STEAM TEMP.'],\n",
            "      dtype='object')\n"
          ]
        }
      ],
      "source": [
        "# Join preprocessed data and target date into a single dataframe (Final Dataset)\n",
        "df_prep_final = pd.concat([y, X_rfe],axis=1)\n",
        "print(df_prep_final.columns)"
      ]
    },
    {
      "cell_type": "code",
      "execution_count": 18,
      "metadata": {
        "colab": {
          "base_uri": "https://localhost:8080/",
          "height": 758
        },
        "id": "V3rE3vxWAZxA",
        "outputId": "f1921cb2-6c91-4b4f-a10a-9bbb98978786"
      },
      "outputs": [
        {
          "output_type": "display_data",
          "data": {
            "text/plain": [
              "<Figure size 720x720 with 2 Axes>"
            ],
            "image/png": "[encoded data removed]"
          },
          "metadata": {
            "needs_background": "light"
          }
        }
      ],
      "source": [
        "import numpy as np\n",
        "import seaborn as sns\n",
        "import matplotlib.pyplot as plt\n",
        "\n",
        "# Compute the correlation matrix\n",
        "corr = df_prep_final.corr()\n",
        "\n",
        "# Create a mask to display only the lower triangle of the heatmap\n",
        "mask = np.zeros_like(corr)\n",
        "mask[np.triu_indices_from(mask)] = True\n",
        "\n",
        "# Create the heatmap using seaborn library\n",
        "fig, ax = plt.subplots(figsize=(10, 10))\n",
        "sns.heatmap(corr, mask=mask, cmap='coolwarm', center=0, annot=True, fmt='.2f', ax=ax)\n",
        "\n",
        "# Rotate the x-axis labels for better readability\n",
        "plt.xticks(rotation=45)\n",
        "\n",
        "# Show the plot\n",
        "plt.show()"
      ]
    },
    {
      "cell_type": "markdown",
      "metadata": {
        "id": "5lfcJt7fFmak"
      },
      "source": [
        "## **Storing the FINAL preprocessed Dataset**"
      ]
    },
    {
      "cell_type": "code",
      "execution_count": 19,
      "metadata": {
        "colab": {
          "base_uri": "https://localhost:8080/",
          "height": 442
        },
        "id": "JeRD1ABXBaQf",
        "outputId": "1cbd8298-0505-4836-90b4-fcabd00e6394"
      },
      "outputs": [
        {
          "output_type": "stream",
          "name": "stdout",
          "text": [
            "Dataset final shape :  (7050, 9)\n"
          ]
        },
        {
          "output_type": "execute_result",
          "data": {
            "text/plain": [
              "     BOILER EFFICIENCY  GENERATOR OUTPUT POWER  \\\n",
              "436             86.933                 590.706   \n",
              "450             86.378                 593.385   \n",
              "454             86.565                 594.873   \n",
              "458             86.792                 596.940   \n",
              "468             86.965                 601.018   \n",
              "469             86.962                 601.369   \n",
              "472             87.162                 602.570   \n",
              "474             86.964                 603.713   \n",
              "488             87.128                 612.284   \n",
              "511             87.533                 625.397   \n",
              "\n",
              "     DESUPERHEATER A OUTLET WATER TEMP.  DESUPERHEATER B OUTLET WATER TEMP.  \\\n",
              "436                               256.9                             256.800   \n",
              "450                               257.6                             257.700   \n",
              "454                               257.2                             257.100   \n",
              "458                               257.4                             257.200   \n",
              "468                               258.6                             258.417   \n",
              "469                               258.6                             258.500   \n",
              "472                               257.7                             257.600   \n",
              "474                               258.8                             258.600   \n",
              "488                               259.0                             258.978   \n",
              "511                               260.2                             260.200   \n",
              "\n",
              "     ECON INL FW FLW S VLU  FW FLW (EXC. SH SPRAY)  \\\n",
              "436               1583.257                1501.178   \n",
              "450               1590.877                1511.857   \n",
              "454               1591.751                1556.028   \n",
              "458               1577.146                1500.869   \n",
              "468               1630.372                1559.435   \n",
              "469               1624.280                1540.718   \n",
              "472               1611.922                1558.897   \n",
              "474               1621.387                1535.280   \n",
              "488               1655.239                1570.670   \n",
              "511               1674.071                1590.624   \n",
              "\n",
              "     ECO INLET WATER TEMP S VLU  FEGT OUTLET TEMPERATURE S VLU  \\\n",
              "436                     255.523                        763.053   \n",
              "450                     256.165                        767.348   \n",
              "454                     255.938                        784.416   \n",
              "458                     255.965                        764.464   \n",
              "468                     257.071                        793.562   \n",
              "469                     257.221                        793.681   \n",
              "472                     256.418                        771.646   \n",
              "474                     257.224                        799.200   \n",
              "488                     257.655                        750.397   \n",
              "511                     258.815                        800.202   \n",
              "\n",
              "     PRIMARY SUPERHEATER A OUTLET STEAM TEMP.  \n",
              "436                                   459.230  \n",
              "450                                   467.850  \n",
              "454                                   457.208  \n",
              "458                                   450.100  \n",
              "468                                   461.120  \n",
              "469                                   461.551  \n",
              "472                                   445.378  \n",
              "474                                   464.558  \n",
              "488                                   457.013  \n",
              "511                                   453.500  "
            ],
            "text/html": [
              "\n",
              "  <div id=\"df-8882e30b-dc8b-48e9-935e-0123573aef90\">\n",
              "    <div class=\"colab-df-container\">\n",
              "      <div>\n",
              "<style scoped>\n",
              "    .dataframe tbody tr th:only-of-type {\n",
              "        vertical-align: middle;\n",
              "    }\n",
              "\n",
              "    .dataframe tbody tr th {\n",
              "        vertical-align: top;\n",
              "    }\n",
              "\n",
              "    .dataframe thead th {\n",
              "        text-align: right;\n",
              "    }\n",
              "</style>\n",
              "<table border=\"1\" class=\"dataframe\">\n",
              "  <thead>\n",
              "    <tr style=\"text-align: right;\">\n",
              "      <th></th>\n",
              "      <th>BOILER EFFICIENCY</th>\n",
              "      <th>GENERATOR OUTPUT POWER</th>\n",
              "      <th>DESUPERHEATER A OUTLET WATER TEMP.</th>\n",
              "      <th>DESUPERHEATER B OUTLET WATER TEMP.</th>\n",
              "      <th>ECON INL FW FLW S VLU</th>\n",
              "      <th>FW FLW (EXC. SH SPRAY)</th>\n",
              "      <th>ECO INLET WATER TEMP S VLU</th>\n",
              "      <th>FEGT OUTLET TEMPERATURE S VLU</th>\n",
              "      <th>PRIMARY SUPERHEATER A OUTLET STEAM TEMP.</th>\n",
              "    </tr>\n",
              "  </thead>\n",
              "  <tbody>\n",
              "    <tr>\n",
              "      <th>436</th>\n",
              "      <td>86.933</td>\n",
              "      <td>590.706</td>\n",
              "      <td>256.9</td>\n",
              "      <td>256.800</td>\n",
              "      <td>1583.257</td>\n",
              "      <td>1501.178</td>\n",
              "      <td>255.523</td>\n",
              "      <td>763.053</td>\n",
              "      <td>459.230</td>\n",
              "    </tr>\n",
              "    <tr>\n",
              "      <th>450</th>\n",
              "      <td>86.378</td>\n",
              "      <td>593.385</td>\n",
              "      <td>257.6</td>\n",
              "      <td>257.700</td>\n",
              "      <td>1590.877</td>\n",
              "      <td>1511.857</td>\n",
              "      <td>256.165</td>\n",
              "      <td>767.348</td>\n",
              "      <td>467.850</td>\n",
              "    </tr>\n",
              "    <tr>\n",
              "      <th>454</th>\n",
              "      <td>86.565</td>\n",
              "      <td>594.873</td>\n",
              "      <td>257.2</td>\n",
              "      <td>257.100</td>\n",
              "      <td>1591.751</td>\n",
              "      <td>1556.028</td>\n",
              "      <td>255.938</td>\n",
              "      <td>784.416</td>\n",
              "      <td>457.208</td>\n",
              "    </tr>\n",
              "    <tr>\n",
              "      <th>458</th>\n",
              "      <td>86.792</td>\n",
              "      <td>596.940</td>\n",
              "      <td>257.4</td>\n",
              "      <td>257.200</td>\n",
              "      <td>1577.146</td>\n",
              "      <td>1500.869</td>\n",
              "      <td>255.965</td>\n",
              "      <td>764.464</td>\n",
              "      <td>450.100</td>\n",
              "    </tr>\n",
              "    <tr>\n",
              "      <th>468</th>\n",
              "      <td>86.965</td>\n",
              "      <td>601.018</td>\n",
              "      <td>258.6</td>\n",
              "      <td>258.417</td>\n",
              "      <td>1630.372</td>\n",
              "      <td>1559.435</td>\n",
              "      <td>257.071</td>\n",
              "      <td>793.562</td>\n",
              "      <td>461.120</td>\n",
              "    </tr>\n",
              "    <tr>\n",
              "      <th>469</th>\n",
              "      <td>86.962</td>\n",
              "      <td>601.369</td>\n",
              "      <td>258.6</td>\n",
              "      <td>258.500</td>\n",
              "      <td>1624.280</td>\n",
              "      <td>1540.718</td>\n",
              "      <td>257.221</td>\n",
              "      <td>793.681</td>\n",
              "      <td>461.551</td>\n",
              "    </tr>\n",
              "    <tr>\n",
              "      <th>472</th>\n",
              "      <td>87.162</td>\n",
              "      <td>602.570</td>\n",
              "      <td>257.7</td>\n",
              "      <td>257.600</td>\n",
              "      <td>1611.922</td>\n",
              "      <td>1558.897</td>\n",
              "      <td>256.418</td>\n",
              "      <td>771.646</td>\n",
              "      <td>445.378</td>\n",
              "    </tr>\n",
              "    <tr>\n",
              "      <th>474</th>\n",
              "      <td>86.964</td>\n",
              "      <td>603.713</td>\n",
              "      <td>258.8</td>\n",
              "      <td>258.600</td>\n",
              "      <td>1621.387</td>\n",
              "      <td>1535.280</td>\n",
              "      <td>257.224</td>\n",
              "      <td>799.200</td>\n",
              "      <td>464.558</td>\n",
              "    </tr>\n",
              "    <tr>\n",
              "      <th>488</th>\n",
              "      <td>87.128</td>\n",
              "      <td>612.284</td>\n",
              "      <td>259.0</td>\n",
              "      <td>258.978</td>\n",
              "      <td>1655.239</td>\n",
              "      <td>1570.670</td>\n",
              "      <td>257.655</td>\n",
              "      <td>750.397</td>\n",
              "      <td>457.013</td>\n",
              "    </tr>\n",
              "    <tr>\n",
              "      <th>511</th>\n",
              "      <td>87.533</td>\n",
              "      <td>625.397</td>\n",
              "      <td>260.2</td>\n",
              "      <td>260.200</td>\n",
              "      <td>1674.071</td>\n",
              "      <td>1590.624</td>\n",
              "      <td>258.815</td>\n",
              "      <td>800.202</td>\n",
              "      <td>453.500</td>\n",
              "    </tr>\n",
              "  </tbody>\n",
              "</table>\n",
              "</div>\n",
              "      <button class=\"colab-df-convert\" onclick=\"convertToInteractive('df-8882e30b-dc8b-48e9-935e-0123573aef90')\"\n",
              "              title=\"Convert this dataframe to an interactive table.\"\n",
              "              style=\"display:none;\">\n",
              "        \n",
              "  <svg xmlns=\"http://www.w3.org/2000/svg\" height=\"24px\"viewBox=\"0 0 24 24\"\n",
              "       width=\"24px\">\n",
              "    <path d=\"M0 0h24v24H0V0z\" fill=\"none\"/>\n",
              "    <path d=\"M18.56 5.44l.94 2.06.94-2.06 2.06-.94-2.06-.94-.94-2.06-.94 2.06-2.06.94zm-11 1L8.5 8.5l.94-2.06 2.06-.94-2.06-.94L8.5 2.5l-.94 2.06-2.06.94zm10 10l.94 2.06.94-2.06 2.06-.94-2.06-.94-.94-2.06-.94 2.06-2.06.94z\"/><path d=\"M17.41 7.96l-1.37-1.37c-.4-.4-.92-.59-1.43-.59-.52 0-1.04.2-1.43.59L10.3 9.45l-7.72 7.72c-.78.78-.78 2.05 0 2.83L4 21.41c.39.39.9.59 1.41.59.51 0 1.02-.2 1.41-.59l7.78-7.78 2.81-2.81c.8-.78.8-2.07 0-2.86zM5.41 20L4 18.59l7.72-7.72 1.47 1.35L5.41 20z\"/>\n",
              "  </svg>\n",
              "      </button>\n",
              "      \n",
              "  <style>\n",
              "    .colab-df-container {\n",
              "      display:flex;\n",
              "      flex-wrap:wrap;\n",
              "      gap: 12px;\n",
              "    }\n",
              "\n",
              "    .colab-df-convert {\n",
              "      background-color: #E8F0FE;\n",
              "      border: none;\n",
              "      border-radius: 50%;\n",
              "      cursor: pointer;\n",
              "      display: none;\n",
              "      fill: #1967D2;\n",
              "      height: 32px;\n",
              "      padding: 0 0 0 0;\n",
              "      width: 32px;\n",
              "    }\n",
              "\n",
              "    .colab-df-convert:hover {\n",
              "      background-color: #E2EBFA;\n",
              "      box-shadow: 0px 1px 2px rgba(60, 64, 67, 0.3), 0px 1px 3px 1px rgba(60, 64, 67, 0.15);\n",
              "      fill: #174EA6;\n",
              "    }\n",
              "\n",
              "    [theme=dark] .colab-df-convert {\n",
              "      background-color: #3B4455;\n",
              "      fill: #D2E3FC;\n",
              "    }\n",
              "\n",
              "    [theme=dark] .colab-df-convert:hover {\n",
              "      background-color: #434B5C;\n",
              "      box-shadow: 0px 1px 3px 1px rgba(0, 0, 0, 0.15);\n",
              "      filter: drop-shadow(0px 1px 2px rgba(0, 0, 0, 0.3));\n",
              "      fill: #FFFFFF;\n",
              "    }\n",
              "  </style>\n",
              "\n",
              "      <script>\n",
              "        const buttonEl =\n",
              "          document.querySelector('#df-8882e30b-dc8b-48e9-935e-0123573aef90 button.colab-df-convert');\n",
              "        buttonEl.style.display =\n",
              "          google.colab.kernel.accessAllowed ? 'block' : 'none';\n",
              "\n",
              "        async function convertToInteractive(key) {\n",
              "          const element = document.querySelector('#df-8882e30b-dc8b-48e9-935e-0123573aef90');\n",
              "          const dataTable =\n",
              "            await google.colab.kernel.invokeFunction('convertToInteractive',\n",
              "                                                     [key], {});\n",
              "          if (!dataTable) return;\n",
              "\n",
              "          const docLinkHtml = 'Like what you see? Visit the ' +\n",
              "            '<a target=\"_blank\" href=https://colab.research.google.com/notebooks/data_table.ipynb>data table notebook</a>'\n",
              "            + ' to learn more about interactive tables.';\n",
              "          element.innerHTML = '';\n",
              "          dataTable['output_type'] = 'display_data';\n",
              "          await google.colab.output.renderOutput(dataTable, element);\n",
              "          const docLink = document.createElement('div');\n",
              "          docLink.innerHTML = docLinkHtml;\n",
              "          element.appendChild(docLink);\n",
              "        }\n",
              "      </script>\n",
              "    </div>\n",
              "  </div>\n",
              "  "
            ]
          },
          "metadata": {},
          "execution_count": 19
        }
      ],
      "source": [
        "# Final preprocessed dataset\n",
        "X_final = X_rfe\n",
        "y_final = y\n",
        "\n",
        "# Save final dataset to CSV (check in the Colab's file folder)\n",
        "#df_prep_final.to_csv('final_prep_dataset.csv', index=False)\n",
        "\n",
        "print(\"Dataset final shape : \",df_prep_final.shape)\n",
        "df_prep_final.head(10)"
      ]
    },
    {
      "cell_type": "markdown",
      "metadata": {
        "id": "9tb2wRCA7IwY"
      },
      "source": [
        "**SPLIT THE DATASET INTO TRAINING AND TESTING**"
      ]
    },
    {
      "cell_type": "code",
      "execution_count": 20,
      "metadata": {
        "colab": {
          "base_uri": "https://localhost:8080/"
        },
        "id": "iBHdeXOswHsZ",
        "outputId": "d602cbf5-8a4b-4c9f-a394-fbefd1255886"
      },
      "outputs": [
        {
          "output_type": "stream",
          "name": "stdout",
          "text": [
            "X_model shape: (5640, 8)\n",
            "y_model shape: (5640,)\n",
            "X_train shape: (3948, 8)\n",
            "X_val shape: (1692, 8)\n",
            "y_train shape: (3948,)\n",
            "y_val shape: (1692,)\n"
          ]
        }
      ],
      "source": [
        "import pandas as pd\n",
        "from sklearn.model_selection import train_test_split\n",
        "\n",
        "# Separate target variable\n",
        "X2 = df_prep_final.drop('BOILER EFFICIENCY', axis=1) \n",
        "y2 = df_prep_final['BOILER EFFICIENCY']\n",
        "\n",
        "# Split the dataset 20/80 into test and training sets\n",
        "X_model, X_test, y_model, y_test = train_test_split(X2, y2, test_size=0.2, random_state=42)\n",
        "\n",
        "# Split the dataset 30/70 into training and validation sets\n",
        "X_training, X_valid, y_training, y_valid = train_test_split(X_model, y_model, test_size=0.3, random_state=42)\n",
        "\n",
        "# Print the shapes of the resulting datasets\n",
        "print(\"X_model shape:\", X_model.shape)\n",
        "print(\"y_model shape:\", y_model.shape)\n",
        "print(\"X_train shape:\", X_training.shape)\n",
        "print(\"X_val shape:\", X_valid.shape)\n",
        "print(\"y_train shape:\", y_training.shape)\n",
        "print(\"y_val shape:\", y_valid.shape)\n"
      ]
    },
    {
      "cell_type": "markdown",
      "metadata": {
        "id": "1OM0zrr--njC"
      },
      "source": [
        "**NORMALIZATION**"
      ]
    },
    {
      "cell_type": "markdown",
      "metadata": {
        "id": "Q2Dq5vZS-sYr"
      },
      "source": [
        "This code loads the selected features from the \"selected_features.csv\" file that was saved in the previous step. The squeeze=True argument is used to return the feature names as a Pandas Series instead of a DataFrame.\n",
        "\n",
        "The MinMaxScaler from scikit-learn is used to normalize the selected features to the range [0, 1]. The fit_transform method is used to fit the scaler to the training data and transform it, while the transform method is used to transform the test data using the same scaling factors learned from the training data.\n",
        "\n",
        "The normalized training and test data are stored in the X_train_norm and X_val_norm variables, respectively."
      ]
    },
    {
      "cell_type": "code",
      "execution_count": 21,
      "metadata": {
        "colab": {
          "base_uri": "https://localhost:8080/"
        },
        "id": "OWJx3bG6-pWI",
        "outputId": "c774fd21-caff-449c-d3d8-2a31ac05f19e"
      },
      "outputs": [
        {
          "output_type": "stream",
          "name": "stdout",
          "text": [
            "Input shape :  (3948, 8)\n",
            "Output shape :  (1692, 8)\n"
          ]
        }
      ],
      "source": [
        "from sklearn.preprocessing import MinMaxScaler\n",
        "\n",
        "# Normalize the selected features using MinMaxScaler\n",
        "scaler = MinMaxScaler()\n",
        "X_training_norm = scaler.fit_transform(X_training)\n",
        "X_valid_norm = scaler.transform(X_valid)\n",
        "\n",
        "# Check the input shape\n",
        "print(\"Input shape : \",X_training_norm.shape)\n",
        "print(\"Output shape : \",X_valid_norm.shape)"
      ]
    },
    {
      "cell_type": "code",
      "execution_count": 22,
      "metadata": {
        "colab": {
          "base_uri": "https://localhost:8080/"
        },
        "id": "OnbOyOKVf1CJ",
        "outputId": "9a7624d2-9250-4599-dc3c-e9ab33006579"
      },
      "outputs": [
        {
          "output_type": "stream",
          "name": "stdout",
          "text": [
            "Dataset dimension acepted\n"
          ]
        }
      ],
      "source": [
        "if len(pd.DataFrame(X_training_norm).columns) >=8:\n",
        "  # Input\n",
        "  neuron = 220\n",
        "  kernel = 3\n",
        "  print(\"Dataset dimension acepted\")\n",
        "else:\n",
        "  print(\"Dataset dimension too low, execution stopped!\")\n",
        "  exit()"
      ]
    },
    {
      "cell_type": "code",
      "execution_count": 23,
      "metadata": {
        "colab": {
          "base_uri": "https://localhost:8080/"
        },
        "id": "Aoobw9lc3gr_",
        "outputId": "66f4b86d-557a-4c03-a32e-eddcad172831"
      },
      "outputs": [
        {
          "output_type": "stream",
          "name": "stdout",
          "text": [
            "Epoch 1/150\n",
            "124/124 [==============================] - 5s 19ms/step - loss: 747.6780 - mse: 747.6780 - mae: 13.4149 - root_mean_squared_error: 27.3437 - val_loss: 0.9748 - val_mse: 0.9748 - val_mae: 0.7304 - val_root_mean_squared_error: 0.9873\n",
            "Epoch 2/150\n",
            "124/124 [==============================] - 2s 16ms/step - loss: 0.7477 - mse: 0.7477 - mae: 0.6297 - root_mean_squared_error: 0.8647 - val_loss: 0.6144 - val_mse: 0.6144 - val_mae: 0.6102 - val_root_mean_squared_error: 0.7838\n",
            "Epoch 3/150\n",
            "124/124 [==============================] - 3s 25ms/step - loss: 0.3664 - mse: 0.3664 - mae: 0.4406 - root_mean_squared_error: 0.6053 - val_loss: 0.2716 - val_mse: 0.2716 - val_mae: 0.4098 - val_root_mean_squared_error: 0.5211\n",
            "Epoch 4/150\n",
            "124/124 [==============================] - 2s 17ms/step - loss: 0.2336 - mse: 0.2336 - mae: 0.3594 - root_mean_squared_error: 0.4834 - val_loss: 0.1666 - val_mse: 0.1666 - val_mae: 0.3214 - val_root_mean_squared_error: 0.4082\n",
            "Epoch 5/150\n",
            "124/124 [==============================] - 2s 18ms/step - loss: 0.1930 - mse: 0.1930 - mae: 0.3315 - root_mean_squared_error: 0.4393 - val_loss: 0.1363 - val_mse: 0.1363 - val_mae: 0.2872 - val_root_mean_squared_error: 0.3692\n",
            "Epoch 6/150\n",
            "124/124 [==============================] - 3s 24ms/step - loss: 0.1674 - mse: 0.1674 - mae: 0.3102 - root_mean_squared_error: 0.4091 - val_loss: 0.1041 - val_mse: 0.1041 - val_mae: 0.2447 - val_root_mean_squared_error: 0.3226\n",
            "Epoch 7/150\n",
            "124/124 [==============================] - 2s 15ms/step - loss: 0.1470 - mse: 0.1470 - mae: 0.2879 - root_mean_squared_error: 0.3834 - val_loss: 0.1920 - val_mse: 0.1920 - val_mae: 0.3639 - val_root_mean_squared_error: 0.4382\n",
            "Epoch 8/150\n",
            "124/124 [==============================] - 3s 24ms/step - loss: 0.1222 - mse: 0.1222 - mae: 0.2683 - root_mean_squared_error: 0.3496 - val_loss: 0.1205 - val_mse: 0.1205 - val_mae: 0.2821 - val_root_mean_squared_error: 0.3472\n",
            "Epoch 9/150\n",
            "124/124 [==============================] - 2s 16ms/step - loss: 0.1755 - mse: 0.1755 - mae: 0.3269 - root_mean_squared_error: 0.4189 - val_loss: 0.1150 - val_mse: 0.1150 - val_mae: 0.2680 - val_root_mean_squared_error: 0.3391\n",
            "Epoch 10/150\n",
            "124/124 [==============================] - 2s 17ms/step - loss: 0.1002 - mse: 0.1002 - mae: 0.2376 - root_mean_squared_error: 0.3166 - val_loss: 0.0678 - val_mse: 0.0678 - val_mae: 0.1902 - val_root_mean_squared_error: 0.2604\n",
            "Epoch 11/150\n",
            "124/124 [==============================] - 2s 15ms/step - loss: 0.2065 - mse: 0.2065 - mae: 0.3572 - root_mean_squared_error: 0.4544 - val_loss: 0.4623 - val_mse: 0.4623 - val_mae: 0.6410 - val_root_mean_squared_error: 0.6799\n",
            "Epoch 12/150\n",
            "124/124 [==============================] - 2s 15ms/step - loss: 0.2804 - mse: 0.2804 - mae: 0.4230 - root_mean_squared_error: 0.5295 - val_loss: 0.0579 - val_mse: 0.0579 - val_mae: 0.1749 - val_root_mean_squared_error: 0.2407\n",
            "Epoch 13/150\n",
            "124/124 [==============================] - 2s 14ms/step - loss: 0.2504 - mse: 0.2504 - mae: 0.3909 - root_mean_squared_error: 0.5004 - val_loss: 0.3221 - val_mse: 0.3221 - val_mae: 0.5197 - val_root_mean_squared_error: 0.5675\n",
            "Epoch 14/150\n",
            "124/124 [==============================] - 3s 23ms/step - loss: 0.4342 - mse: 0.4342 - mae: 0.5518 - root_mean_squared_error: 0.6589 - val_loss: 0.0715 - val_mse: 0.0715 - val_mae: 0.2036 - val_root_mean_squared_error: 0.2675\n",
            "Epoch 15/150\n",
            "124/124 [==============================] - 2s 18ms/step - loss: 0.4665 - mse: 0.4665 - mae: 0.5309 - root_mean_squared_error: 0.6830 - val_loss: 0.0829 - val_mse: 0.0829 - val_mae: 0.2327 - val_root_mean_squared_error: 0.2880\n",
            "Epoch 16/150\n",
            "124/124 [==============================] - 2s 17ms/step - loss: 0.9992 - mse: 0.9992 - mae: 0.8305 - root_mean_squared_error: 0.9996 - val_loss: 4.2535 - val_mse: 4.2535 - val_mae: 2.0426 - val_root_mean_squared_error: 2.0624\n",
            "Epoch 17/150\n",
            "124/124 [==============================] - 2s 17ms/step - loss: 1.1550 - mse: 1.1550 - mae: 0.8987 - root_mean_squared_error: 1.0747 - val_loss: 0.0723 - val_mse: 0.0723 - val_mae: 0.2204 - val_root_mean_squared_error: 0.2690\n",
            "Epoch 18/150\n",
            "124/124 [==============================] - 2s 16ms/step - loss: 1.3840 - mse: 1.3840 - mae: 0.9681 - root_mean_squared_error: 1.1764 - val_loss: 1.6176 - val_mse: 1.6176 - val_mae: 1.2461 - val_root_mean_squared_error: 1.2718\n",
            "Epoch 19/150\n",
            "124/124 [==============================] - 2s 16ms/step - loss: 1.7525 - mse: 1.7525 - mae: 1.1350 - root_mean_squared_error: 1.3238 - val_loss: 0.7154 - val_mse: 0.7154 - val_mae: 0.8022 - val_root_mean_squared_error: 0.8458\n",
            "Epoch 20/150\n",
            "124/124 [==============================] - 3s 26ms/step - loss: 1.6333 - mse: 1.6333 - mae: 1.0792 - root_mean_squared_error: 1.2780 - val_loss: 2.4761 - val_mse: 2.4761 - val_mae: 1.5563 - val_root_mean_squared_error: 1.5736\n",
            "Epoch 21/150\n",
            "124/124 [==============================] - 2s 15ms/step - loss: 1.2773 - mse: 1.2773 - mae: 0.8608 - root_mean_squared_error: 1.1302 - val_loss: 1.2022 - val_mse: 1.2022 - val_mae: 1.0468 - val_root_mean_squared_error: 1.0964\n",
            "Epoch 22/150\n",
            "124/124 [==============================] - 2s 16ms/step - loss: 1.9958 - mse: 1.9958 - mae: 1.0708 - root_mean_squared_error: 1.4127 - val_loss: 0.4855 - val_mse: 0.4855 - val_mae: 0.6574 - val_root_mean_squared_error: 0.6967\n",
            "Epoch 23/150\n",
            "124/124 [==============================] - 2s 17ms/step - loss: 2.1776 - mse: 2.1776 - mae: 1.2070 - root_mean_squared_error: 1.4757 - val_loss: 0.0721 - val_mse: 0.0721 - val_mae: 0.2110 - val_root_mean_squared_error: 0.2685\n",
            "Epoch 24/150\n",
            "124/124 [==============================] - 2s 16ms/step - loss: 0.8678 - mse: 0.8678 - mae: 0.6886 - root_mean_squared_error: 0.9316 - val_loss: 4.3132 - val_mse: 4.3132 - val_mae: 2.0621 - val_root_mean_squared_error: 2.0768\n",
            "Epoch 25/150\n",
            "124/124 [==============================] - 3s 24ms/step - loss: 1.7572 - mse: 1.7572 - mae: 1.0916 - root_mean_squared_error: 1.3256 - val_loss: 0.0947 - val_mse: 0.0947 - val_mae: 0.2533 - val_root_mean_squared_error: 0.3077\n",
            "Epoch 26/150\n",
            "124/124 [==============================] - 4s 31ms/step - loss: 1.6802 - mse: 1.6802 - mae: 0.8997 - root_mean_squared_error: 1.2962 - val_loss: 0.4721 - val_mse: 0.4721 - val_mae: 0.6337 - val_root_mean_squared_error: 0.6871\n",
            "Epoch 27/150\n",
            "124/124 [==============================] - 2s 18ms/step - loss: 0.9967 - mse: 0.9967 - mae: 0.8033 - root_mean_squared_error: 0.9983 - val_loss: 2.7815 - val_mse: 2.7815 - val_mae: 1.6389 - val_root_mean_squared_error: 1.6678\n",
            "Epoch 28/150\n",
            "124/124 [==============================] - 2s 19ms/step - loss: 1.3179 - mse: 1.3179 - mae: 0.9238 - root_mean_squared_error: 1.1480 - val_loss: 0.0920 - val_mse: 0.0920 - val_mae: 0.2467 - val_root_mean_squared_error: 0.3034\n",
            "Epoch 29/150\n",
            "124/124 [==============================] - 3s 24ms/step - loss: 2.5047 - mse: 2.5047 - mae: 1.3248 - root_mean_squared_error: 1.5826 - val_loss: 0.1029 - val_mse: 0.1029 - val_mae: 0.2572 - val_root_mean_squared_error: 0.3208\n",
            "Epoch 30/150\n",
            "124/124 [==============================] - 2s 16ms/step - loss: 0.6579 - mse: 0.6579 - mae: 0.6400 - root_mean_squared_error: 0.8111 - val_loss: 3.1165 - val_mse: 3.1165 - val_mae: 1.7512 - val_root_mean_squared_error: 1.7654\n",
            "Epoch 31/150\n",
            "124/124 [==============================] - 3s 28ms/step - loss: 1.5489 - mse: 1.5489 - mae: 1.0148 - root_mean_squared_error: 1.2445 - val_loss: 0.1506 - val_mse: 0.1506 - val_mae: 0.3400 - val_root_mean_squared_error: 0.3881\n",
            "Epoch 32/150\n",
            "124/124 [==============================] - 2s 16ms/step - loss: 1.9658 - mse: 1.9658 - mae: 1.0183 - root_mean_squared_error: 1.4021 - val_loss: 0.1817 - val_mse: 0.1817 - val_mae: 0.3739 - val_root_mean_squared_error: 0.4263\n",
            "Epoch 33/150\n",
            "124/124 [==============================] - 2s 15ms/step - loss: 1.2924 - mse: 1.2924 - mae: 0.9032 - root_mean_squared_error: 1.1369 - val_loss: 0.1844 - val_mse: 0.1844 - val_mae: 0.3785 - val_root_mean_squared_error: 0.4295\n",
            "Epoch 34/150\n",
            "124/124 [==============================] - 2s 17ms/step - loss: 1.2285 - mse: 1.2285 - mae: 0.8838 - root_mean_squared_error: 1.1084 - val_loss: 0.1976 - val_mse: 0.1976 - val_mae: 0.3716 - val_root_mean_squared_error: 0.4445\n",
            "Epoch 35/150\n",
            "124/124 [==============================] - 2s 16ms/step - loss: 1.0798 - mse: 1.0798 - mae: 0.7889 - root_mean_squared_error: 1.0392 - val_loss: 0.1648 - val_mse: 0.1648 - val_mae: 0.3561 - val_root_mean_squared_error: 0.4060\n",
            "Epoch 36/150\n",
            "124/124 [==============================] - 2s 16ms/step - loss: 1.4209 - mse: 1.4209 - mae: 0.9920 - root_mean_squared_error: 1.1920 - val_loss: 0.6931 - val_mse: 0.6931 - val_mae: 0.8012 - val_root_mean_squared_error: 0.8325\n",
            "Epoch 37/150\n",
            "124/124 [==============================] - 5s 39ms/step - loss: 1.0955 - mse: 1.0955 - mae: 0.8447 - root_mean_squared_error: 1.0467 - val_loss: 0.1250 - val_mse: 0.1250 - val_mae: 0.3015 - val_root_mean_squared_error: 0.3535\n",
            "Epoch 38/150\n",
            "124/124 [==============================] - 2s 17ms/step - loss: 1.5960 - mse: 1.5960 - mae: 0.9680 - root_mean_squared_error: 1.2633 - val_loss: 0.3658 - val_mse: 0.3658 - val_mae: 0.5207 - val_root_mean_squared_error: 0.6048\n",
            "Epoch 39/150\n",
            "124/124 [==============================] - 2s 17ms/step - loss: 1.7188 - mse: 1.7188 - mae: 1.0130 - root_mean_squared_error: 1.3110 - val_loss: 1.2513 - val_mse: 1.2513 - val_mae: 1.0953 - val_root_mean_squared_error: 1.1186\n",
            "Epoch 40/150\n",
            "124/124 [==============================] - 2s 15ms/step - loss: 1.3095 - mse: 1.3095 - mae: 0.8807 - root_mean_squared_error: 1.1444 - val_loss: 2.9468 - val_mse: 2.9468 - val_mae: 1.5694 - val_root_mean_squared_error: 1.7166\n",
            "Epoch 41/150\n",
            "124/124 [==============================] - 2s 16ms/step - loss: 1.3378 - mse: 1.3378 - mae: 0.8517 - root_mean_squared_error: 1.1566 - val_loss: 0.0450 - val_mse: 0.0450 - val_mae: 0.1663 - val_root_mean_squared_error: 0.2120\n",
            "Epoch 42/150\n",
            "124/124 [==============================] - 3s 28ms/step - loss: 0.7830 - mse: 0.7830 - mae: 0.6945 - root_mean_squared_error: 0.8849 - val_loss: 5.1964 - val_mse: 5.1964 - val_mae: 2.2562 - val_root_mean_squared_error: 2.2796\n",
            "Epoch 43/150\n",
            "124/124 [==============================] - 3s 22ms/step - loss: 1.5950 - mse: 1.5950 - mae: 0.9128 - root_mean_squared_error: 1.2629 - val_loss: 0.1357 - val_mse: 0.1357 - val_mae: 0.3183 - val_root_mean_squared_error: 0.3683\n",
            "Epoch 44/150\n",
            "124/124 [==============================] - 2s 17ms/step - loss: 0.9222 - mse: 0.9222 - mae: 0.7033 - root_mean_squared_error: 0.9603 - val_loss: 0.1561 - val_mse: 0.1561 - val_mae: 0.3348 - val_root_mean_squared_error: 0.3951\n",
            "Epoch 45/150\n",
            "124/124 [==============================] - 2s 18ms/step - loss: 1.4597 - mse: 1.4597 - mae: 0.9303 - root_mean_squared_error: 1.2082 - val_loss: 0.1217 - val_mse: 0.1217 - val_mae: 0.2970 - val_root_mean_squared_error: 0.3489\n",
            "Epoch 46/150\n",
            "124/124 [==============================] - 2s 16ms/step - loss: 1.3171 - mse: 1.3171 - mae: 0.9732 - root_mean_squared_error: 1.1477 - val_loss: 0.4679 - val_mse: 0.4679 - val_mae: 0.6385 - val_root_mean_squared_error: 0.6840\n",
            "Epoch 47/150\n",
            "124/124 [==============================] - 3s 25ms/step - loss: 1.0533 - mse: 1.0533 - mae: 0.8170 - root_mean_squared_error: 1.0263 - val_loss: 0.7709 - val_mse: 0.7709 - val_mae: 0.8515 - val_root_mean_squared_error: 0.8780\n",
            "Epoch 48/150\n",
            "124/124 [==============================] - 2s 16ms/step - loss: 1.3102 - mse: 1.3102 - mae: 0.9007 - root_mean_squared_error: 1.1446 - val_loss: 0.0735 - val_mse: 0.0735 - val_mae: 0.2232 - val_root_mean_squared_error: 0.2711\n",
            "Epoch 49/150\n",
            "124/124 [==============================] - 2s 17ms/step - loss: 1.2058 - mse: 1.2058 - mae: 0.9136 - root_mean_squared_error: 1.0981 - val_loss: 0.7679 - val_mse: 0.7679 - val_mae: 0.8475 - val_root_mean_squared_error: 0.8763\n",
            "Epoch 50/150\n",
            "124/124 [==============================] - 2s 16ms/step - loss: 0.7968 - mse: 0.7968 - mae: 0.7403 - root_mean_squared_error: 0.8927 - val_loss: 0.4862 - val_mse: 0.4862 - val_mae: 0.6624 - val_root_mean_squared_error: 0.6972\n",
            "Epoch 51/150\n",
            "124/124 [==============================] - 2s 16ms/step - loss: 0.8471 - mse: 0.8471 - mae: 0.6934 - root_mean_squared_error: 0.9204 - val_loss: 2.7978 - val_mse: 2.7978 - val_mae: 1.6573 - val_root_mean_squared_error: 1.6726\n",
            "Epoch 52/150\n",
            "124/124 [==============================] - 2s 16ms/step - loss: 1.4951 - mse: 1.4951 - mae: 1.0285 - root_mean_squared_error: 1.2228 - val_loss: 0.2128 - val_mse: 0.2128 - val_mae: 0.4142 - val_root_mean_squared_error: 0.4613\n",
            "Epoch 53/150\n",
            "124/124 [==============================] - 3s 26ms/step - loss: 0.7737 - mse: 0.7737 - mae: 0.6742 - root_mean_squared_error: 0.8796 - val_loss: 0.8737 - val_mse: 0.8737 - val_mae: 0.9091 - val_root_mean_squared_error: 0.9347\n",
            "Epoch 54/150\n",
            "124/124 [==============================] - 2s 17ms/step - loss: 1.2115 - mse: 1.2115 - mae: 0.9075 - root_mean_squared_error: 1.1007 - val_loss: 0.1270 - val_mse: 0.1270 - val_mae: 0.2828 - val_root_mean_squared_error: 0.3563\n",
            "Epoch 55/150\n",
            "124/124 [==============================] - 3s 25ms/step - loss: 0.9124 - mse: 0.9124 - mae: 0.7500 - root_mean_squared_error: 0.9552 - val_loss: 0.0720 - val_mse: 0.0720 - val_mae: 0.2087 - val_root_mean_squared_error: 0.2683\n",
            "Epoch 56/150\n",
            "124/124 [==============================] - 3s 23ms/step - loss: 0.8080 - mse: 0.8080 - mae: 0.7116 - root_mean_squared_error: 0.8989 - val_loss: 0.0720 - val_mse: 0.0720 - val_mae: 0.2218 - val_root_mean_squared_error: 0.2683\n",
            "Epoch 57/150\n",
            "124/124 [==============================] - 2s 17ms/step - loss: 1.0715 - mse: 1.0715 - mae: 0.7785 - root_mean_squared_error: 1.0351 - val_loss: 0.1520 - val_mse: 0.1520 - val_mae: 0.3410 - val_root_mean_squared_error: 0.3899\n",
            "Epoch 58/150\n",
            "124/124 [==============================] - 3s 25ms/step - loss: 1.7813 - mse: 1.7813 - mae: 1.0623 - root_mean_squared_error: 1.3347 - val_loss: 3.6182 - val_mse: 3.6182 - val_mae: 1.8834 - val_root_mean_squared_error: 1.9021\n",
            "Epoch 59/150\n",
            "124/124 [==============================] - 2s 17ms/step - loss: 0.5317 - mse: 0.5317 - mae: 0.5434 - root_mean_squared_error: 0.7292 - val_loss: 0.7219 - val_mse: 0.7219 - val_mae: 0.8142 - val_root_mean_squared_error: 0.8497\n",
            "Epoch 60/150\n",
            "124/124 [==============================] - 2s 17ms/step - loss: 0.5476 - mse: 0.5476 - mae: 0.5742 - root_mean_squared_error: 0.7400 - val_loss: 1.5666 - val_mse: 1.5666 - val_mae: 1.2346 - val_root_mean_squared_error: 1.2517\n",
            "Epoch 61/150\n",
            "124/124 [==============================] - 3s 26ms/step - loss: 1.8698 - mse: 1.8698 - mae: 1.0968 - root_mean_squared_error: 1.3674 - val_loss: 0.1317 - val_mse: 0.1317 - val_mae: 0.2992 - val_root_mean_squared_error: 0.3628\n",
            "Epoch 62/150\n",
            "124/124 [==============================] - 2s 15ms/step - loss: 0.6022 - mse: 0.6022 - mae: 0.5610 - root_mean_squared_error: 0.7760 - val_loss: 0.2511 - val_mse: 0.2511 - val_mae: 0.4572 - val_root_mean_squared_error: 0.5011\n",
            "Epoch 63/150\n",
            "124/124 [==============================] - 3s 26ms/step - loss: 0.9696 - mse: 0.9696 - mae: 0.7224 - root_mean_squared_error: 0.9847 - val_loss: 0.4512 - val_mse: 0.4512 - val_mae: 0.6353 - val_root_mean_squared_error: 0.6717\n",
            "Epoch 64/150\n",
            "124/124 [==============================] - 2s 16ms/step - loss: 0.5991 - mse: 0.5991 - mae: 0.5970 - root_mean_squared_error: 0.7740 - val_loss: 0.7864 - val_mse: 0.7864 - val_mae: 0.8626 - val_root_mean_squared_error: 0.8868\n",
            "Epoch 65/150\n",
            "124/124 [==============================] - 2s 17ms/step - loss: 0.7933 - mse: 0.7933 - mae: 0.7419 - root_mean_squared_error: 0.8907 - val_loss: 1.3512 - val_mse: 1.3512 - val_mae: 1.1361 - val_root_mean_squared_error: 1.1624\n",
            "Epoch 66/150\n",
            "124/124 [==============================] - 2s 16ms/step - loss: 0.7899 - mse: 0.7899 - mae: 0.7556 - root_mean_squared_error: 0.8888 - val_loss: 2.0807 - val_mse: 2.0807 - val_mae: 1.4258 - val_root_mean_squared_error: 1.4425\n",
            "Epoch 67/150\n",
            "124/124 [==============================] - 2s 15ms/step - loss: 0.9628 - mse: 0.9628 - mae: 0.8006 - root_mean_squared_error: 0.9812 - val_loss: 0.0469 - val_mse: 0.0469 - val_mae: 0.1616 - val_root_mean_squared_error: 0.2166\n",
            "Epoch 68/150\n",
            "124/124 [==============================] - 2s 17ms/step - loss: 1.1485 - mse: 1.1485 - mae: 0.8172 - root_mean_squared_error: 1.0717 - val_loss: 0.0487 - val_mse: 0.0487 - val_mae: 0.1631 - val_root_mean_squared_error: 0.2207\n",
            "Epoch 69/150\n",
            "124/124 [==============================] - 3s 26ms/step - loss: 1.2206 - mse: 1.2206 - mae: 0.8511 - root_mean_squared_error: 1.1048 - val_loss: 3.3290 - val_mse: 3.3290 - val_mae: 1.8058 - val_root_mean_squared_error: 1.8245\n",
            "Epoch 70/150\n",
            "124/124 [==============================] - 2s 17ms/step - loss: 0.3860 - mse: 0.3860 - mae: 0.4983 - root_mean_squared_error: 0.6213 - val_loss: 0.7274 - val_mse: 0.7274 - val_mae: 0.8136 - val_root_mean_squared_error: 0.8529\n",
            "Epoch 71/150\n",
            "124/124 [==============================] - 2s 16ms/step - loss: 1.0851 - mse: 1.0851 - mae: 0.8596 - root_mean_squared_error: 1.0417 - val_loss: 1.8374 - val_mse: 1.8374 - val_mae: 1.3242 - val_root_mean_squared_error: 1.3555\n",
            "Epoch 72/150\n",
            "124/124 [==============================] - 2s 16ms/step - loss: 0.4459 - mse: 0.4459 - mae: 0.5613 - root_mean_squared_error: 0.6678 - val_loss: 0.2024 - val_mse: 0.2024 - val_mae: 0.4036 - val_root_mean_squared_error: 0.4499\n",
            "Epoch 73/150\n",
            "124/124 [==============================] - 2s 17ms/step - loss: 0.7841 - mse: 0.7841 - mae: 0.7087 - root_mean_squared_error: 0.8855 - val_loss: 0.0558 - val_mse: 0.0558 - val_mae: 0.1938 - val_root_mean_squared_error: 0.2363\n",
            "Epoch 74/150\n",
            "124/124 [==============================] - 2s 20ms/step - loss: 0.8819 - mse: 0.8819 - mae: 0.7720 - root_mean_squared_error: 0.9391 - val_loss: 0.4995 - val_mse: 0.4995 - val_mae: 0.6765 - val_root_mean_squared_error: 0.7067\n",
            "Epoch 75/150\n",
            "124/124 [==============================] - 3s 21ms/step - loss: 1.0928 - mse: 1.0928 - mae: 0.8502 - root_mean_squared_error: 1.0454 - val_loss: 0.3437 - val_mse: 0.3437 - val_mae: 0.5264 - val_root_mean_squared_error: 0.5863\n",
            "Epoch 76/150\n",
            "124/124 [==============================] - 2s 17ms/step - loss: 0.5161 - mse: 0.5161 - mae: 0.5785 - root_mean_squared_error: 0.7184 - val_loss: 6.4555 - val_mse: 6.4555 - val_mae: 2.5326 - val_root_mean_squared_error: 2.5408\n",
            "Epoch 77/150\n",
            "124/124 [==============================] - 2s 16ms/step - loss: 0.8789 - mse: 0.8789 - mae: 0.7370 - root_mean_squared_error: 0.9375 - val_loss: 0.5937 - val_mse: 0.5937 - val_mae: 0.7393 - val_root_mean_squared_error: 0.7705\n",
            "Epoch 78/150\n",
            "124/124 [==============================] - 2s 15ms/step - loss: 0.6270 - mse: 0.6270 - mae: 0.6462 - root_mean_squared_error: 0.7918 - val_loss: 0.2247 - val_mse: 0.2247 - val_mae: 0.4288 - val_root_mean_squared_error: 0.4740\n",
            "Epoch 79/150\n",
            "124/124 [==============================] - 2s 15ms/step - loss: 0.8263 - mse: 0.8263 - mae: 0.6866 - root_mean_squared_error: 0.9090 - val_loss: 1.5505 - val_mse: 1.5505 - val_mae: 1.2288 - val_root_mean_squared_error: 1.2452\n",
            "Epoch 80/150\n",
            "124/124 [==============================] - 3s 26ms/step - loss: 0.5789 - mse: 0.5789 - mae: 0.6136 - root_mean_squared_error: 0.7609 - val_loss: 0.2236 - val_mse: 0.2236 - val_mae: 0.4222 - val_root_mean_squared_error: 0.4729\n",
            "Epoch 81/150\n",
            "124/124 [==============================] - 3s 28ms/step - loss: 0.6436 - mse: 0.6436 - mae: 0.6601 - root_mean_squared_error: 0.8022 - val_loss: 0.0704 - val_mse: 0.0704 - val_mae: 0.2075 - val_root_mean_squared_error: 0.2654\n",
            "Epoch 82/150\n",
            "124/124 [==============================] - 2s 17ms/step - loss: 1.0072 - mse: 1.0072 - mae: 0.8363 - root_mean_squared_error: 1.0036 - val_loss: 0.9943 - val_mse: 0.9943 - val_mae: 0.9745 - val_root_mean_squared_error: 0.9971\n",
            "Epoch 83/150\n",
            "124/124 [==============================] - 2s 17ms/step - loss: 0.5407 - mse: 0.5407 - mae: 0.5817 - root_mean_squared_error: 0.7353 - val_loss: 1.7287 - val_mse: 1.7287 - val_mae: 1.2976 - val_root_mean_squared_error: 1.3148\n",
            "Epoch 84/150\n",
            "124/124 [==============================] - 2s 17ms/step - loss: 0.7529 - mse: 0.7529 - mae: 0.6713 - root_mean_squared_error: 0.8677 - val_loss: 0.9268 - val_mse: 0.9268 - val_mae: 0.9412 - val_root_mean_squared_error: 0.9627\n",
            "Epoch 85/150\n",
            "124/124 [==============================] - 2s 16ms/step - loss: 0.7414 - mse: 0.7414 - mae: 0.6551 - root_mean_squared_error: 0.8611 - val_loss: 0.1683 - val_mse: 0.1683 - val_mae: 0.3626 - val_root_mean_squared_error: 0.4103\n",
            "Epoch 86/150\n",
            "124/124 [==============================] - 3s 26ms/step - loss: 0.5344 - mse: 0.5344 - mae: 0.5893 - root_mean_squared_error: 0.7310 - val_loss: 0.0830 - val_mse: 0.0830 - val_mae: 0.2355 - val_root_mean_squared_error: 0.2881\n",
            "Epoch 87/150\n",
            "124/124 [==============================] - 2s 16ms/step - loss: 0.8734 - mse: 0.8734 - mae: 0.7564 - root_mean_squared_error: 0.9345 - val_loss: 2.1730 - val_mse: 2.1730 - val_mae: 1.4597 - val_root_mean_squared_error: 1.4741\n",
            "Epoch 88/150\n",
            "124/124 [==============================] - 2s 15ms/step - loss: 0.4750 - mse: 0.4750 - mae: 0.5604 - root_mean_squared_error: 0.6892 - val_loss: 0.0437 - val_mse: 0.0437 - val_mae: 0.1598 - val_root_mean_squared_error: 0.2091\n",
            "Epoch 89/150\n",
            "124/124 [==============================] - 2s 16ms/step - loss: 0.5020 - mse: 0.5020 - mae: 0.5889 - root_mean_squared_error: 0.7085 - val_loss: 0.1934 - val_mse: 0.1934 - val_mae: 0.3953 - val_root_mean_squared_error: 0.4398\n",
            "Epoch 90/150\n",
            "124/124 [==============================] - 2s 15ms/step - loss: 0.4359 - mse: 0.4359 - mae: 0.5319 - root_mean_squared_error: 0.6602 - val_loss: 1.3759 - val_mse: 1.3759 - val_mae: 1.1558 - val_root_mean_squared_error: 1.1730\n",
            "Epoch 91/150\n",
            "124/124 [==============================] - 2s 17ms/step - loss: 1.4646 - mse: 1.4646 - mae: 1.0037 - root_mean_squared_error: 1.2102 - val_loss: 0.1580 - val_mse: 0.1580 - val_mae: 0.3484 - val_root_mean_squared_error: 0.3975\n",
            "Epoch 92/150\n",
            "124/124 [==============================] - 3s 26ms/step - loss: 0.2028 - mse: 0.2028 - mae: 0.3661 - root_mean_squared_error: 0.4503 - val_loss: 0.7814 - val_mse: 0.7814 - val_mae: 0.8600 - val_root_mean_squared_error: 0.8840\n",
            "Epoch 93/150\n",
            "124/124 [==============================] - 2s 16ms/step - loss: 0.4563 - mse: 0.4563 - mae: 0.5654 - root_mean_squared_error: 0.6755 - val_loss: 0.1935 - val_mse: 0.1935 - val_mae: 0.3871 - val_root_mean_squared_error: 0.4399\n",
            "Epoch 94/150\n",
            "124/124 [==============================] - 2s 18ms/step - loss: 0.4839 - mse: 0.4839 - mae: 0.5704 - root_mean_squared_error: 0.6957 - val_loss: 0.3813 - val_mse: 0.3813 - val_mae: 0.5779 - val_root_mean_squared_error: 0.6175\n",
            "Epoch 95/150\n",
            "124/124 [==============================] - 2s 16ms/step - loss: 0.5867 - mse: 0.5867 - mae: 0.6421 - root_mean_squared_error: 0.7659 - val_loss: 0.4631 - val_mse: 0.4631 - val_mae: 0.6387 - val_root_mean_squared_error: 0.6805\n",
            "Epoch 96/150\n",
            "124/124 [==============================] - 2s 17ms/step - loss: 0.9572 - mse: 0.9572 - mae: 0.8168 - root_mean_squared_error: 0.9784 - val_loss: 0.0870 - val_mse: 0.0870 - val_mae: 0.2468 - val_root_mean_squared_error: 0.2950\n",
            "Epoch 97/150\n",
            "124/124 [==============================] - 3s 21ms/step - loss: 0.3060 - mse: 0.3060 - mae: 0.4443 - root_mean_squared_error: 0.5532 - val_loss: 1.4438 - val_mse: 1.4438 - val_mae: 1.1856 - val_root_mean_squared_error: 1.2016\n",
            "Epoch 98/150\n",
            "124/124 [==============================] - 3s 21ms/step - loss: 0.5228 - mse: 0.5228 - mae: 0.5821 - root_mean_squared_error: 0.7230 - val_loss: 1.4031 - val_mse: 1.4031 - val_mae: 1.1678 - val_root_mean_squared_error: 1.1845\n",
            "Epoch 99/150\n",
            "124/124 [==============================] - 2s 16ms/step - loss: 0.4917 - mse: 0.4917 - mae: 0.5699 - root_mean_squared_error: 0.7012 - val_loss: 1.4800 - val_mse: 1.4800 - val_mae: 1.1982 - val_root_mean_squared_error: 1.2165\n",
            "Epoch 100/150\n",
            "124/124 [==============================] - 2s 20ms/step - loss: 0.6637 - mse: 0.6637 - mae: 0.6514 - root_mean_squared_error: 0.8147 - val_loss: 0.4313 - val_mse: 0.4313 - val_mae: 0.6183 - val_root_mean_squared_error: 0.6567\n",
            "Epoch 101/150\n",
            "124/124 [==============================] - 3s 24ms/step - loss: 0.5204 - mse: 0.5204 - mae: 0.5975 - root_mean_squared_error: 0.7214 - val_loss: 1.1071 - val_mse: 1.1071 - val_mae: 1.0304 - val_root_mean_squared_error: 1.0522\n",
            "Epoch 102/150\n",
            "124/124 [==============================] - 3s 21ms/step - loss: 0.3384 - mse: 0.3384 - mae: 0.4747 - root_mean_squared_error: 0.5817 - val_loss: 0.8207 - val_mse: 0.8207 - val_mae: 0.8849 - val_root_mean_squared_error: 0.9059\n",
            "Epoch 103/150\n",
            "124/124 [==============================] - 3s 22ms/step - loss: 0.3238 - mse: 0.3238 - mae: 0.4595 - root_mean_squared_error: 0.5690 - val_loss: 0.0482 - val_mse: 0.0482 - val_mae: 0.1765 - val_root_mean_squared_error: 0.2195\n",
            "Epoch 104/150\n",
            "124/124 [==============================] - 2s 17ms/step - loss: 0.5043 - mse: 0.5043 - mae: 0.5774 - root_mean_squared_error: 0.7101 - val_loss: 0.1571 - val_mse: 0.1571 - val_mae: 0.3419 - val_root_mean_squared_error: 0.3964\n",
            "Epoch 105/150\n",
            "124/124 [==============================] - 2s 16ms/step - loss: 0.6947 - mse: 0.6947 - mae: 0.6725 - root_mean_squared_error: 0.8335 - val_loss: 0.0781 - val_mse: 0.0781 - val_mae: 0.2181 - val_root_mean_squared_error: 0.2795\n",
            "Epoch 106/150\n",
            "124/124 [==============================] - 2s 18ms/step - loss: 0.6338 - mse: 0.6338 - mae: 0.6734 - root_mean_squared_error: 0.7961 - val_loss: 0.1457 - val_mse: 0.1457 - val_mae: 0.3357 - val_root_mean_squared_error: 0.3817\n",
            "Epoch 107/150\n",
            "124/124 [==============================] - 2s 16ms/step - loss: 0.3180 - mse: 0.3180 - mae: 0.4572 - root_mean_squared_error: 0.5639 - val_loss: 0.1940 - val_mse: 0.1940 - val_mae: 0.3938 - val_root_mean_squared_error: 0.4404\n",
            "Epoch 108/150\n",
            "124/124 [==============================] - 3s 25ms/step - loss: 0.2976 - mse: 0.2976 - mae: 0.4358 - root_mean_squared_error: 0.5455 - val_loss: 0.0659 - val_mse: 0.0659 - val_mae: 0.2097 - val_root_mean_squared_error: 0.2567\n",
            "Epoch 109/150\n",
            "124/124 [==============================] - 2s 18ms/step - loss: 0.4871 - mse: 0.4871 - mae: 0.5793 - root_mean_squared_error: 0.6979 - val_loss: 0.7985 - val_mse: 0.7985 - val_mae: 0.8613 - val_root_mean_squared_error: 0.8936\n",
            "Epoch 110/150\n",
            "124/124 [==============================] - 2s 17ms/step - loss: 0.5708 - mse: 0.5708 - mae: 0.6441 - root_mean_squared_error: 0.7555 - val_loss: 1.1757 - val_mse: 1.1757 - val_mae: 1.0656 - val_root_mean_squared_error: 1.0843\n",
            "Epoch 111/150\n",
            "124/124 [==============================] - 2s 17ms/step - loss: 0.3243 - mse: 0.3243 - mae: 0.4355 - root_mean_squared_error: 0.5695 - val_loss: 0.5849 - val_mse: 0.5849 - val_mae: 0.7328 - val_root_mean_squared_error: 0.7648\n",
            "Epoch 112/150\n",
            "124/124 [==============================] - 2s 17ms/step - loss: 0.4533 - mse: 0.4533 - mae: 0.5269 - root_mean_squared_error: 0.6733 - val_loss: 0.0398 - val_mse: 0.0398 - val_mae: 0.1546 - val_root_mean_squared_error: 0.1994\n",
            "Epoch 113/150\n",
            "124/124 [==============================] - 2s 17ms/step - loss: 0.3215 - mse: 0.3215 - mae: 0.4615 - root_mean_squared_error: 0.5670 - val_loss: 1.6501 - val_mse: 1.6501 - val_mae: 1.2703 - val_root_mean_squared_error: 1.2845\n",
            "Epoch 114/150\n",
            "124/124 [==============================] - 3s 25ms/step - loss: 0.3472 - mse: 0.3472 - mae: 0.4746 - root_mean_squared_error: 0.5892 - val_loss: 0.7220 - val_mse: 0.7220 - val_mae: 0.8279 - val_root_mean_squared_error: 0.8497\n",
            "Epoch 115/150\n",
            "124/124 [==============================] - 2s 17ms/step - loss: 0.4241 - mse: 0.4241 - mae: 0.5029 - root_mean_squared_error: 0.6512 - val_loss: 1.4132 - val_mse: 1.4132 - val_mae: 1.1582 - val_root_mean_squared_error: 1.1888\n",
            "Epoch 116/150\n",
            "124/124 [==============================] - 2s 16ms/step - loss: 0.4506 - mse: 0.4506 - mae: 0.5323 - root_mean_squared_error: 0.6712 - val_loss: 0.0566 - val_mse: 0.0566 - val_mae: 0.1976 - val_root_mean_squared_error: 0.2380\n",
            "Epoch 117/150\n",
            "124/124 [==============================] - 2s 17ms/step - loss: 0.1956 - mse: 0.1956 - mae: 0.3478 - root_mean_squared_error: 0.4423 - val_loss: 0.0741 - val_mse: 0.0741 - val_mae: 0.2250 - val_root_mean_squared_error: 0.2722\n",
            "Epoch 118/150\n",
            "124/124 [==============================] - 2s 18ms/step - loss: 0.3862 - mse: 0.3862 - mae: 0.5011 - root_mean_squared_error: 0.6215 - val_loss: 0.1993 - val_mse: 0.1993 - val_mae: 0.4052 - val_root_mean_squared_error: 0.4464\n",
            "Epoch 119/150\n",
            "124/124 [==============================] - 3s 27ms/step - loss: 0.5305 - mse: 0.5305 - mae: 0.5920 - root_mean_squared_error: 0.7284 - val_loss: 0.5051 - val_mse: 0.5051 - val_mae: 0.6731 - val_root_mean_squared_error: 0.7107\n",
            "Epoch 120/150\n",
            "124/124 [==============================] - 3s 27ms/step - loss: 0.2260 - mse: 0.2260 - mae: 0.3915 - root_mean_squared_error: 0.4754 - val_loss: 2.1876 - val_mse: 2.1876 - val_mae: 1.4664 - val_root_mean_squared_error: 1.4791\n",
            "Epoch 121/150\n",
            "124/124 [==============================] - 2s 17ms/step - loss: 0.3792 - mse: 0.3792 - mae: 0.4972 - root_mean_squared_error: 0.6158 - val_loss: 1.4572 - val_mse: 1.4572 - val_mae: 1.1917 - val_root_mean_squared_error: 1.2072\n",
            "Epoch 122/150\n",
            "124/124 [==============================] - 2s 18ms/step - loss: 0.4163 - mse: 0.4163 - mae: 0.4929 - root_mean_squared_error: 0.6452 - val_loss: 0.5165 - val_mse: 0.5165 - val_mae: 0.6939 - val_root_mean_squared_error: 0.7186\n",
            "Epoch 123/150\n",
            "124/124 [==============================] - 2s 17ms/step - loss: 0.4859 - mse: 0.4859 - mae: 0.5645 - root_mean_squared_error: 0.6970 - val_loss: 0.0568 - val_mse: 0.0568 - val_mae: 0.1820 - val_root_mean_squared_error: 0.2383\n",
            "Epoch 124/150\n",
            "124/124 [==============================] - 2s 16ms/step - loss: 0.2113 - mse: 0.2113 - mae: 0.3626 - root_mean_squared_error: 0.4597 - val_loss: 0.0385 - val_mse: 0.0385 - val_mae: 0.1492 - val_root_mean_squared_error: 0.1963\n",
            "Epoch 125/150\n",
            "124/124 [==============================] - 3s 22ms/step - loss: 0.2391 - mse: 0.2391 - mae: 0.3980 - root_mean_squared_error: 0.4890 - val_loss: 0.2346 - val_mse: 0.2346 - val_mae: 0.4462 - val_root_mean_squared_error: 0.4843\n",
            "Epoch 126/150\n",
            "124/124 [==============================] - 3s 21ms/step - loss: 0.2426 - mse: 0.2426 - mae: 0.3997 - root_mean_squared_error: 0.4926 - val_loss: 1.5150 - val_mse: 1.5150 - val_mae: 1.2144 - val_root_mean_squared_error: 1.2308\n",
            "Epoch 127/150\n",
            "124/124 [==============================] - 2s 17ms/step - loss: 0.4050 - mse: 0.4050 - mae: 0.4840 - root_mean_squared_error: 0.6364 - val_loss: 0.8234 - val_mse: 0.8234 - val_mae: 0.8844 - val_root_mean_squared_error: 0.9074\n",
            "Epoch 128/150\n",
            "124/124 [==============================] - 2s 17ms/step - loss: 0.2743 - mse: 0.2743 - mae: 0.4332 - root_mean_squared_error: 0.5237 - val_loss: 0.3735 - val_mse: 0.3735 - val_mae: 0.5764 - val_root_mean_squared_error: 0.6112\n",
            "Epoch 129/150\n",
            "124/124 [==============================] - 2s 15ms/step - loss: 0.4234 - mse: 0.4234 - mae: 0.5275 - root_mean_squared_error: 0.6507 - val_loss: 0.3560 - val_mse: 0.3560 - val_mae: 0.5559 - val_root_mean_squared_error: 0.5967\n",
            "Epoch 130/150\n",
            "124/124 [==============================] - 2s 17ms/step - loss: 0.3264 - mse: 0.3264 - mae: 0.4352 - root_mean_squared_error: 0.5713 - val_loss: 0.0956 - val_mse: 0.0956 - val_mae: 0.2588 - val_root_mean_squared_error: 0.3092\n",
            "Epoch 131/150\n",
            "124/124 [==============================] - 3s 27ms/step - loss: 0.3617 - mse: 0.3617 - mae: 0.4867 - root_mean_squared_error: 0.6014 - val_loss: 0.5099 - val_mse: 0.5099 - val_mae: 0.6865 - val_root_mean_squared_error: 0.7141\n",
            "Epoch 132/150\n",
            "124/124 [==============================] - 2s 17ms/step - loss: 0.1756 - mse: 0.1756 - mae: 0.3393 - root_mean_squared_error: 0.4191 - val_loss: 0.0924 - val_mse: 0.0924 - val_mae: 0.2627 - val_root_mean_squared_error: 0.3039\n",
            "Epoch 133/150\n",
            "124/124 [==============================] - 2s 18ms/step - loss: 0.3422 - mse: 0.3422 - mae: 0.4814 - root_mean_squared_error: 0.5850 - val_loss: 0.1974 - val_mse: 0.1974 - val_mae: 0.4027 - val_root_mean_squared_error: 0.4443\n",
            "Epoch 134/150\n",
            "124/124 [==============================] - 2s 17ms/step - loss: 0.2574 - mse: 0.2574 - mae: 0.4111 - root_mean_squared_error: 0.5073 - val_loss: 0.2556 - val_mse: 0.2556 - val_mae: 0.4679 - val_root_mean_squared_error: 0.5056\n",
            "Epoch 135/150\n",
            "124/124 [==============================] - 2s 17ms/step - loss: 0.3337 - mse: 0.3337 - mae: 0.4790 - root_mean_squared_error: 0.5777 - val_loss: 0.4255 - val_mse: 0.4255 - val_mae: 0.6184 - val_root_mean_squared_error: 0.6523\n",
            "Epoch 136/150\n",
            "124/124 [==============================] - 3s 21ms/step - loss: 0.2383 - mse: 0.2383 - mae: 0.3986 - root_mean_squared_error: 0.4881 - val_loss: 0.0406 - val_mse: 0.0406 - val_mae: 0.1605 - val_root_mean_squared_error: 0.2015\n",
            "Epoch 137/150\n",
            "124/124 [==============================] - 4s 29ms/step - loss: 0.2157 - mse: 0.2157 - mae: 0.3768 - root_mean_squared_error: 0.4645 - val_loss: 0.3075 - val_mse: 0.3075 - val_mae: 0.5220 - val_root_mean_squared_error: 0.5546\n",
            "Epoch 138/150\n",
            "124/124 [==============================] - 2s 19ms/step - loss: 0.2614 - mse: 0.2614 - mae: 0.4200 - root_mean_squared_error: 0.5112 - val_loss: 0.5108 - val_mse: 0.5108 - val_mae: 0.6902 - val_root_mean_squared_error: 0.7147\n",
            "Epoch 139/150\n",
            "124/124 [==============================] - 2s 16ms/step - loss: 0.2380 - mse: 0.2380 - mae: 0.3957 - root_mean_squared_error: 0.4879 - val_loss: 0.0541 - val_mse: 0.0541 - val_mae: 0.1821 - val_root_mean_squared_error: 0.2325\n",
            "Epoch 140/150\n",
            "124/124 [==============================] - 2s 17ms/step - loss: 0.2681 - mse: 0.2681 - mae: 0.4211 - root_mean_squared_error: 0.5177 - val_loss: 0.1952 - val_mse: 0.1952 - val_mae: 0.3986 - val_root_mean_squared_error: 0.4418\n",
            "Epoch 141/150\n",
            "124/124 [==============================] - 2s 18ms/step - loss: 0.2740 - mse: 0.2740 - mae: 0.4169 - root_mean_squared_error: 0.5235 - val_loss: 0.8783 - val_mse: 0.8783 - val_mae: 0.9143 - val_root_mean_squared_error: 0.9372\n",
            "Epoch 142/150\n",
            "124/124 [==============================] - 3s 26ms/step - loss: 0.3518 - mse: 0.3518 - mae: 0.4412 - root_mean_squared_error: 0.5931 - val_loss: 0.4559 - val_mse: 0.4559 - val_mae: 0.6493 - val_root_mean_squared_error: 0.6752\n",
            "Epoch 143/150\n",
            "124/124 [==============================] - 2s 17ms/step - loss: 0.3267 - mse: 0.3267 - mae: 0.4316 - root_mean_squared_error: 0.5716 - val_loss: 0.0376 - val_mse: 0.0376 - val_mae: 0.1490 - val_root_mean_squared_error: 0.1938\n",
            "Epoch 144/150\n",
            "124/124 [==============================] - 2s 17ms/step - loss: 0.2596 - mse: 0.2596 - mae: 0.4104 - root_mean_squared_error: 0.5095 - val_loss: 0.1337 - val_mse: 0.1337 - val_mae: 0.3234 - val_root_mean_squared_error: 0.3656\n",
            "Epoch 145/150\n",
            "124/124 [==============================] - 2s 17ms/step - loss: 0.1456 - mse: 0.1456 - mae: 0.3068 - root_mean_squared_error: 0.3815 - val_loss: 0.1396 - val_mse: 0.1396 - val_mae: 0.3331 - val_root_mean_squared_error: 0.3736\n",
            "Epoch 146/150\n",
            "124/124 [==============================] - 2s 17ms/step - loss: 0.2186 - mse: 0.2186 - mae: 0.3614 - root_mean_squared_error: 0.4676 - val_loss: 0.1525 - val_mse: 0.1525 - val_mae: 0.3470 - val_root_mean_squared_error: 0.3905\n",
            "Epoch 147/150\n",
            "124/124 [==============================] - 3s 23ms/step - loss: 0.1318 - mse: 0.1318 - mae: 0.2900 - root_mean_squared_error: 0.3631 - val_loss: 0.7540 - val_mse: 0.7540 - val_mae: 0.8482 - val_root_mean_squared_error: 0.8683\n",
            "Epoch 148/150\n",
            "124/124 [==============================] - 3s 22ms/step - loss: 0.2108 - mse: 0.2108 - mae: 0.3755 - root_mean_squared_error: 0.4592 - val_loss: 0.0761 - val_mse: 0.0761 - val_mae: 0.2317 - val_root_mean_squared_error: 0.2759\n",
            "Epoch 149/150\n",
            "124/124 [==============================] - 2s 18ms/step - loss: 0.2646 - mse: 0.2646 - mae: 0.4341 - root_mean_squared_error: 0.5144 - val_loss: 0.0729 - val_mse: 0.0729 - val_mae: 0.2236 - val_root_mean_squared_error: 0.2700\n",
            "Epoch 150/150\n",
            "124/124 [==============================] - 2s 17ms/step - loss: 0.3112 - mse: 0.3112 - mae: 0.4613 - root_mean_squared_error: 0.5578 - val_loss: 0.0368 - val_mse: 0.0368 - val_mae: 0.1485 - val_root_mean_squared_error: 0.1918\n"
          ]
        }
      ],
      "source": [
        "import tensorflow as tf\n",
        "import numpy as np\n",
        "import tensorflow as tf\n",
        "from tensorflow.keras.metrics import RootMeanSquaredError\n",
        "\n",
        "# Reshape the input data to be suitable for CNN\n",
        "X_train = X_training_norm.reshape(X_training_norm.shape[0], X_training_norm.shape[1], 1)\n",
        "X_val = X_valid_norm.reshape(X_valid_norm.shape[0], X_valid_norm.shape[1], 1)\n",
        "y_train = y_training\n",
        "y_val = y_valid\n",
        "\n",
        "length = len(X_training.columns)\n",
        "\n",
        "# Define the model architecture\n",
        "model = tf.keras.models.Sequential()\n",
        "model.add(tf.keras.layers.Conv1D(filters=64, kernel_size=kernel, activation='relu', input_shape=(length,1)))\n",
        "model.add(tf.keras.layers.Conv1D(filters=128, kernel_size=kernel, activation='relu'))\n",
        "model.add(tf.keras.layers.Conv1D(filters=256, kernel_size=kernel, activation='relu'))\n",
        "model.add(tf.keras.layers.MaxPooling1D(pool_size=2))\n",
        "model.add(tf.keras.layers.Flatten())\n",
        "for i in range(length):\n",
        "    model.add(tf.keras.layers.Dense(neuron, activation='relu'))\n",
        "model.add(tf.keras.layers.Dense(1))\n",
        "\n",
        "# Compile the model with appropriate loss function and metrics\n",
        "model.compile(optimizer='adam', loss='mean_squared_error', metrics=['mse', 'mae', RootMeanSquaredError()])\n",
        "\n",
        "# Train the model and store the training history\n",
        "history = model.fit(X_train, y_train, batch_size=32, epochs=150, verbose=1, validation_data=(X_val,y_val))"
      ]
    },
    {
      "cell_type": "code",
      "execution_count": 24,
      "metadata": {
        "colab": {
          "base_uri": "https://localhost:8080/",
          "height": 604
        },
        "id": "gqVM5LFTGGcU",
        "outputId": "b824a055-7309-4230-bfc7-bb73dc1f1d2d"
      },
      "outputs": [
        {
          "output_type": "stream",
          "name": "stdout",
          "text": [
            "53/53 [==============================] - 0s 7ms/step - loss: 0.0368 - mse: 0.0368 - mae: 0.1485 - root_mean_squared_error: 0.1918\n"
          ]
        },
        {
          "output_type": "display_data",
          "data": {
            "text/html": [
              "<html>\n",
              "<head><meta charset=\"utf-8\" /></head>\n",
              "<body>\n",
              "    <div>            <script src=\"https://cdnjs.cloudflare.com/ajax/libs/mathjax/2.7.5/MathJax.js?config=TeX-AMS-MML_SVG\"></script><script type=\"text/javascript\">if (window.MathJax) {MathJax.Hub.Config({SVG: {font: \"STIX-Web\"}});}</script>                <script type=\"text/javascript\">window.PlotlyConfig = {MathJaxConfig: 'local'};</script>\n",
              "        <script src=\"https://cdn.plot.ly/plotly-2.8.3.min.js\"></script>                <div id=\"7575f526-d90f-47ee-8683-3076d4ab4d64\" class=\"plotly-graph-div\" style=\"height:500px; width:1100px;\"></div>            <script type=\"text/javascript\">                                    window.PLOTLYENV=window.PLOTLYENV || {};                                    if (document.getElementById(\"7575f526-d90f-47ee-8683-3076d4ab4d64\")) {                    Plotly.newPlot(                        \"7575f526-d90f-47ee-8683-3076d4ab4d64\",                        [{\"hovertemplate\":\"Dataset=loss<br>x=%{x}<br>Loss=%{y}<extra></extra>\",\"legendgroup\":\"loss\",\"line\":{\"color\":\"#636efa\",\"dash\":\"solid\"},\"marker\":{\"symbol\":\"circle\"},\"mode\":\"lines\",\"name\":\"loss\",\"orientation\":\"v\",\"showlegend\":true,\"x\":[0,1,2,3,4,5,6,7,8,9,10,11,12,13,14,15,16,17,18,19,20,21,22,23,24,25,26,27,28,29,30,31,32,33,34,35,36,37,38,39,40,41,42,43,44,45,46,47,48,49,50,51,52,53,54,55,56,57,58,59,60,61,62,63,64,65,66,67,68,69,70,71,72,73,74,75,76,77,78,79,80,81,82,83,84,85,86,87,88,89,90,91,92,93,94,95,96,97,98,99,100,101,102,103,104,105,106,107,108,109,110,111,112,113,114,115,116,117,118,119,120,121,122,123,124,125,126,127,128,129,130,131,132,133,134,135,136,137,138,139,140,141,142,143,144,145,146,147,148,149],\"xaxis\":\"x\",\"y\":[747.6780395507812,0.7476548552513123,0.366364449262619,0.23362907767295837,0.19297395646572113,0.16736763715744019,0.14700907468795776,0.12218854576349258,0.175485298037529,0.10020890831947327,0.20650283992290497,0.2804044187068939,0.25038522481918335,0.43419149518013,0.4664943218231201,0.999249279499054,1.1549962759017944,1.3839800357818604,1.752474308013916,1.6332560777664185,1.2773407697677612,1.9958330392837524,2.177554130554199,0.867794930934906,1.7571877241134644,1.6802279949188232,0.9966909289360046,1.3179471492767334,2.504657506942749,0.657899796962738,1.5488961935043335,1.9657957553863525,1.292446494102478,1.2284660339355469,1.0798345804214478,1.4209423065185547,1.0955396890640259,1.5960408449172974,1.7188382148742676,1.3095399141311646,1.337811827659607,0.783046543598175,1.594984531402588,0.9222083687782288,1.4597359895706177,1.317116618156433,1.0532560348510742,1.310222864151001,1.2058100700378418,0.7968466877937317,0.8470982909202576,1.4951344728469849,0.7736552357673645,1.211539387702942,0.9124283194541931,0.8079913258552551,1.0714960098266602,1.781337022781372,0.531731367111206,0.5476418137550354,1.8698172569274902,0.6021507978439331,0.9696415066719055,0.5990580320358276,0.7932655811309814,0.7899003624916077,0.9628061652183533,1.1484695672988892,1.2206414937973022,0.3860108554363251,1.0851105451583862,0.4459114372730255,0.7840999960899353,0.8818884491920471,1.0928430557250977,0.5161044597625732,0.87887042760849,0.6269632577896118,0.8262859582901001,0.5789108276367188,0.6435567140579224,1.0071911811828613,0.5407355427742004,0.7529261112213135,0.7414262890815735,0.5343700647354126,0.8733624219894409,0.4749840497970581,0.5019622445106506,0.4358917474746704,1.464583158493042,0.20278462767601013,0.45633062720298767,0.483930379152298,0.5866648554801941,0.9572162628173828,0.306020587682724,0.5227776765823364,0.49166885018348694,0.6636877059936523,0.5203951597213745,0.33837056159973145,0.323769748210907,0.5042615532875061,0.6947065591812134,0.6338205933570862,0.3179623782634735,0.2975759208202362,0.4870821535587311,0.5708045959472656,0.32434579730033875,0.4533165693283081,0.32145529985427856,0.3472139239311218,0.4240874946117401,0.4505506157875061,0.19559694826602936,0.3862024247646332,0.5305455923080444,0.2260483056306839,0.37915733456611633,0.41630715131759644,0.48586326837539673,0.2113264799118042,0.2391449213027954,0.24261198937892914,0.4049922823905945,0.27429303526878357,0.4234035611152649,0.32643693685531616,0.3616902232170105,0.17563419044017792,0.3421843349933624,0.2573699951171875,0.3337443172931671,0.23825407028198242,0.21572983264923096,0.2613682448863983,0.23802024126052856,0.2680644392967224,0.27402263879776,0.3518080711364746,0.32673773169517517,0.25959551334381104,0.14557696878910065,0.2186446487903595,0.1318146139383316,0.21083283424377441,0.2646024227142334,0.31118038296699524],\"yaxis\":\"y\",\"type\":\"scatter\"},{\"hovertemplate\":\"Dataset=val_loss<br>x=%{x}<br>Loss=%{y}<extra></extra>\",\"legendgroup\":\"val_loss\",\"line\":{\"color\":\"#EF553B\",\"dash\":\"solid\"},\"marker\":{\"symbol\":\"circle\"},\"mode\":\"lines\",\"name\":\"val_loss\",\"orientation\":\"v\",\"showlegend\":true,\"x\":[0,1,2,3,4,5,6,7,8,9,10,11,12,13,14,15,16,17,18,19,20,21,22,23,24,25,26,27,28,29,30,31,32,33,34,35,36,37,38,39,40,41,42,43,44,45,46,47,48,49,50,51,52,53,54,55,56,57,58,59,60,61,62,63,64,65,66,67,68,69,70,71,72,73,74,75,76,77,78,79,80,81,82,83,84,85,86,87,88,89,90,91,92,93,94,95,96,97,98,99,100,101,102,103,104,105,106,107,108,109,110,111,112,113,114,115,116,117,118,119,120,121,122,123,124,125,126,127,128,129,130,131,132,133,134,135,136,137,138,139,140,141,142,143,144,145,146,147,148,149],\"xaxis\":\"x\",\"y\":[0.9747853875160217,0.6144015192985535,0.27159687876701355,0.16660796105861664,0.13628533482551575,0.10405975580215454,0.1919865906238556,0.12054740637540817,0.11498170346021652,0.06779425591230392,0.4622550308704376,0.057941872626543045,0.32209429144859314,0.07153565436601639,0.08293869346380234,4.2534894943237305,0.07233589887619019,1.617583990097046,0.7154132127761841,2.476062297821045,1.2021952867507935,0.485451340675354,0.07209645956754684,4.313175678253174,0.09468847513198853,0.4721236824989319,2.781477689743042,0.09204179048538208,0.10291269421577454,3.1164989471435547,0.15063391625881195,0.18171200156211853,0.18444113433361053,0.19761641323566437,0.1648353487253189,0.6931378245353699,0.12497761100530624,0.36584335565567017,1.2513231039047241,2.9468460083007812,0.04496441408991814,5.1964216232299805,0.13568122684955597,0.15614239871501923,0.12172076106071472,0.4678857624530792,0.7709258794784546,0.07348030060529709,0.7678883671760559,0.48615536093711853,2.797757863998413,0.21280118823051453,0.8736972808837891,0.1269586831331253,0.07199546694755554,0.07200752198696136,0.15201595425605774,3.6181654930114746,0.7219295501708984,1.5666286945343018,0.1316561996936798,0.25106972455978394,0.45120757818222046,0.7864406108856201,1.351168155670166,2.0806777477264404,0.04690365865826607,0.04871663451194763,3.328953266143799,0.7274118065834045,1.8373658657073975,0.20238828659057617,0.05582476779818535,0.4994942545890808,0.3437221944332123,6.455548286437988,0.5936708450317383,0.22465895116329193,1.5504794120788574,0.22361379861831665,0.07044833153486252,0.9942517280578613,1.7286971807479858,0.9267692565917969,0.1683313399553299,0.08301320672035217,2.1730074882507324,0.043733250349760056,0.19343441724777222,1.3759008646011353,0.15799248218536377,0.7813775539398193,0.19350405037403107,0.38131237030029297,0.46314746141433716,0.08704467117786407,1.4438056945800781,1.403079867362976,1.4799532890319824,0.43128296732902527,1.1070711612701416,0.8207328915596008,0.0481928288936615,0.15710842609405518,0.07811561226844788,0.14568176865577698,0.19396784901618958,0.06586930900812149,0.7984895706176758,1.175700068473816,0.5849245190620422,0.03977474942803383,1.650060772895813,0.722028374671936,1.4132499694824219,0.05663089081645012,0.07409645617008209,0.19926674664020538,0.505059003829956,2.1875994205474854,1.4572272300720215,0.5164577960968018,0.05680422484874725,0.03854365646839142,0.2345774620771408,1.51496160030365,0.8233868479728699,0.3735382556915283,0.3559935390949249,0.09562400728464127,0.5098944902420044,0.09235197305679321,0.19739997386932373,0.25559020042419434,0.4254884123802185,0.040602151304483414,0.3075340688228607,0.5107665061950684,0.05406185984611511,0.1952095776796341,0.8782641291618347,0.4558979272842407,0.03756973519921303,0.13369198143482208,0.13959285616874695,0.15250471234321594,0.7539999485015869,0.07613030076026917,0.07289779186248779,0.03679409623146057],\"yaxis\":\"y\",\"type\":\"scatter\"}],                        {\"template\":{\"data\":{\"barpolar\":[{\"marker\":{\"line\":{\"color\":\"rgb(237,237,237)\",\"width\":0.5},\"pattern\":{\"fillmode\":\"overlay\",\"size\":10,\"solidity\":0.2}},\"type\":\"barpolar\"}],\"bar\":[{\"error_x\":{\"color\":\"rgb(51,51,51)\"},\"error_y\":{\"color\":\"rgb(51,51,51)\"},\"marker\":{\"line\":{\"color\":\"rgb(237,237,237)\",\"width\":0.5},\"pattern\":{\"fillmode\":\"overlay\",\"size\":10,\"solidity\":0.2}},\"type\":\"bar\"}],\"carpet\":[{\"aaxis\":{\"endlinecolor\":\"rgb(51,51,51)\",\"gridcolor\":\"white\",\"linecolor\":\"white\",\"minorgridcolor\":\"white\",\"startlinecolor\":\"rgb(51,51,51)\"},\"baxis\":{\"endlinecolor\":\"rgb(51,51,51)\",\"gridcolor\":\"white\",\"linecolor\":\"white\",\"minorgridcolor\":\"white\",\"startlinecolor\":\"rgb(51,51,51)\"},\"type\":\"carpet\"}],\"choropleth\":[{\"colorbar\":{\"outlinewidth\":0,\"tickcolor\":\"rgb(237,237,237)\",\"ticklen\":6,\"ticks\":\"inside\"},\"type\":\"choropleth\"}],\"contourcarpet\":[{\"colorbar\":{\"outlinewidth\":0,\"tickcolor\":\"rgb(237,237,237)\",\"ticklen\":6,\"ticks\":\"inside\"},\"type\":\"contourcarpet\"}],\"contour\":[{\"colorbar\":{\"outlinewidth\":0,\"tickcolor\":\"rgb(237,237,237)\",\"ticklen\":6,\"ticks\":\"inside\"},\"colorscale\":[[0,\"rgb(20,44,66)\"],[1,\"rgb(90,179,244)\"]],\"type\":\"contour\"}],\"heatmapgl\":[{\"colorbar\":{\"outlinewidth\":0,\"tickcolor\":\"rgb(237,237,237)\",\"ticklen\":6,\"ticks\":\"inside\"},\"colorscale\":[[0,\"rgb(20,44,66)\"],[1,\"rgb(90,179,244)\"]],\"type\":\"heatmapgl\"}],\"heatmap\":[{\"colorbar\":{\"outlinewidth\":0,\"tickcolor\":\"rgb(237,237,237)\",\"ticklen\":6,\"ticks\":\"inside\"},\"colorscale\":[[0,\"rgb(20,44,66)\"],[1,\"rgb(90,179,244)\"]],\"type\":\"heatmap\"}],\"histogram2dcontour\":[{\"colorbar\":{\"outlinewidth\":0,\"tickcolor\":\"rgb(237,237,237)\",\"ticklen\":6,\"ticks\":\"inside\"},\"colorscale\":[[0,\"rgb(20,44,66)\"],[1,\"rgb(90,179,244)\"]],\"type\":\"histogram2dcontour\"}],\"histogram2d\":[{\"colorbar\":{\"outlinewidth\":0,\"tickcolor\":\"rgb(237,237,237)\",\"ticklen\":6,\"ticks\":\"inside\"},\"colorscale\":[[0,\"rgb(20,44,66)\"],[1,\"rgb(90,179,244)\"]],\"type\":\"histogram2d\"}],\"histogram\":[{\"marker\":{\"pattern\":{\"fillmode\":\"overlay\",\"size\":10,\"solidity\":0.2}},\"type\":\"histogram\"}],\"mesh3d\":[{\"colorbar\":{\"outlinewidth\":0,\"tickcolor\":\"rgb(237,237,237)\",\"ticklen\":6,\"ticks\":\"inside\"},\"type\":\"mesh3d\"}],\"parcoords\":[{\"line\":{\"colorbar\":{\"outlinewidth\":0,\"tickcolor\":\"rgb(237,237,237)\",\"ticklen\":6,\"ticks\":\"inside\"}},\"type\":\"parcoords\"}],\"pie\":[{\"automargin\":true,\"type\":\"pie\"}],\"scatter3d\":[{\"line\":{\"colorbar\":{\"outlinewidth\":0,\"tickcolor\":\"rgb(237,237,237)\",\"ticklen\":6,\"ticks\":\"inside\"}},\"marker\":{\"colorbar\":{\"outlinewidth\":0,\"tickcolor\":\"rgb(237,237,237)\",\"ticklen\":6,\"ticks\":\"inside\"}},\"type\":\"scatter3d\"}],\"scattercarpet\":[{\"marker\":{\"colorbar\":{\"outlinewidth\":0,\"tickcolor\":\"rgb(237,237,237)\",\"ticklen\":6,\"ticks\":\"inside\"}},\"type\":\"scattercarpet\"}],\"scattergeo\":[{\"marker\":{\"colorbar\":{\"outlinewidth\":0,\"tickcolor\":\"rgb(237,237,237)\",\"ticklen\":6,\"ticks\":\"inside\"}},\"type\":\"scattergeo\"}],\"scattergl\":[{\"marker\":{\"colorbar\":{\"outlinewidth\":0,\"tickcolor\":\"rgb(237,237,237)\",\"ticklen\":6,\"ticks\":\"inside\"}},\"type\":\"scattergl\"}],\"scattermapbox\":[{\"marker\":{\"colorbar\":{\"outlinewidth\":0,\"tickcolor\":\"rgb(237,237,237)\",\"ticklen\":6,\"ticks\":\"inside\"}},\"type\":\"scattermapbox\"}],\"scatterpolargl\":[{\"marker\":{\"colorbar\":{\"outlinewidth\":0,\"tickcolor\":\"rgb(237,237,237)\",\"ticklen\":6,\"ticks\":\"inside\"}},\"type\":\"scatterpolargl\"}],\"scatterpolar\":[{\"marker\":{\"colorbar\":{\"outlinewidth\":0,\"tickcolor\":\"rgb(237,237,237)\",\"ticklen\":6,\"ticks\":\"inside\"}},\"type\":\"scatterpolar\"}],\"scatter\":[{\"marker\":{\"colorbar\":{\"outlinewidth\":0,\"tickcolor\":\"rgb(237,237,237)\",\"ticklen\":6,\"ticks\":\"inside\"}},\"type\":\"scatter\"}],\"scatterternary\":[{\"marker\":{\"colorbar\":{\"outlinewidth\":0,\"tickcolor\":\"rgb(237,237,237)\",\"ticklen\":6,\"ticks\":\"inside\"}},\"type\":\"scatterternary\"}],\"surface\":[{\"colorbar\":{\"outlinewidth\":0,\"tickcolor\":\"rgb(237,237,237)\",\"ticklen\":6,\"ticks\":\"inside\"},\"colorscale\":[[0,\"rgb(20,44,66)\"],[1,\"rgb(90,179,244)\"]],\"type\":\"surface\"}],\"table\":[{\"cells\":{\"fill\":{\"color\":\"rgb(237,237,237)\"},\"line\":{\"color\":\"white\"}},\"header\":{\"fill\":{\"color\":\"rgb(217,217,217)\"},\"line\":{\"color\":\"white\"}},\"type\":\"table\"}]},\"layout\":{\"annotationdefaults\":{\"arrowhead\":0,\"arrowwidth\":1},\"autotypenumbers\":\"strict\",\"coloraxis\":{\"colorbar\":{\"outlinewidth\":0,\"tickcolor\":\"rgb(237,237,237)\",\"ticklen\":6,\"ticks\":\"inside\"}},\"colorscale\":{\"sequential\":[[0,\"rgb(20,44,66)\"],[1,\"rgb(90,179,244)\"]],\"sequentialminus\":[[0,\"rgb(20,44,66)\"],[1,\"rgb(90,179,244)\"]]},\"colorway\":[\"#F8766D\",\"#A3A500\",\"#00BF7D\",\"#00B0F6\",\"#E76BF3\"],\"font\":{\"color\":\"rgb(51,51,51)\"},\"geo\":{\"bgcolor\":\"white\",\"lakecolor\":\"white\",\"landcolor\":\"rgb(237,237,237)\",\"showlakes\":true,\"showland\":true,\"subunitcolor\":\"white\"},\"hoverlabel\":{\"align\":\"left\"},\"hovermode\":\"closest\",\"paper_bgcolor\":\"white\",\"plot_bgcolor\":\"rgb(237,237,237)\",\"polar\":{\"angularaxis\":{\"gridcolor\":\"white\",\"linecolor\":\"white\",\"showgrid\":true,\"tickcolor\":\"rgb(51,51,51)\",\"ticks\":\"outside\"},\"bgcolor\":\"rgb(237,237,237)\",\"radialaxis\":{\"gridcolor\":\"white\",\"linecolor\":\"white\",\"showgrid\":true,\"tickcolor\":\"rgb(51,51,51)\",\"ticks\":\"outside\"}},\"scene\":{\"xaxis\":{\"backgroundcolor\":\"rgb(237,237,237)\",\"gridcolor\":\"white\",\"gridwidth\":2,\"linecolor\":\"white\",\"showbackground\":true,\"showgrid\":true,\"tickcolor\":\"rgb(51,51,51)\",\"ticks\":\"outside\",\"zerolinecolor\":\"white\"},\"yaxis\":{\"backgroundcolor\":\"rgb(237,237,237)\",\"gridcolor\":\"white\",\"gridwidth\":2,\"linecolor\":\"white\",\"showbackground\":true,\"showgrid\":true,\"tickcolor\":\"rgb(51,51,51)\",\"ticks\":\"outside\",\"zerolinecolor\":\"white\"},\"zaxis\":{\"backgroundcolor\":\"rgb(237,237,237)\",\"gridcolor\":\"white\",\"gridwidth\":2,\"linecolor\":\"white\",\"showbackground\":true,\"showgrid\":true,\"tickcolor\":\"rgb(51,51,51)\",\"ticks\":\"outside\",\"zerolinecolor\":\"white\"}},\"shapedefaults\":{\"fillcolor\":\"black\",\"line\":{\"width\":0},\"opacity\":0.3},\"ternary\":{\"aaxis\":{\"gridcolor\":\"white\",\"linecolor\":\"white\",\"showgrid\":true,\"tickcolor\":\"rgb(51,51,51)\",\"ticks\":\"outside\"},\"baxis\":{\"gridcolor\":\"white\",\"linecolor\":\"white\",\"showgrid\":true,\"tickcolor\":\"rgb(51,51,51)\",\"ticks\":\"outside\"},\"bgcolor\":\"rgb(237,237,237)\",\"caxis\":{\"gridcolor\":\"white\",\"linecolor\":\"white\",\"showgrid\":true,\"tickcolor\":\"rgb(51,51,51)\",\"ticks\":\"outside\"}},\"xaxis\":{\"automargin\":true,\"gridcolor\":\"white\",\"linecolor\":\"white\",\"showgrid\":true,\"tickcolor\":\"rgb(51,51,51)\",\"ticks\":\"outside\",\"title\":{\"standoff\":15},\"zerolinecolor\":\"white\"},\"yaxis\":{\"automargin\":true,\"gridcolor\":\"white\",\"linecolor\":\"white\",\"showgrid\":true,\"tickcolor\":\"rgb(51,51,51)\",\"ticks\":\"outside\",\"title\":{\"standoff\":15},\"zerolinecolor\":\"white\"}}},\"xaxis\":{\"anchor\":\"y\",\"domain\":[0.0,1.0],\"title\":{\"text\":\"Epoch Number\"}},\"yaxis\":{\"anchor\":\"x\",\"domain\":[0.0,1.0],\"title\":{\"text\":\"Loss\"},\"range\":[-1,10]},\"legend\":{\"title\":{\"text\":\"Dataset\"},\"tracegroupgap\":0},\"margin\":{\"t\":60},\"title\":{\"text\":\"Trend of Training process\"},\"width\":1100,\"height\":500},                        {\"responsive\": true}                    ).then(function(){\n",
              "                            \n",
              "var gd = document.getElementById('7575f526-d90f-47ee-8683-3076d4ab4d64');\n",
              "var x = new MutationObserver(function (mutations, observer) {{\n",
              "        var display = window.getComputedStyle(gd).display;\n",
              "        if (!display || display === 'none') {{\n",
              "            console.log([gd, 'removed!']);\n",
              "            Plotly.purge(gd);\n",
              "            observer.disconnect();\n",
              "        }}\n",
              "}});\n",
              "\n",
              "// Listen for the removal of the full notebook cells\n",
              "var notebookContainer = gd.closest('#notebook-container');\n",
              "if (notebookContainer) {{\n",
              "    x.observe(notebookContainer, {childList: true});\n",
              "}}\n",
              "\n",
              "// Listen for the clearing of the current output cell\n",
              "var outputEl = gd.closest('.output');\n",
              "if (outputEl) {{\n",
              "    x.observe(outputEl, {childList: true});\n",
              "}}\n",
              "\n",
              "                        })                };                            </script>        </div>\n",
              "</body>\n",
              "</html>"
            ]
          },
          "metadata": {}
        },
        {
          "output_type": "stream",
          "name": "stdout",
          "text": [
            "Validation loss: 0.03679409623146057\n",
            "Validation MAE: 0.1485123485326767\n",
            "Validation MSE: 0.03679409623146057\n",
            "Validation RMSE:  0.19181787255482888\n"
          ]
        }
      ],
      "source": [
        "import plotly.express as px\n",
        "\n",
        "# Evaluate the model on the testing set\n",
        "score = model.evaluate(X_val, y_val)\n",
        "\n",
        "# Extract the losses from the training history\n",
        "losses = history.history['loss']\n",
        "val_losses = history.history['val_loss']\n",
        "\n",
        "# Create the plot\n",
        "fig = px.line(\n",
        "      history.history, x=history.epoch, y=['loss', 'val_loss'], \n",
        "      labels={'value': 'Loss', 'variable': 'Dataset'})\n",
        "\n",
        "# set the scale for x and y axis\n",
        "fig.update_yaxes(range=[-1, 10])\n",
        "\n",
        "# add axis labels and title\n",
        "fig.update_layout(\n",
        "    title='Trend of Training process',\n",
        "    xaxis_title='Epoch Number',\n",
        "    yaxis_title='Loss', width=1100, height=500, template=\"ggplot2\")\n",
        "\n",
        "# show the plot\n",
        "fig.show()\n",
        "\n",
        "# Print the evaluation score\n",
        "print(f'Validation loss: {score[0]}')\n",
        "print(f'Validation MAE: {score[2]}')\n",
        "print(f'Validation MSE: {score[1]}')\n",
        "print(\"Validation RMSE: \", np.sqrt(score[1]))"
      ]
    },
    {
      "cell_type": "code",
      "execution_count": 25,
      "metadata": {
        "id": "nuooA6vfHxJh"
      },
      "outputs": [],
      "source": [
        "def predict (X_var):\n",
        "  import numpy as np\n",
        "  from sklearn.preprocessing import MinMaxScaler\n",
        "  \n",
        "  # Normalize the selected features using MinMaxScaler\n",
        "  scaler = MinMaxScaler()\n",
        "  X_var_norm = scaler.fit_transform(X_var)\n",
        "\n",
        "  # Reshape the input data to be suitable for CNN\n",
        "  fX_unseen = X_var_norm.reshape(X_var_norm.shape[0], X_var_norm.shape[1], 1)\n",
        "\n",
        "  # Evaluate the model on the test data\n",
        "  fy_pred = model.predict(fX_unseen)\n",
        "  return fy_pred"
      ]
    },
    {
      "cell_type": "code",
      "execution_count": 26,
      "metadata": {
        "colab": {
          "base_uri": "https://localhost:8080/"
        },
        "id": "vst2uGAoJAH0",
        "outputId": "7eed9bb2-c6bd-410d-accf-f88cc921da0e"
      },
      "outputs": [
        {
          "output_type": "stream",
          "name": "stdout",
          "text": [
            "45/45 [==============================] - 0s 3ms/step\n",
            "Testing MAE: 0.1879\n",
            "Testing MSE: 0.0643\n",
            "Testing RMSE: 0.2535\n"
          ]
        }
      ],
      "source": [
        "import numpy as np\n",
        "from sklearn.metrics import mean_absolute_error, mean_squared_error\n",
        "\n",
        "# Load the trained model\n",
        "#model = tf.keras.models.load_model('model.h5')\n",
        "\n",
        "# Evaluate the model on the test data\n",
        "y_pred = predict(X_test)\n",
        "\n",
        "# Scoring\n",
        "mae = mean_absolute_error(y_test, y_pred)\n",
        "mse = mean_squared_error(y_test, y_pred)\n",
        "rmse = np.sqrt(mse)\n",
        "\n",
        "# Print the scores\n",
        "print(f\"Testing MAE: {mae:.4f}\")\n",
        "print(f\"Testing MSE: {mse:.4f}\")\n",
        "print(f\"Testing RMSE: {rmse:.4f}\")"
      ]
    },
    {
      "cell_type": "code",
      "execution_count": 27,
      "metadata": {
        "id": "Jnn_WO6GMwtI"
      },
      "outputs": [],
      "source": [
        "def plotting_prediction (y_test_data, y_pred_data):\n",
        "  import plotly.express as px\n",
        "  # Create a table to compare the predicted and actual values\n",
        "  compare_df = pd.DataFrame({'Actual': y_test_data, 'Predicted': y_pred_data.reshape(-1)})\n",
        "\n",
        "  # create the scatter plot\n",
        "  fig = px.scatter(compare_df, y='Actual', x='Predicted', trendline='ols', color='Actual',\n",
        "                  color_continuous_scale='Viridis', opacity=0.7)\n",
        "\n",
        "  # add axis labels and title\n",
        "  fig.update_layout(\n",
        "      title='Predicted vs Actual Values',\n",
        "      yaxis_title='Actual Value',\n",
        "      xaxis_title='Predicted Value', width=1000, height=1000)\n",
        "\n",
        "  # show the plot\n",
        "  fig.show()"
      ]
    },
    {
      "cell_type": "code",
      "execution_count": 28,
      "metadata": {
        "colab": {
          "base_uri": "https://localhost:8080/",
          "height": 1000
        },
        "id": "cOU3aqBWJuwB",
        "outputId": "c6f655f5-86ef-4850-b7fb-5f5f486cbf71"
      },
      "outputs": [
        {
          "output_type": "display_data",
          "data": {
            "text/html": [
              "<html>\n",
              "<head><meta charset=\"utf-8\" /></head>\n",
              "<body>\n",
              "    <div>            <script src=\"https://cdnjs.cloudflare.com/ajax/libs/mathjax/2.7.5/MathJax.js?config=TeX-AMS-MML_SVG\"></script><script type=\"text/javascript\">if (window.MathJax) {MathJax.Hub.Config({SVG: {font: \"STIX-Web\"}});}</script>                <script type=\"text/javascript\">window.PlotlyConfig = {MathJaxConfig: 'local'};</script>\n",
              "        <script src=\"https://cdn.plot.ly/plotly-2.8.3.min.js\"></script>                <div id=\"da4b1a89-5dc5-4e85-b65d-963dce292ba4\" class=\"plotly-graph-div\" style=\"height:1000px; width:1000px;\"></div>            <script type=\"text/javascript\">                                    window.PLOTLYENV=window.PLOTLYENV || {};                                    if (document.getElementById(\"da4b1a89-5dc5-4e85-b65d-963dce292ba4\")) {                    Plotly.newPlot(                        \"da4b1a89-5dc5-4e85-b65d-963dce292ba4\",                        [{\"hovertemplate\":\"Predicted=%{x}<br>Actual=%{marker.color}<extra></extra>\",\"legendgroup\":\"\",\"marker\":{\"color\":[87.156,87.203,87.147,86.816,87.537,86.91,86.93,86.938,86.903,87.532,87.017,86.863,86.994,86.91,86.961,87.456,86.925,87.557,87.566,87.148,87.085,86.908,87.094,87.074,87.256,86.919,86.933,86.872,87.482,86.972,87.208,87.137,86.99,86.953,87.228,87.352,86.994,87.225,87.391,87.471,87.267,87.416,87.075,87.182,86.892,86.912,87.536,87.02,87.453,87.175,87.089,86.81,87.657,87.001,87.208,87.197,87.151,87.06,86.524,87.323,87.368,87.122,87.096,86.929,86.529,86.953,87.128,87.241,86.893,87.256,86.905,87.131,87.241,87.348,86.9,87.555,86.502,87.014,87.152,87.489,87.025,87.514,87.52,87.02,87.445,87.102,87.288,86.877,87.013,86.948,87.045,86.923,87.305,87.0,87.179,87.213,87.53,87.116,87.101,87.4,87.315,87.32,87.08,87.123,87.367,87.275,87.242,87.332,87.085,87.014,86.6,86.735,87.05,87.18,87.008,87.48,87.403,87.516,87.114,86.982,86.96,87.215,87.422,87.233,87.027,87.128,87.106,87.103,86.975,86.953,86.944,87.165,86.924,87.035,87.309,87.107,87.105,87.23,87.27,86.906,86.889,86.857,87.365,87.169,87.726,86.947,87.091,86.915,87.452,87.08,87.221,86.512,86.878,87.233,86.928,87.049,87.307,87.011,87.021,87.232,86.993,87.081,86.995,87.413,86.516,87.082,87.247,87.04,86.911,87.314,87.003,87.199,86.567,87.11,86.925,86.932,86.94,87.04,87.177,86.945,86.919,87.31,87.21,86.915,87.265,87.285,86.86,87.491,86.991,86.901,87.161,87.198,86.999,86.966,86.957,87.161,86.812,87.115,86.907,86.767,86.882,87.515,86.962,87.312,87.039,87.166,86.881,87.039,86.807,86.94,87.542,87.333,87.346,86.944,87.112,86.926,86.925,86.927,87.244,87.395,86.96,86.763,86.998,86.88,87.296,87.004,86.936,86.926,86.974,87.064,86.912,87.393,87.051,87.138,86.94,86.605,86.511,86.768,87.606,86.956,87.087,87.184,87.426,86.977,87.252,86.956,87.117,87.14,87.517,86.93,87.216,86.842,87.026,87.217,87.173,87.13,87.147,86.664,87.011,87.565,86.96,86.947,87.116,87.063,87.545,86.947,87.548,87.364,87.401,87.058,87.091,87.037,86.997,87.048,86.899,87.581,87.538,87.377,87.243,86.915,87.141,86.92,87.484,87.426,87.0,86.96,86.855,87.075,86.814,86.792,87.135,86.958,87.314,87.146,87.147,87.078,86.927,87.247,87.271,86.924,86.837,87.426,87.135,86.674,87.163,87.085,86.895,86.931,86.925,87.093,86.945,86.907,87.464,87.07,87.166,87.034,87.041,87.079,87.155,86.979,86.972,86.893,86.94,87.25,87.244,87.144,86.936,86.725,87.323,87.09,86.56,87.519,86.985,86.827,86.94,86.947,86.581,87.075,87.122,87.131,86.941,87.128,86.969,86.995,87.03,86.932,87.442,86.915,86.549,87.099,86.961,87.51,86.605,86.93,87.113,86.91,87.065,87.0,86.885,87.143,87.441,86.93,86.927,86.914,87.202,86.91,87.031,87.451,87.093,87.056,87.191,87.249,87.236,87.31,86.908,87.001,86.829,87.179,87.178,86.946,86.898,87.663,86.964,87.465,87.12,86.96,86.922,86.898,86.888,86.922,86.953,87.147,86.95,87.048,87.174,87.229,87.051,87.058,86.89,86.853,87.065,86.928,87.227,87.293,86.87,87.22,87.283,87.45,87.072,87.311,87.443,86.822,87.079,87.13,87.033,87.167,87.183,86.952,87.169,87.217,87.488,86.925,87.149,87.24,87.532,87.226,87.355,87.393,87.239,87.025,87.347,86.901,87.055,86.91,87.261,86.898,87.225,86.935,86.938,87.486,86.99,87.248,87.159,86.906,86.912,87.071,87.239,86.941,87.137,87.27,86.964,87.283,87.14,87.307,87.059,86.891,86.966,86.991,87.063,87.136,86.931,87.503,86.904,86.873,86.95,86.688,86.959,87.266,87.493,87.276,86.9,86.922,86.955,87.119,86.621,87.482,86.945,87.331,87.314,87.13,87.186,87.3,86.951,87.118,86.977,86.902,87.006,87.048,87.182,86.917,87.228,87.118,86.794,87.02,87.267,86.611,87.049,87.409,87.36,87.008,87.11,86.963,86.979,87.04,86.658,86.851,86.946,87.387,87.158,87.08,87.537,87.255,87.546,86.93,87.261,87.503,86.902,87.462,87.078,87.064,87.251,87.352,87.247,86.954,87.075,86.757,86.958,87.519,87.01,86.897,87.135,87.125,86.993,87.007,87.051,87.44,86.959,86.898,87.312,87.107,87.089,87.497,87.072,87.565,87.633,86.854,87.008,86.979,87.129,87.313,87.415,87.041,86.929,87.155,86.765,86.959,86.891,86.864,87.048,87.404,87.04,87.016,87.031,87.349,87.215,86.943,87.333,87.238,87.284,87.163,87.497,87.415,87.016,86.989,87.39,87.031,86.948,87.421,86.947,87.413,86.949,86.603,87.354,86.854,87.23,87.132,87.202,86.842,87.066,87.046,87.514,87.457,87.081,86.936,87.003,87.023,87.148,87.007,86.958,86.886,86.994,86.818,87.325,86.82,87.012,86.881,86.946,86.96,87.028,87.258,87.292,87.225,87.097,87.032,87.224,87.241,86.925,87.192,87.397,87.151,87.477,87.494,87.09,87.31,87.592,86.923,87.086,86.934,87.124,86.822,87.216,87.463,86.863,87.202,87.312,86.764,86.924,87.357,86.872,87.022,86.929,87.265,87.004,87.049,86.901,87.385,87.332,87.265,87.02,87.147,87.141,87.076,86.771,86.992,86.986,87.044,86.935,86.974,87.138,87.232,86.898,86.917,86.828,87.087,87.204,87.348,86.952,87.084,86.559,87.454,86.845,87.157,87.441,86.958,87.278,86.647,87.692,87.134,86.597,87.114,87.097,86.993,87.3,87.046,87.438,87.581,86.937,86.926,86.892,86.889,86.715,87.555,87.156,87.189,87.547,87.244,86.876,86.901,86.955,86.866,86.994,87.282,87.059,86.933,87.08,87.327,87.347,87.042,87.251,87.324,87.318,87.224,87.178,87.115,87.221,87.358,87.127,86.979,87.204,87.176,86.874,87.326,87.121,86.841,87.022,86.962,87.381,87.173,86.629,87.218,86.956,87.109,87.049,87.029,87.07,87.199,87.009,87.039,86.666,87.144,87.085,86.895,87.023,86.682,87.32,87.041,87.262,87.28,87.208,87.321,87.285,87.08,87.003,86.863,87.186,87.437,87.196,87.504,86.879,87.403,86.783,86.949,87.017,86.854,87.392,87.368,87.747,86.916,86.487,86.934,87.491,86.976,86.867,87.57,87.534,87.365,87.218,87.026,87.108,87.458,86.903,87.595,87.171,87.195,86.81,87.497,87.096,87.061,86.903,86.88,86.936,87.248,87.137,87.496,87.487,86.982,87.452,87.128,87.097,87.147,87.489,87.286,86.966,87.213,87.34,87.452,87.455,86.935,87.524,87.236,87.062,87.278,87.296,87.243,87.126,87.111,86.927,86.883,87.477,86.665,87.452,87.093,87.464,86.626,87.379,87.075,87.434,86.962,87.001,86.939,87.082,86.992,86.941,86.952,87.453,86.815,86.797,87.115,87.285,87.432,87.113,87.012,86.725,87.353,87.481,87.138,86.907,87.259,87.094,86.955,86.94,87.338,87.216,86.828,87.16,87.212,87.286,86.86,87.559,87.208,87.097,87.243,86.959,86.948,86.9,86.86,87.001,86.918,87.091,87.263,87.008,87.388,86.624,87.006,86.807,86.694,87.527,86.898,87.186,87.195,87.227,86.913,86.877,86.868,86.941,87.34,86.901,86.859,86.893,87.441,87.086,87.202,87.186,86.945,87.313,87.192,87.744,87.093,87.245,86.959,87.21,87.327,87.543,87.045,87.173,86.892,87.195,86.903,87.087,87.298,87.033,87.537,87.03,86.514,86.975,86.608,87.234,86.975,87.115,86.895,87.204,87.066,87.081,86.851,87.167,87.118,86.93,87.111,87.216,87.005,86.956,87.126,87.077,87.452,87.13,87.021,86.964,87.293,86.932,87.141,87.053,87.0,86.97,87.12,87.283,87.16,87.02,87.235,87.178,86.938,87.071,87.065,87.005,86.927,87.41,87.167,86.995,87.036,86.769,87.213,87.452,87.232,86.954,87.074,87.28,87.514,87.584,87.076,87.153,87.407,86.906,86.917,86.952,87.356,87.195,87.117,87.365,87.338,87.225,86.945,87.113,87.005,87.371,87.061,87.176,87.096,87.293,87.141,86.925,86.792,86.883,86.901,87.057,87.229,87.124,87.0,86.903,87.369,87.12,87.252,87.151,87.299,87.262,87.152,86.906,87.018,86.69,86.921,87.002,86.738,87.466,87.099,87.106,86.471,87.342,87.336,87.01,86.956,87.098,87.018,86.863,87.053,87.014,87.055,87.157,86.917,87.3,87.055,86.956,87.115,86.799,86.691,86.935,86.942,86.909,87.351,86.967,86.857,86.913,87.304,87.128,87.458,86.945,87.503,87.39,87.354,87.047,86.91,86.944,87.062,87.145,87.078,87.045,87.177,86.965,86.891,86.908,87.152,87.227,86.976,86.969,87.249,86.936,87.21,86.894,86.581,86.923,87.484,86.928,87.056,87.034,87.195,86.769,86.983,87.356,87.129,86.962,87.232,86.895,86.626,87.545,87.191,87.15,86.805,86.999,86.907,87.202,87.619,86.896,87.473,87.1,86.699,87.239,87.155,87.274,87.126,86.848,86.917,87.131,86.911,86.959,86.969,87.238,87.149,87.089,86.911,86.877,87.02,87.386,87.057,86.816,86.939,87.146,87.242,87.046,86.912,87.168,86.654,87.163,86.93,86.89,87.246,87.111,86.967,87.069,87.43,87.218,87.061,87.015,87.251,86.939,86.918,87.183,86.931,87.199,87.493,86.936,87.449,86.957,87.065,87.073,86.847,86.928,86.937,86.991,87.434,87.069,86.584,87.38,87.316,86.957,87.553,87.078,87.028,86.978,87.207,87.012,86.96,86.908,87.147,87.423,86.951,87.09,87.28,86.907,86.895,87.04,87.241,87.029,86.967,86.913,87.281,87.478,87.212,86.494,86.929,87.0,86.985,87.072,86.953,86.96,86.91,87.404,86.965,87.239,87.147,86.696,86.999,86.952,87.382,87.122,87.288,87.204,86.896,87.53,86.964,87.152,87.593,86.954,86.629,87.046,86.924,86.951,87.56,86.74,86.84,87.359,87.184,86.554,87.506,86.996,87.556,87.001,87.229,87.083,87.029,87.291,87.61,87.252,86.922,87.213,87.124,87.124,87.554,87.035,87.363,86.743,87.52,87.207,87.244,87.455,86.931,86.997,86.938,86.899,87.081,87.103,87.07,87.313,86.957,87.126,86.96,87.177,86.898,86.923,87.03,87.273,87.457,87.172,87.186,87.041,87.066,86.995,87.009,86.707,86.825,86.982,87.054,86.759,87.054,87.012,86.905,87.116,86.906,87.047,86.632,87.223,87.085,87.199,86.956,86.918,86.992,87.291,87.297,86.967,86.961,87.158,87.324,87.467,87.17,87.421,86.926,87.13,87.377,87.069,86.982,86.759,87.453,86.644,87.154,87.33,87.003,87.708,87.058,87.15,87.036,86.902,86.904,87.096,87.144,86.913,87.01,86.899,87.259,87.243,87.211,87.431,87.244,87.009,87.552,86.911,86.982,87.217,87.112,87.238,87.486,86.938,87.573,87.315,87.055,87.376,86.835,87.237,87.322,86.926,87.311,86.942,86.915,87.035,87.129,87.267,87.487,87.094,87.449,86.905,86.943,87.115,87.177,87.242,87.186,87.108,86.917,86.543,86.918,86.936,86.986,87.384,86.772,87.013,87.38,86.942,86.939,87.038,86.924,87.168,87.168,87.598,87.179,87.583,86.699,87.054,86.942,87.184,87.028,87.495,86.665,87.133,86.91,86.618,86.773,87.481,87.088,87.139,86.956,87.124,87.017,87.184,87.091,86.679,86.647,87.083,87.063,86.747,86.898,87.051,86.766,87.127,87.328,87.23,87.089,87.258,87.544,87.531,87.219,87.195,87.032,86.675,86.921,86.984,87.093,87.086,87.159,86.671,87.384,87.546,86.941,87.047,86.908,86.956,87.125],\"coloraxis\":\"coloraxis\",\"opacity\":0.7,\"symbol\":\"circle\"},\"mode\":\"markers\",\"name\":\"\",\"showlegend\":false,\"x\":[87.07014465332031,86.84651184082031,86.9278564453125,86.83554077148438,86.96575927734375,87.04076385498047,86.90691375732422,87.12288665771484,86.94104766845703,87.19568634033203,86.68053436279297,87.15936279296875,86.96076202392578,86.95760345458984,86.90612030029297,86.86263275146484,87.01194763183594,86.833251953125,86.84315490722656,86.87384796142578,87.01322174072266,86.95980834960938,86.95784759521484,86.91227722167969,86.9474868774414,86.94841766357422,86.93299865722656,87.0991439819336,86.77100372314453,86.73761749267578,87.00130462646484,87.0576400756836,86.95338439941406,86.91339874267578,86.58601379394531,87.13641357421875,87.01814270019531,86.94013977050781,87.00054168701172,87.03468322753906,87.16138458251953,87.02062225341797,86.8714599609375,87.05770111083984,86.97429656982422,86.95574951171875,86.85890197753906,87.0433120727539,86.96996307373047,86.87308502197266,87.01414489746094,86.9854965209961,87.04879760742188,87.03567504882812,87.00439453125,87.01193237304688,87.01852416992188,87.0765380859375,87.03205871582031,86.82991027832031,87.16275024414062,86.99003601074219,87.01604461669922,86.9371109008789,86.82276916503906,86.87211608886719,87.16239166259766,87.20977020263672,86.97348022460938,86.87174987792969,87.03662872314453,86.98771667480469,86.92494201660156,87.09507751464844,86.88378143310547,87.16828155517578,86.6939697265625,86.7941665649414,87.06021881103516,87.15599060058594,86.96109771728516,86.97016906738281,87.08029174804688,87.04539489746094,87.18216705322266,86.99163818359375,87.07220458984375,86.50438690185547,86.95547485351562,86.91920471191406,86.9393081665039,86.94380950927734,86.98980712890625,86.71923828125,86.9545669555664,87.02484130859375,87.05946350097656,86.8963851928711,86.88386535644531,87.04867553710938,87.02798461914062,86.96099090576172,87.10694885253906,87.05426788330078,87.06991577148438,87.01557159423828,86.99745178222656,86.9552001953125,86.8655776977539,86.85140228271484,86.78822326660156,86.76921844482422,87.12063598632812,87.14887237548828,86.9607925415039,87.16148376464844,86.91850280761719,87.20934295654297,86.8472900390625,86.94895935058594,86.90685272216797,87.0326919555664,86.55779266357422,87.03579711914062,87.07281494140625,86.92769622802734,87.14678192138672,86.75646209716797,86.86003112792969,86.91244506835938,86.923583984375,86.89431762695312,86.94190979003906,86.97056579589844,86.90977478027344,87.05773162841797,87.09842681884766,87.11479187011719,87.09896087646484,86.96231079101562,86.91120910644531,87.0478744506836,87.13036346435547,87.14811706542969,87.19493865966797,86.9208755493164,86.95999908447266,87.0889663696289,87.16593933105469,87.1131820678711,86.99850463867188,86.90867614746094,86.98896026611328,86.80786895751953,86.93824768066406,87.0884017944336,86.98771667480469,86.90532684326172,87.10628509521484,87.15352630615234,86.97747802734375,86.99040222167969,86.95775604248047,87.04502868652344,87.0079345703125,87.12488555908203,87.03778076171875,86.87765502929688,86.93167877197266,87.08089447021484,87.01094818115234,86.66765594482422,86.91785430908203,86.65208435058594,86.94103240966797,86.93424224853516,86.92769622802734,86.84615325927734,86.91654205322266,86.5100326538086,86.94833374023438,87.0957260131836,87.00553131103516,86.95317077636719,86.79398345947266,86.71089935302734,86.98336791992188,87.14024353027344,86.98414611816406,86.92388153076172,86.9839096069336,87.07193756103516,87.01560974121094,86.85626983642578,86.90845489501953,86.97754669189453,86.91481018066406,86.99554443359375,86.96119689941406,86.95482635498047,86.92638397216797,87.02700805664062,87.01799774169922,86.79363250732422,87.25581359863281,87.03424072265625,86.9354248046875,86.95294189453125,86.7857437133789,86.92757415771484,87.2216567993164,86.87469482421875,87.0409164428711,86.92366790771484,86.84596252441406,86.93966674804688,86.94085693359375,87.09330749511719,86.68693542480469,86.8453598022461,86.9063949584961,86.9502182006836,86.94654083251953,86.96894836425781,86.94640350341797,86.93785095214844,86.9304428100586,86.93995666503906,86.94902038574219,86.96186065673828,86.95542907714844,86.74362182617188,86.9082260131836,87.09364318847656,86.92794036865234,86.92620086669922,86.88261413574219,86.93745422363281,86.96166229248047,86.90929412841797,86.9200439453125,86.85852813720703,87.06783294677734,86.95919799804688,86.80867004394531,86.90924835205078,87.03263092041016,87.08267211914062,87.13301849365234,86.93579864501953,86.9607925415039,86.87814331054688,86.9320297241211,86.88473510742188,87.00936126708984,86.87815856933594,86.94712829589844,86.90277862548828,86.9842529296875,87.13054656982422,86.90677642822266,86.931396484375,87.1288070678711,86.99288177490234,87.09651184082031,86.91386413574219,86.86568450927734,87.186767578125,87.0665283203125,87.04499816894531,86.9427490234375,87.05589294433594,87.03382110595703,87.216552734375,87.03079223632812,87.12879943847656,87.16171264648438,86.8227310180664,86.98893737792969,86.92031860351562,86.94042205810547,86.84148406982422,86.97122955322266,87.02058410644531,87.07390594482422,86.90642547607422,86.8359146118164,86.92813110351562,86.99156188964844,86.98454284667969,87.11321258544922,86.90764617919922,87.05017852783203,86.93495178222656,87.05756378173828,86.94252014160156,86.93949890136719,86.9192123413086,87.12310028076172,86.9422607421875,87.04023742675781,87.03583526611328,87.01000213623047,86.4418716430664,86.90789031982422,86.8434066772461,86.97180938720703,86.9351806640625,87.03408813476562,87.00421905517578,86.92259216308594,87.10065460205078,86.96315002441406,86.89873504638672,87.15003204345703,87.00279235839844,87.07667541503906,87.08769226074219,86.92987060546875,86.4886245727539,86.94103240966797,86.97354125976562,86.92729949951172,87.08660888671875,86.93679809570312,86.9619140625,86.93069458007812,86.45721435546875,87.11103820800781,87.01051330566406,86.90774536132812,87.07293701171875,86.83573913574219,86.54931640625,86.92314910888672,86.92057037353516,86.94766235351562,87.07117462158203,87.22222137451172,87.08769226074219,87.03157043457031,87.01119232177734,87.07209014892578,86.9329605102539,86.92587280273438,86.93360137939453,87.2563705444336,86.9530029296875,86.9355697631836,86.99077606201172,87.06005096435547,86.90203094482422,86.88951873779297,86.93618774414062,87.05207061767578,86.9577865600586,87.0125961303711,87.1771469116211,86.8486557006836,87.11404418945312,87.1128921508789,86.9360580444336,86.93873596191406,86.9535140991211,87.06498718261719,86.95711517333984,86.97705078125,87.0839614868164,86.9563217163086,87.0051040649414,86.97859954833984,87.14823913574219,87.04692840576172,87.12269592285156,86.95921325683594,86.92485809326172,86.9646224975586,86.50031280517578,87.15677642822266,86.92228698730469,87.01398468017578,87.09227752685547,86.57292938232422,87.18174743652344,86.95115661621094,86.90682220458984,86.9443130493164,86.9691390991211,87.03295135498047,86.94425201416016,86.958984375,86.8829574584961,86.92863464355469,87.06866455078125,86.95612335205078,86.95816802978516,86.96712493896484,87.01089477539062,87.04521179199219,86.94066619873047,86.9459228515625,86.93861389160156,87.07843780517578,86.97688293457031,86.91677856445312,86.99922943115234,87.07064819335938,87.1771011352539,87.02194213867188,86.97516632080078,86.98019409179688,87.00886535644531,86.8670654296875,86.94332122802734,86.99702453613281,87.0777359008789,87.09510803222656,87.00345611572266,87.05565643310547,87.07767486572266,87.10894775390625,86.9207992553711,87.04674530029297,87.05613708496094,87.07707214355469,86.97274780273438,87.0221176147461,87.20368194580078,87.02024841308594,86.98126220703125,87.00062561035156,87.02518463134766,86.85842895507812,86.93738555908203,86.9513168334961,86.96916961669922,86.96031188964844,86.9317626953125,86.87799835205078,87.04295349121094,87.03618621826172,87.01602935791016,86.88546752929688,87.04169464111328,86.95600891113281,87.0421371459961,86.56682586669922,87.03469848632812,87.13005828857422,86.94227600097656,86.88880157470703,86.9775390625,86.9573745727539,87.00125885009766,86.98001861572266,86.97482299804688,87.05511474609375,87.12550354003906,87.1021499633789,86.9522705078125,86.93470764160156,86.98531341552734,86.96385192871094,86.48432922363281,86.91648864746094,86.9117431640625,86.90724182128906,87.23046875,87.10739135742188,86.96627807617188,86.93657684326172,86.94487762451172,86.91004943847656,87.03770446777344,86.91793823242188,86.87828826904297,86.92306518554688,87.03514099121094,87.17383575439453,87.00614166259766,87.06645202636719,87.0909652709961,86.91593170166016,87.0372543334961,86.82646942138672,86.96560668945312,87.05423736572266,86.90938568115234,87.07020568847656,86.94963073730469,86.66881561279297,86.99165344238281,87.099853515625,87.01981353759766,86.9648666381836,87.0480728149414,86.94538879394531,87.24662780761719,87.20063781738281,86.97846984863281,86.87481689453125,86.96653747558594,86.89568328857422,86.86029052734375,86.76663970947266,87.0694351196289,86.90074157714844,86.86740112304688,86.7661361694336,86.92770385742188,87.2183609008789,86.94820404052734,86.47407531738281,87.0416259765625,87.06515502929688,87.00012969970703,86.96568298339844,87.15328216552734,86.93150329589844,87.05587005615234,87.18738555908203,87.1020736694336,87.12771606445312,86.91165161132812,87.07801055908203,86.88239288330078,87.0550537109375,86.82459259033203,86.98324584960938,86.96967315673828,87.08949279785156,86.94676971435547,86.8638916015625,86.65270233154297,86.89915466308594,86.97852325439453,87.0,86.96411895751953,86.6815414428711,87.09357452392578,86.89790344238281,87.20148468017578,86.9910659790039,86.8846664428711,86.99198913574219,86.86852264404297,86.96784210205078,86.8326416015625,87.04676818847656,86.88774871826172,87.05806732177734,87.09076690673828,86.9373779296875,87.09663391113281,86.93238067626953,86.9017333984375,86.97482299804688,86.91004180908203,86.97246551513672,86.97420501708984,86.91309356689453,87.08161163330078,87.0333480834961,87.09732818603516,87.07868957519531,86.598876953125,86.96928405761719,87.01575469970703,87.10103607177734,86.93466186523438,87.28376007080078,86.95992279052734,86.98316955566406,86.90645599365234,86.94329833984375,86.95111846923828,86.91947174072266,87.07548522949219,86.97913360595703,87.00004577636719,86.91877746582031,87.04586029052734,87.15538787841797,86.93622589111328,87.08731079101562,87.00816345214844,87.00359344482422,86.98172760009766,86.82176208496094,86.93494415283203,87.1402359008789,86.9848861694336,87.06356811523438,87.0833511352539,86.9665756225586,86.99153900146484,87.073974609375,87.06303405761719,86.90760803222656,86.70355224609375,87.16177368164062,86.96195983886719,87.1750717163086,86.49781799316406,86.96204376220703,86.99210357666016,86.92118072509766,87.10646057128906,87.0086669921875,87.03438568115234,87.0954360961914,86.96753692626953,86.98995208740234,86.92807006835938,87.10538482666016,87.0826187133789,86.92898559570312,87.22907257080078,87.12173461914062,86.92093658447266,86.85969543457031,87.14197540283203,87.02324676513672,87.1868667602539,87.0637435913086,86.94377899169922,86.91707611083984,86.93256378173828,87.01400756835938,86.96085357666016,87.011962890625,87.08502960205078,86.97782897949219,86.9297103881836,86.96279907226562,86.94005584716797,86.94258117675781,87.12396240234375,86.84459686279297,87.18433380126953,86.89872741699219,86.6631088256836,86.79588317871094,87.04756927490234,86.96662902832031,87.05549621582031,87.01981353759766,86.93234252929688,86.99616241455078,86.93222045898438,87.01853942871094,86.78935241699219,87.01209259033203,87.1335678100586,86.93658447265625,86.86263275146484,86.91230773925781,86.9679946899414,86.86434173583984,86.94059753417969,86.96961212158203,86.8725814819336,86.94100952148438,87.03460693359375,87.02285766601562,87.04716491699219,86.90221405029297,87.15609741210938,86.9765853881836,87.22293090820312,86.92363739013672,86.87384033203125,87.1069107055664,87.09721374511719,87.03060913085938,86.94470977783203,87.23014831542969,86.9504165649414,87.00086212158203,87.0596694946289,86.89264678955078,86.99913787841797,86.98751831054688,86.88308715820312,87.05167388916016,87.05595397949219,86.93013763427734,87.0406723022461,86.84747314453125,86.89653778076172,86.88679504394531,87.1387939453125,86.86417388916016,86.87448120117188,87.14247131347656,86.93147277832031,86.9926528930664,86.96699523925781,86.78170776367188,87.03015899658203,86.95198822021484,87.0270004272461,87.04688262939453,86.93309783935547,86.9395980834961,87.17161560058594,86.73902130126953,87.2229995727539,86.96044921875,87.11083984375,86.9775390625,86.98748779296875,86.91447448730469,86.97344207763672,86.88887786865234,86.95585632324219,87.01490783691406,87.08086395263672,86.92374420166016,86.93524932861328,86.99000549316406,87.05070495605469,86.99324035644531,86.88601684570312,86.52938079833984,87.0115737915039,86.9657974243164,87.05359649658203,86.80499267578125,87.13725280761719,86.91026306152344,86.96150970458984,87.06842803955078,87.03316497802734,86.56623077392578,87.03089141845703,87.00536346435547,86.97319030761719,86.66447448730469,87.0811538696289,86.9787368774414,86.9716567993164,87.04071044921875,86.97496795654297,86.87762451171875,86.94676971435547,86.95438385009766,87.06841278076172,86.90217590332031,87.06285095214844,87.0281753540039,86.92410278320312,87.00251007080078,87.06147003173828,87.05731964111328,87.00313568115234,87.05370330810547,87.11036682128906,87.00120544433594,87.02836608886719,86.93997192382812,87.0216064453125,86.8267822265625,86.92638397216797,87.07563781738281,87.13531494140625,87.27830505371094,86.95121002197266,87.05411529541016,86.93208312988281,86.79840850830078,86.89791107177734,86.67423248291016,87.28083038330078,87.07953643798828,87.18441009521484,86.88746643066406,87.02261352539062,87.0743179321289,87.16576385498047,86.96495819091797,86.98626708984375,86.91789245605469,86.84701538085938,86.9193344116211,86.90176391601562,86.92736053466797,86.90132904052734,86.96489715576172,87.0003433227539,86.93010711669922,86.76673889160156,86.89716339111328,87.0453109741211,87.16468811035156,87.00096130371094,86.99992370605469,87.02364349365234,86.91500854492188,87.09908294677734,87.1993408203125,87.04645538330078,86.68194580078125,87.04322814941406,86.85696411132812,87.04508972167969,86.603759765625,86.93089294433594,87.03439331054688,86.90460205078125,86.99898529052734,86.935302734375,87.04402923583984,87.05865478515625,86.98870086669922,87.06999206542969,86.93949890136719,86.98726654052734,87.09030151367188,86.88418579101562,87.11927032470703,86.92536926269531,87.14134979248047,86.82925415039062,86.94129943847656,86.91732025146484,87.06341552734375,87.09735107421875,87.00552368164062,86.99034118652344,86.82460021972656,86.96529388427734,86.92658233642578,86.91444396972656,87.12252044677734,86.95769500732422,86.93810272216797,87.04397583007812,87.05313873291016,86.87935638427734,86.99008178710938,87.03126525878906,87.02471923828125,86.66033172607422,87.0647201538086,86.98084259033203,86.96065521240234,87.10231018066406,87.01771545410156,86.91057586669922,86.92784881591797,87.10576629638672,86.58999633789062,86.89710235595703,87.06595611572266,87.11925506591797,87.14103698730469,86.96249389648438,87.26363372802734,86.98848724365234,86.98519134521484,87.11203002929688,86.74498748779297,86.91927337646484,86.96759796142578,86.91694641113281,87.01107025146484,86.94949340820312,87.01458740234375,86.86609649658203,87.01072692871094,87.03726196289062,87.0267105102539,87.08032989501953,86.92987060546875,86.82689666748047,87.1087875366211,87.07618713378906,86.55315399169922,86.9130859375,86.92898559570312,86.95471954345703,86.98343658447266,87.06207275390625,86.98921203613281,87.20370483398438,87.03809356689453,86.96527099609375,86.97370910644531,87.0116958618164,86.67501068115234,86.77386474609375,87.09609985351562,86.92330169677734,86.89157104492188,87.0054702758789,87.21678161621094,86.8863296508789,87.117431640625,86.90703582763672,87.207275390625,86.90027618408203,87.12641143798828,86.48876190185547,87.1038589477539,86.8384017944336,87.01194763183594,86.9645767211914,86.86840057373047,87.03564453125,86.87353515625,87.13910675048828,87.04203796386719,86.89762115478516,87.04859161376953,86.82341003417969,87.1332778930664,87.12191009521484,86.91590118408203,86.9719009399414,87.06950378417969,86.62060546875,86.96759033203125,87.13133239746094,86.9744873046875,87.02766418457031,86.93634033203125,87.04080200195312,87.06233215332031,86.9005126953125,86.90961456298828,87.14107513427734,86.93473052978516,87.10404968261719,87.11260223388672,86.99655151367188,86.87110900878906,86.92252349853516,86.93397521972656,86.95819091796875,87.06383514404297,86.8917465209961,86.85138702392578,87.17345428466797,87.08356475830078,87.02759552001953,86.97677612304688,87.12252044677734,87.07401275634766,86.9289321899414,87.03138732910156,87.03718566894531,86.89376831054688,86.93903350830078,87.01004791259766,86.91015625,87.07366180419922,86.90858459472656,87.01849365234375,86.80809783935547,87.00099182128906,87.13002014160156,86.91131591796875,86.91825866699219,87.16574096679688,86.87238311767578,87.1843032836914,86.9524154663086,87.18348693847656,87.19624328613281,87.00157165527344,86.95061492919922,86.78646087646484,86.95584106445312,86.55542755126953,87.13526916503906,86.89051818847656,87.09005737304688,86.98690795898438,86.92320251464844,86.95611572265625,86.95967102050781,87.05463409423828,87.09503936767578,86.9190673828125,86.98209381103516,86.99791717529297,86.9454574584961,86.94158935546875,86.85105895996094,86.99031829833984,86.9312515258789,86.6950912475586,86.82879638671875,87.07856750488281,86.8773193359375,86.96527862548828,87.20767211914062,87.10425567626953,87.03562927246094,86.68128967285156,87.15056610107422,87.13282775878906,86.9509506225586,86.9615707397461,86.95418548583984,86.93983459472656,86.67350006103516,87.21610260009766,86.72640991210938,87.01215362548828,87.11369323730469,86.9483413696289,86.99989318847656,86.9268798828125,87.1054916381836,86.91767883300781,86.9095230102539,87.0131607055664,87.05474090576172,87.02726745605469,86.86991882324219,86.9853744506836,86.98499298095703,86.92375946044922,86.95077514648438,86.96366119384766,87.08341217041016,86.90930938720703,87.24237823486328,86.90526580810547,86.6405029296875,86.9314956665039,86.92584228515625,86.95870971679688,86.8447494506836,86.55831146240234,86.96662902832031,86.95478057861328,86.96768951416016,86.41921997070312,87.09031677246094,86.92256164550781,87.14739990234375,87.00494384765625,87.09198760986328,86.73036193847656,86.94343566894531,86.92415618896484,86.98300170898438,86.97053527832031,86.8740234375,87.01617431640625,86.993408203125,87.15287780761719,86.9748764038086,86.9593505859375,87.06804656982422,87.13986206054688,86.87205505371094,86.9998550415039,86.48374938964844,86.93036651611328,87.00932312011719,86.9724349975586,86.96583557128906,86.94334411621094,86.77218627929688,86.93853759765625,87.1116714477539,86.92261505126953,87.0221939086914,86.86727905273438,86.98522186279297,87.17767333984375,86.9631118774414,87.03346252441406,86.94859313964844,86.96285247802734,86.83222198486328,87.06282043457031,86.98707580566406,87.08935546875,86.8148422241211,87.05451965332031,87.00908660888672,86.93525695800781,87.28945922851562,86.97118377685547,87.09430694580078,87.09967803955078,87.03400421142578,87.16020965576172,86.8283920288086,87.21154022216797,87.14827728271484,86.95340728759766,86.9502182006836,87.04206848144531,86.95663452148438,86.90740966796875,86.91535949707031,87.09305572509766,87.09033203125,87.04476928710938,86.95632934570312,86.92103576660156,86.93514251708984,86.78511810302734,87.03785705566406,86.72406005859375,86.92809295654297,86.89676666259766,87.1399154663086,87.04309844970703,86.95545959472656,86.9908218383789,86.81803131103516,87.10387420654297,86.93659210205078,86.97582244873047,87.00132751464844,87.09162902832031,87.03147888183594,86.82237243652344,86.93646240234375,86.72129821777344,86.85807037353516,87.02928924560547,86.65913391113281,86.92852783203125,86.88282012939453,86.93931579589844,86.93539428710938,86.98068237304688,87.13882446289062,87.13041687011719,87.13011169433594,86.90886688232422,87.01121520996094,87.0300521850586,86.9400405883789,86.93814849853516,86.9300308227539,87.04869079589844,87.06948852539062,87.00211334228516,86.84907531738281,86.97265625,86.70179748535156,86.91514587402344,86.82193756103516,87.0304946899414,86.87950897216797,86.7856674194336,86.87793731689453,86.90376281738281,86.90621948242188,86.95925903320312,86.91535949707031,87.07595825195312,86.91478729248047,86.8296127319336,87.03846740722656,86.92740631103516,86.97196197509766,86.99677276611328,86.90351104736328,86.93122100830078,86.80469512939453,86.95494842529297,87.05823516845703,87.11062622070312,87.0779037475586,86.97134399414062,86.93684387207031,86.8446273803711,86.81798553466797,86.9753189086914,87.0099868774414,86.9069595336914,86.9570541381836,87.15605163574219,86.98526763916016,86.97185516357422,86.78636932373047,86.83106231689453,86.91674041748047,86.91387176513672,87.04313659667969,87.03224182128906,86.8786392211914,86.44329071044922,86.97119903564453,87.16075897216797,86.86387634277344,87.14189910888672,87.09736633300781,86.91172790527344,86.95507049560547,86.90023803710938,86.92108917236328,86.91526794433594,86.85482025146484,87.0434799194336,86.9776611328125,86.80967712402344,87.12886810302734,86.80531311035156,86.8505859375,86.90769958496094,86.83846282958984,86.85144805908203,86.92005157470703,87.15887451171875,87.0493392944336,87.04251098632812,87.08708953857422,86.96720886230469,86.94499206542969,86.86724090576172,86.93882751464844,87.02313232421875,86.71958923339844,86.89081573486328,87.07992553710938,86.91455078125,86.52632904052734,86.97786712646484,87.14202117919922,87.09273529052734,86.93482971191406,87.08968353271484,87.03154754638672,86.96835327148438,86.93638610839844,86.99411010742188,86.89137268066406,87.11560821533203,86.90831756591797,86.74654388427734,86.90648651123047,86.97956085205078,87.18750762939453,86.9437484741211,87.05570983886719,87.03810119628906,87.20645904541016,86.99523162841797,87.13766479492188,87.10279083251953,86.96084594726562,86.96994018554688,86.99910736083984,86.89586639404297,86.80797576904297,86.97624206542969,86.83967590332031,86.93409729003906,86.96735382080078,87.00257873535156,86.91446685791016,86.96869659423828,86.9620590209961,86.84161376953125,87.12073516845703,86.70075988769531,86.85820770263672,87.10346984863281,86.908935546875,86.9491958618164,87.04386138916016,87.10883331298828,87.00792694091797,86.99664306640625,86.9404067993164,86.84784698486328,86.93202209472656,87.14132690429688,87.03396606445312,87.02867126464844,86.90092468261719,87.11864471435547,86.7686996459961,87.06429290771484,87.06224060058594,86.86967468261719,87.14576721191406,86.81053924560547,87.12956237792969,87.04906463623047,87.07410430908203,87.22893524169922,87.08492279052734,86.92705535888672,86.92901611328125,86.96614074707031,86.96422576904297,87.06240844726562,86.6893539428711,86.80406951904297,87.075927734375,86.96802520751953,86.99169158935547,86.94010925292969,87.07675170898438,86.93775939941406,86.93994903564453,86.82302856445312,86.80371856689453,86.94463348388672,87.00505828857422,87.05794525146484,87.01961517333984,87.16703033447266,87.02191162109375,86.92961120605469,87.12651824951172,86.9380874633789,86.89427185058594,87.07255554199219,86.93571472167969,87.15081787109375,86.78759765625,86.94010162353516,87.1637191772461,86.92631530761719,86.95246887207031,87.01808166503906,87.0232162475586,87.03717803955078,87.15998840332031,86.88008117675781,87.01940155029297,86.9631118774414,86.92052459716797,86.88749694824219,86.55299377441406,87.08776092529297,86.88090515136719,86.92131042480469,86.90782928466797,86.84758758544922,86.94956970214844,87.04975128173828,86.97330474853516,87.14065551757812,86.8824462890625,86.98550415039062,87.14453887939453,87.04946899414062,86.92828369140625,87.06614685058594,87.06079864501953,86.59346008300781,87.06193542480469,86.97196197509766,86.72599792480469,87.27659606933594,86.76274108886719,86.93990325927734,86.92578887939453,86.85834503173828,87.1251220703125,86.8424301147461,87.1690902709961,87.03316497802734,86.95714569091797,86.93490600585938,86.97489166259766,87.01410675048828,87.0467758178711,86.67743682861328,86.90955352783203,87.08692169189453,87.08960723876953,86.97469329833984,87.06224060058594,86.80537414550781,86.88418579101562,86.8930892944336,87.07585144042969,86.9622802734375,86.96928405761719,87.03524780273438,87.05291748046875,87.06497955322266,86.9996566772461,86.83248138427734,87.10572052001953,86.86715698242188,87.18749237060547,86.90991973876953,87.00508117675781,87.10978698730469,87.13947296142578,86.99354553222656,86.83663177490234,86.953369140625,87.03901672363281,87.06409454345703,87.01297760009766,86.99395751953125,87.06716918945312,87.07946014404297,86.92708587646484,87.0365982055664,86.86266326904297,87.05839538574219,87.07438659667969],\"xaxis\":\"x\",\"y\":[87.156,87.203,87.147,86.816,87.537,86.91,86.93,86.938,86.903,87.532,87.017,86.863,86.994,86.91,86.961,87.456,86.925,87.557,87.566,87.148,87.085,86.908,87.094,87.074,87.256,86.919,86.933,86.872,87.482,86.972,87.208,87.137,86.99,86.953,87.228,87.352,86.994,87.225,87.391,87.471,87.267,87.416,87.075,87.182,86.892,86.912,87.536,87.02,87.453,87.175,87.089,86.81,87.657,87.001,87.208,87.197,87.151,87.06,86.524,87.323,87.368,87.122,87.096,86.929,86.529,86.953,87.128,87.241,86.893,87.256,86.905,87.131,87.241,87.348,86.9,87.555,86.502,87.014,87.152,87.489,87.025,87.514,87.52,87.02,87.445,87.102,87.288,86.877,87.013,86.948,87.045,86.923,87.305,87.0,87.179,87.213,87.53,87.116,87.101,87.4,87.315,87.32,87.08,87.123,87.367,87.275,87.242,87.332,87.085,87.014,86.6,86.735,87.05,87.18,87.008,87.48,87.403,87.516,87.114,86.982,86.96,87.215,87.422,87.233,87.027,87.128,87.106,87.103,86.975,86.953,86.944,87.165,86.924,87.035,87.309,87.107,87.105,87.23,87.27,86.906,86.889,86.857,87.365,87.169,87.726,86.947,87.091,86.915,87.452,87.08,87.221,86.512,86.878,87.233,86.928,87.049,87.307,87.011,87.021,87.232,86.993,87.081,86.995,87.413,86.516,87.082,87.247,87.04,86.911,87.314,87.003,87.199,86.567,87.11,86.925,86.932,86.94,87.04,87.177,86.945,86.919,87.31,87.21,86.915,87.265,87.285,86.86,87.491,86.991,86.901,87.161,87.198,86.999,86.966,86.957,87.161,86.812,87.115,86.907,86.767,86.882,87.515,86.962,87.312,87.039,87.166,86.881,87.039,86.807,86.94,87.542,87.333,87.346,86.944,87.112,86.926,86.925,86.927,87.244,87.395,86.96,86.763,86.998,86.88,87.296,87.004,86.936,86.926,86.974,87.064,86.912,87.393,87.051,87.138,86.94,86.605,86.511,86.768,87.606,86.956,87.087,87.184,87.426,86.977,87.252,86.956,87.117,87.14,87.517,86.93,87.216,86.842,87.026,87.217,87.173,87.13,87.147,86.664,87.011,87.565,86.96,86.947,87.116,87.063,87.545,86.947,87.548,87.364,87.401,87.058,87.091,87.037,86.997,87.048,86.899,87.581,87.538,87.377,87.243,86.915,87.141,86.92,87.484,87.426,87.0,86.96,86.855,87.075,86.814,86.792,87.135,86.958,87.314,87.146,87.147,87.078,86.927,87.247,87.271,86.924,86.837,87.426,87.135,86.674,87.163,87.085,86.895,86.931,86.925,87.093,86.945,86.907,87.464,87.07,87.166,87.034,87.041,87.079,87.155,86.979,86.972,86.893,86.94,87.25,87.244,87.144,86.936,86.725,87.323,87.09,86.56,87.519,86.985,86.827,86.94,86.947,86.581,87.075,87.122,87.131,86.941,87.128,86.969,86.995,87.03,86.932,87.442,86.915,86.549,87.099,86.961,87.51,86.605,86.93,87.113,86.91,87.065,87.0,86.885,87.143,87.441,86.93,86.927,86.914,87.202,86.91,87.031,87.451,87.093,87.056,87.191,87.249,87.236,87.31,86.908,87.001,86.829,87.179,87.178,86.946,86.898,87.663,86.964,87.465,87.12,86.96,86.922,86.898,86.888,86.922,86.953,87.147,86.95,87.048,87.174,87.229,87.051,87.058,86.89,86.853,87.065,86.928,87.227,87.293,86.87,87.22,87.283,87.45,87.072,87.311,87.443,86.822,87.079,87.13,87.033,87.167,87.183,86.952,87.169,87.217,87.488,86.925,87.149,87.24,87.532,87.226,87.355,87.393,87.239,87.025,87.347,86.901,87.055,86.91,87.261,86.898,87.225,86.935,86.938,87.486,86.99,87.248,87.159,86.906,86.912,87.071,87.239,86.941,87.137,87.27,86.964,87.283,87.14,87.307,87.059,86.891,86.966,86.991,87.063,87.136,86.931,87.503,86.904,86.873,86.95,86.688,86.959,87.266,87.493,87.276,86.9,86.922,86.955,87.119,86.621,87.482,86.945,87.331,87.314,87.13,87.186,87.3,86.951,87.118,86.977,86.902,87.006,87.048,87.182,86.917,87.228,87.118,86.794,87.02,87.267,86.611,87.049,87.409,87.36,87.008,87.11,86.963,86.979,87.04,86.658,86.851,86.946,87.387,87.158,87.08,87.537,87.255,87.546,86.93,87.261,87.503,86.902,87.462,87.078,87.064,87.251,87.352,87.247,86.954,87.075,86.757,86.958,87.519,87.01,86.897,87.135,87.125,86.993,87.007,87.051,87.44,86.959,86.898,87.312,87.107,87.089,87.497,87.072,87.565,87.633,86.854,87.008,86.979,87.129,87.313,87.415,87.041,86.929,87.155,86.765,86.959,86.891,86.864,87.048,87.404,87.04,87.016,87.031,87.349,87.215,86.943,87.333,87.238,87.284,87.163,87.497,87.415,87.016,86.989,87.39,87.031,86.948,87.421,86.947,87.413,86.949,86.603,87.354,86.854,87.23,87.132,87.202,86.842,87.066,87.046,87.514,87.457,87.081,86.936,87.003,87.023,87.148,87.007,86.958,86.886,86.994,86.818,87.325,86.82,87.012,86.881,86.946,86.96,87.028,87.258,87.292,87.225,87.097,87.032,87.224,87.241,86.925,87.192,87.397,87.151,87.477,87.494,87.09,87.31,87.592,86.923,87.086,86.934,87.124,86.822,87.216,87.463,86.863,87.202,87.312,86.764,86.924,87.357,86.872,87.022,86.929,87.265,87.004,87.049,86.901,87.385,87.332,87.265,87.02,87.147,87.141,87.076,86.771,86.992,86.986,87.044,86.935,86.974,87.138,87.232,86.898,86.917,86.828,87.087,87.204,87.348,86.952,87.084,86.559,87.454,86.845,87.157,87.441,86.958,87.278,86.647,87.692,87.134,86.597,87.114,87.097,86.993,87.3,87.046,87.438,87.581,86.937,86.926,86.892,86.889,86.715,87.555,87.156,87.189,87.547,87.244,86.876,86.901,86.955,86.866,86.994,87.282,87.059,86.933,87.08,87.327,87.347,87.042,87.251,87.324,87.318,87.224,87.178,87.115,87.221,87.358,87.127,86.979,87.204,87.176,86.874,87.326,87.121,86.841,87.022,86.962,87.381,87.173,86.629,87.218,86.956,87.109,87.049,87.029,87.07,87.199,87.009,87.039,86.666,87.144,87.085,86.895,87.023,86.682,87.32,87.041,87.262,87.28,87.208,87.321,87.285,87.08,87.003,86.863,87.186,87.437,87.196,87.504,86.879,87.403,86.783,86.949,87.017,86.854,87.392,87.368,87.747,86.916,86.487,86.934,87.491,86.976,86.867,87.57,87.534,87.365,87.218,87.026,87.108,87.458,86.903,87.595,87.171,87.195,86.81,87.497,87.096,87.061,86.903,86.88,86.936,87.248,87.137,87.496,87.487,86.982,87.452,87.128,87.097,87.147,87.489,87.286,86.966,87.213,87.34,87.452,87.455,86.935,87.524,87.236,87.062,87.278,87.296,87.243,87.126,87.111,86.927,86.883,87.477,86.665,87.452,87.093,87.464,86.626,87.379,87.075,87.434,86.962,87.001,86.939,87.082,86.992,86.941,86.952,87.453,86.815,86.797,87.115,87.285,87.432,87.113,87.012,86.725,87.353,87.481,87.138,86.907,87.259,87.094,86.955,86.94,87.338,87.216,86.828,87.16,87.212,87.286,86.86,87.559,87.208,87.097,87.243,86.959,86.948,86.9,86.86,87.001,86.918,87.091,87.263,87.008,87.388,86.624,87.006,86.807,86.694,87.527,86.898,87.186,87.195,87.227,86.913,86.877,86.868,86.941,87.34,86.901,86.859,86.893,87.441,87.086,87.202,87.186,86.945,87.313,87.192,87.744,87.093,87.245,86.959,87.21,87.327,87.543,87.045,87.173,86.892,87.195,86.903,87.087,87.298,87.033,87.537,87.03,86.514,86.975,86.608,87.234,86.975,87.115,86.895,87.204,87.066,87.081,86.851,87.167,87.118,86.93,87.111,87.216,87.005,86.956,87.126,87.077,87.452,87.13,87.021,86.964,87.293,86.932,87.141,87.053,87.0,86.97,87.12,87.283,87.16,87.02,87.235,87.178,86.938,87.071,87.065,87.005,86.927,87.41,87.167,86.995,87.036,86.769,87.213,87.452,87.232,86.954,87.074,87.28,87.514,87.584,87.076,87.153,87.407,86.906,86.917,86.952,87.356,87.195,87.117,87.365,87.338,87.225,86.945,87.113,87.005,87.371,87.061,87.176,87.096,87.293,87.141,86.925,86.792,86.883,86.901,87.057,87.229,87.124,87.0,86.903,87.369,87.12,87.252,87.151,87.299,87.262,87.152,86.906,87.018,86.69,86.921,87.002,86.738,87.466,87.099,87.106,86.471,87.342,87.336,87.01,86.956,87.098,87.018,86.863,87.053,87.014,87.055,87.157,86.917,87.3,87.055,86.956,87.115,86.799,86.691,86.935,86.942,86.909,87.351,86.967,86.857,86.913,87.304,87.128,87.458,86.945,87.503,87.39,87.354,87.047,86.91,86.944,87.062,87.145,87.078,87.045,87.177,86.965,86.891,86.908,87.152,87.227,86.976,86.969,87.249,86.936,87.21,86.894,86.581,86.923,87.484,86.928,87.056,87.034,87.195,86.769,86.983,87.356,87.129,86.962,87.232,86.895,86.626,87.545,87.191,87.15,86.805,86.999,86.907,87.202,87.619,86.896,87.473,87.1,86.699,87.239,87.155,87.274,87.126,86.848,86.917,87.131,86.911,86.959,86.969,87.238,87.149,87.089,86.911,86.877,87.02,87.386,87.057,86.816,86.939,87.146,87.242,87.046,86.912,87.168,86.654,87.163,86.93,86.89,87.246,87.111,86.967,87.069,87.43,87.218,87.061,87.015,87.251,86.939,86.918,87.183,86.931,87.199,87.493,86.936,87.449,86.957,87.065,87.073,86.847,86.928,86.937,86.991,87.434,87.069,86.584,87.38,87.316,86.957,87.553,87.078,87.028,86.978,87.207,87.012,86.96,86.908,87.147,87.423,86.951,87.09,87.28,86.907,86.895,87.04,87.241,87.029,86.967,86.913,87.281,87.478,87.212,86.494,86.929,87.0,86.985,87.072,86.953,86.96,86.91,87.404,86.965,87.239,87.147,86.696,86.999,86.952,87.382,87.122,87.288,87.204,86.896,87.53,86.964,87.152,87.593,86.954,86.629,87.046,86.924,86.951,87.56,86.74,86.84,87.359,87.184,86.554,87.506,86.996,87.556,87.001,87.229,87.083,87.029,87.291,87.61,87.252,86.922,87.213,87.124,87.124,87.554,87.035,87.363,86.743,87.52,87.207,87.244,87.455,86.931,86.997,86.938,86.899,87.081,87.103,87.07,87.313,86.957,87.126,86.96,87.177,86.898,86.923,87.03,87.273,87.457,87.172,87.186,87.041,87.066,86.995,87.009,86.707,86.825,86.982,87.054,86.759,87.054,87.012,86.905,87.116,86.906,87.047,86.632,87.223,87.085,87.199,86.956,86.918,86.992,87.291,87.297,86.967,86.961,87.158,87.324,87.467,87.17,87.421,86.926,87.13,87.377,87.069,86.982,86.759,87.453,86.644,87.154,87.33,87.003,87.708,87.058,87.15,87.036,86.902,86.904,87.096,87.144,86.913,87.01,86.899,87.259,87.243,87.211,87.431,87.244,87.009,87.552,86.911,86.982,87.217,87.112,87.238,87.486,86.938,87.573,87.315,87.055,87.376,86.835,87.237,87.322,86.926,87.311,86.942,86.915,87.035,87.129,87.267,87.487,87.094,87.449,86.905,86.943,87.115,87.177,87.242,87.186,87.108,86.917,86.543,86.918,86.936,86.986,87.384,86.772,87.013,87.38,86.942,86.939,87.038,86.924,87.168,87.168,87.598,87.179,87.583,86.699,87.054,86.942,87.184,87.028,87.495,86.665,87.133,86.91,86.618,86.773,87.481,87.088,87.139,86.956,87.124,87.017,87.184,87.091,86.679,86.647,87.083,87.063,86.747,86.898,87.051,86.766,87.127,87.328,87.23,87.089,87.258,87.544,87.531,87.219,87.195,87.032,86.675,86.921,86.984,87.093,87.086,87.159,86.671,87.384,87.546,86.941,87.047,86.908,86.956,87.125],\"yaxis\":\"y\",\"type\":\"scattergl\"},{\"hovertemplate\":\"<b>OLS trendline</b><br>Actual = 0.523662 * Predicted + 41.5547<br>R<sup>2</sup>=0.086612<br><br>Predicted=%{x}<br>Actual=%{y} <b>(trend)</b><extra></extra>\",\"legendgroup\":\"\",\"marker\":{\"symbol\":\"circle\"},\"mode\":\"lines\",\"name\":\"\",\"showlegend\":false,\"x\":[86.41921997070312,86.4418716430664,86.44329071044922,86.45721435546875,86.47407531738281,86.48374938964844,86.48432922363281,86.4886245727539,86.48876190185547,86.49781799316406,86.50031280517578,86.50438690185547,86.5100326538086,86.52632904052734,86.52938079833984,86.54931640625,86.55299377441406,86.55315399169922,86.55542755126953,86.55779266357422,86.55831146240234,86.56623077392578,86.56682586669922,86.57292938232422,86.58601379394531,86.58999633789062,86.59346008300781,86.598876953125,86.603759765625,86.62060546875,86.6405029296875,86.65208435058594,86.65270233154297,86.65913391113281,86.66033172607422,86.6631088256836,86.66447448730469,86.66765594482422,86.66881561279297,86.67350006103516,86.67423248291016,86.67501068115234,86.67743682861328,86.68053436279297,86.68128967285156,86.6815414428711,86.68194580078125,86.68693542480469,86.6893539428711,86.6939697265625,86.6950912475586,86.70075988769531,86.70179748535156,86.70355224609375,86.71089935302734,86.71923828125,86.71958923339844,86.72129821777344,86.72406005859375,86.72599792480469,86.72640991210938,86.73036193847656,86.73761749267578,86.73902130126953,86.74362182617188,86.74498748779297,86.74654388427734,86.75646209716797,86.76274108886719,86.7661361694336,86.76663970947266,86.76673889160156,86.7686996459961,86.76921844482422,86.77100372314453,86.77218627929688,86.77386474609375,86.78170776367188,86.78511810302734,86.7856674194336,86.7857437133789,86.78636932373047,86.78646087646484,86.78759765625,86.78822326660156,86.78935241699219,86.79363250732422,86.79398345947266,86.7941665649414,86.79588317871094,86.79840850830078,86.80371856689453,86.80406951904297,86.80469512939453,86.80499267578125,86.80531311035156,86.80537414550781,86.80786895751953,86.80797576904297,86.80809783935547,86.80867004394531,86.80967712402344,86.81053924560547,86.8148422241211,86.81798553466797,86.81803131103516,86.82176208496094,86.82193756103516,86.82237243652344,86.8227310180664,86.82276916503906,86.82302856445312,86.82341003417969,86.82459259033203,86.82460021972656,86.82646942138672,86.8267822265625,86.82689666748047,86.8283920288086,86.82879638671875,86.82925415039062,86.8296127319336,86.82991027832031,86.83106231689453,86.83222198486328,86.83248138427734,86.8326416015625,86.833251953125,86.83554077148438,86.83573913574219,86.8359146118164,86.83663177490234,86.8384017944336,86.83846282958984,86.83967590332031,86.84148406982422,86.84161376953125,86.8424301147461,86.84315490722656,86.8434066772461,86.84459686279297,86.8446273803711,86.8447494506836,86.8453598022461,86.84596252441406,86.84615325927734,86.84651184082031,86.84701538085938,86.8472900390625,86.84747314453125,86.84758758544922,86.84784698486328,86.8486557006836,86.84907531738281,86.8505859375,86.85105895996094,86.85138702392578,86.85140228271484,86.85144805908203,86.85482025146484,86.85626983642578,86.85696411132812,86.85807037353516,86.85820770263672,86.85834503173828,86.85842895507812,86.85852813720703,86.85890197753906,86.85969543457031,86.86003112792969,86.86029052734375,86.86263275146484,86.86263275146484,86.86266326904297,86.86387634277344,86.8638916015625,86.86417388916016,86.86434173583984,86.8655776977539,86.86568450927734,86.86609649658203,86.8670654296875,86.86715698242188,86.86724090576172,86.86727905273438,86.86740112304688,86.86840057373047,86.86852264404297,86.86967468261719,86.86991882324219,86.87110900878906,86.8714599609375,86.87174987792969,86.87205505371094,86.87211608886719,86.87238311767578,86.8725814819336,86.87308502197266,86.87353515625,86.87384033203125,86.87384796142578,86.8740234375,86.87448120117188,86.87469482421875,86.87481689453125,86.8773193359375,86.87762451171875,86.87765502929688,86.87793731689453,86.87799835205078,86.87814331054688,86.87815856933594,86.87828826904297,86.8786392211914,86.87935638427734,86.87950897216797,86.88008117675781,86.88090515136719,86.88239288330078,86.8824462890625,86.88261413574219,86.88282012939453,86.8829574584961,86.88308715820312,86.88378143310547,86.88386535644531,86.88418579101562,86.88418579101562,86.8846664428711,86.88473510742188,86.88546752929688,86.88601684570312,86.8863296508789,86.88679504394531,86.88746643066406,86.88749694824219,86.88774871826172,86.88880157470703,86.88887786865234,86.88951873779297,86.89051818847656,86.89081573486328,86.89137268066406,86.89157104492188,86.8917465209961,86.89264678955078,86.8930892944336,86.89376831054688,86.89427185058594,86.89431762695312,86.89568328857422,86.89586639404297,86.8963851928711,86.89653778076172,86.89676666259766,86.89710235595703,86.89716339111328,86.89762115478516,86.89790344238281,86.89791107177734,86.89872741699219,86.89873504638672,86.89915466308594,86.90023803710938,86.90027618408203,86.9005126953125,86.90074157714844,86.90092468261719,86.90132904052734,86.9017333984375,86.90176391601562,86.90203094482422,86.90217590332031,86.90221405029297,86.90277862548828,86.90351104736328,86.90376281738281,86.90460205078125,86.90526580810547,86.90532684326172,86.90612030029297,86.90621948242188,86.9063949584961,86.90642547607422,86.90645599365234,86.90648651123047,86.90677642822266,86.90682220458984,86.90685272216797,86.90691375732422,86.9069595336914,86.90703582763672,86.90724182128906,86.90740966796875,86.90760803222656,86.90764617919922,86.90769958496094,86.90774536132812,86.90782928466797,86.90789031982422,86.9082260131836,86.90831756591797,86.90845489501953,86.90858459472656,86.90867614746094,86.90886688232422,86.908935546875,86.90924835205078,86.90929412841797,86.90930938720703,86.90938568115234,86.9095230102539,86.90955352783203,86.90961456298828,86.90977478027344,86.90991973876953,86.91004180908203,86.91004943847656,86.91015625,86.91026306152344,86.91057586669922,86.91120910644531,86.91131591796875,86.91165161132812,86.91172790527344,86.9117431640625,86.91227722167969,86.91230773925781,86.91244506835938,86.9130859375,86.91309356689453,86.91339874267578,86.91386413574219,86.91387176513672,86.91444396972656,86.91446685791016,86.91447448730469,86.91455078125,86.91478729248047,86.91481018066406,86.91500854492188,86.91514587402344,86.91526794433594,86.91535949707031,86.91535949707031,86.91590118408203,86.91593170166016,86.91648864746094,86.91654205322266,86.91674041748047,86.91677856445312,86.91694641113281,86.91707611083984,86.91732025146484,86.91767883300781,86.91785430908203,86.91789245605469,86.91793823242188,86.91825866699219,86.91850280761719,86.91877746582031,86.9190673828125,86.91920471191406,86.9192123413086,86.91927337646484,86.9193344116211,86.91947174072266,86.9200439453125,86.92005157470703,86.92031860351562,86.92052459716797,86.92057037353516,86.9207992553711,86.9208755493164,86.92093658447266,86.92103576660156,86.92108917236328,86.92118072509766,86.92131042480469,86.92228698730469,86.92252349853516,86.92256164550781,86.92259216308594,86.92261505126953,86.92306518554688,86.92314910888672,86.92320251464844,86.92330169677734,86.923583984375,86.92363739013672,86.92366790771484,86.92374420166016,86.92375946044922,86.92388153076172,86.92410278320312,86.92415618896484,86.92485809326172,86.92494201660156,86.92536926269531,86.92578887939453,86.92584228515625,86.92587280273438,86.92620086669922,86.92631530761719,86.92638397216797,86.92638397216797,86.92658233642578,86.9268798828125,86.92705535888672,86.92708587646484,86.92729949951172,86.92736053466797,86.92740631103516,86.92757415771484,86.92769622802734,86.92769622802734,86.92770385742188,86.92784881591797,86.9278564453125,86.92794036865234,86.92807006835938,86.92809295654297,86.92813110351562,86.92828369140625,86.92852783203125,86.92863464355469,86.9289321899414,86.92898559570312,86.92898559570312,86.92901611328125,86.92961120605469,86.9297103881836,86.92987060546875,86.92987060546875,86.9300308227539,86.93010711669922,86.93013763427734,86.93036651611328,86.9304428100586,86.93069458007812,86.93089294433594,86.93122100830078,86.9312515258789,86.931396484375,86.93147277832031,86.9314956665039,86.93150329589844,86.93167877197266,86.9317626953125,86.93202209472656,86.9320297241211,86.93208312988281,86.93222045898438,86.93234252929688,86.93238067626953,86.93256378173828,86.9329605102539,86.93299865722656,86.93309783935547,86.93360137939453,86.93397521972656,86.93409729003906,86.93424224853516,86.93466186523438,86.93470764160156,86.93473052978516,86.93482971191406,86.93490600585938,86.93494415283203,86.93495178222656,86.93514251708984,86.9351806640625,86.93524932861328,86.93525695800781,86.935302734375,86.93539428710938,86.9354248046875,86.9355697631836,86.93571472167969,86.93579864501953,86.9360580444336,86.93618774414062,86.93622589111328,86.93634033203125,86.93638610839844,86.93646240234375,86.93657684326172,86.93658447265625,86.93659210205078,86.93679809570312,86.93684387207031,86.9371109008789,86.9373779296875,86.93738555908203,86.93745422363281,86.93775939941406,86.93785095214844,86.9380874633789,86.93810272216797,86.93814849853516,86.93824768066406,86.93853759765625,86.93861389160156,86.93873596191406,86.93882751464844,86.93903350830078,86.9393081665039,86.93931579589844,86.93949890136719,86.93949890136719,86.9395980834961,86.93966674804688,86.93983459472656,86.93990325927734,86.93994903564453,86.93995666503906,86.93997192382812,86.9400405883789,86.94005584716797,86.94010162353516,86.94010925292969,86.94013977050781,86.9404067993164,86.94042205810547,86.94059753417969,86.94066619873047,86.94085693359375,86.94100952148438,86.94103240966797,86.94103240966797,86.94104766845703,86.94129943847656,86.94158935546875,86.94190979003906,86.9422607421875,86.94227600097656,86.94252014160156,86.94258117675781,86.9427490234375,86.94329833984375,86.94332122802734,86.94334411621094,86.94343566894531,86.9437484741211,86.94377899169922,86.94380950927734,86.94425201416016,86.9443130493164,86.94463348388672,86.94470977783203,86.94487762451172,86.94499206542969,86.94538879394531,86.9454574584961,86.9459228515625,86.94640350341797,86.94654083251953,86.94676971435547,86.94676971435547,86.94712829589844,86.9474868774414,86.94766235351562,86.94820404052734,86.94833374023438,86.9483413696289,86.94841766357422,86.94859313964844,86.94895935058594,86.94902038574219,86.9491958618164,86.94949340820312,86.94956970214844,86.94963073730469,86.9502182006836,86.9502182006836,86.9504165649414,86.95061492919922,86.95077514648438,86.9509506225586,86.95111846923828,86.95115661621094,86.95121002197266,86.9513168334961,86.95198822021484,86.9522705078125,86.9524154663086,86.95246887207031,86.95294189453125,86.9530029296875,86.95317077636719,86.953369140625,86.95338439941406,86.95340728759766,86.9535140991211,86.95418548583984,86.95438385009766,86.9545669555664,86.95471954345703,86.95478057861328,86.95482635498047,86.95494842529297,86.95507049560547,86.9552001953125,86.95542907714844,86.95545959472656,86.95547485351562,86.95574951171875,86.95584106445312,86.95585632324219,86.95600891113281,86.95611572265625,86.95612335205078,86.9563217163086,86.95632934570312,86.95663452148438,86.9570541381836,86.95711517333984,86.95714569091797,86.9573745727539,86.95760345458984,86.95769500732422,86.95775604248047,86.9577865600586,86.95784759521484,86.95816802978516,86.95819091796875,86.95870971679688,86.958984375,86.95919799804688,86.95921325683594,86.95925903320312,86.9593505859375,86.95967102050781,86.95980834960938,86.95992279052734,86.95999908447266,86.96031188964844,86.96044921875,86.96065521240234,86.96076202392578,86.9607925415039,86.9607925415039,86.96084594726562,86.96085357666016,86.96099090576172,86.96109771728516,86.96119689941406,86.96150970458984,86.9615707397461,86.96166229248047,86.96186065673828,86.9619140625,86.96195983886719,86.96204376220703,86.9620590209961,86.9622802734375,86.96231079101562,86.96249389648438,86.96279907226562,86.96285247802734,86.9631118774414,86.9631118774414,86.96315002441406,86.96366119384766,86.96385192871094,86.96411895751953,86.96422576904297,86.9645767211914,86.9646224975586,86.9648666381836,86.96489715576172,86.96495819091797,86.96527099609375,86.96527862548828,86.96529388427734,86.96560668945312,86.96568298339844,86.96575927734375,86.9657974243164,86.96583557128906,86.96614074707031,86.96627807617188,86.96653747558594,86.9665756225586,86.96662902832031,86.96662902832031,86.96699523925781,86.96712493896484,86.96720886230469,86.96735382080078,86.96753692626953,86.96759033203125,86.96759796142578,86.96768951416016,86.96784210205078,86.9679946899414,86.96802520751953,86.96835327148438,86.96869659423828,86.96894836425781,86.9691390991211,86.96916961669922,86.96928405761719,86.96928405761719,86.96961212158203,86.96967315673828,86.96994018554688,86.96996307373047,86.97016906738281,86.97053527832031,86.97056579589844,86.97118377685547,86.97119903564453,86.97122955322266,86.97134399414062,86.9716567993164,86.97180938720703,86.97185516357422,86.9719009399414,86.97196197509766,86.97196197509766,86.9724349975586,86.97246551513672,86.97265625,86.97274780273438,86.97319030761719,86.97330474853516,86.97344207763672,86.97348022460938,86.97354125976562,86.97370910644531,86.97420501708984,86.97429656982422,86.9744873046875,86.97469329833984,86.97482299804688,86.97482299804688,86.9748764038086,86.97489166259766,86.97496795654297,86.97516632080078,86.9753189086914,86.97582244873047,86.97624206542969,86.9765853881836,86.97677612304688,86.97688293457031,86.97705078125,86.97747802734375,86.9775390625,86.9775390625,86.97754669189453,86.9776611328125,86.97782897949219,86.97786712646484,86.97846984863281,86.97852325439453,86.97859954833984,86.9787368774414,86.97913360595703,86.97956085205078,86.98001861572266,86.98019409179688,86.98068237304688,86.98084259033203,86.98126220703125,86.98172760009766,86.98209381103516,86.98300170898438,86.98316955566406,86.98324584960938,86.98336791992188,86.98343658447266,86.9839096069336,86.98414611816406,86.9842529296875,86.98454284667969,86.9848861694336,86.98499298095703,86.98519134521484,86.98522186279297,86.98526763916016,86.98531341552734,86.9853744506836,86.9854965209961,86.98550415039062,86.98626708984375,86.98690795898438,86.98707580566406,86.98726654052734,86.98748779296875,86.98751831054688,86.98771667480469,86.98771667480469,86.98848724365234,86.98870086669922,86.98893737792969,86.98896026611328,86.98921203613281,86.98980712890625,86.98995208740234,86.99000549316406,86.99003601074219,86.99008178710938,86.99031829833984,86.99034118652344,86.99040222167969,86.99077606201172,86.9908218383789,86.9910659790039,86.99153900146484,86.99156188964844,86.99163818359375,86.99165344238281,86.99169158935547,86.99198913574219,86.99210357666016,86.9926528930664,86.99288177490234,86.99324035644531,86.993408203125,86.99354553222656,86.99395751953125,86.99411010742188,86.99523162841797,86.99554443359375,86.99616241455078,86.99655151367188,86.99664306640625,86.99677276611328,86.99702453613281,86.99745178222656,86.99791717529297,86.99850463867188,86.99898529052734,86.99910736083984,86.99913787841797,86.99922943115234,86.9996566772461,86.9998550415039,86.99989318847656,86.99992370605469,87.0,87.00004577636719,87.00012969970703,87.0003433227539,87.00054168701172,87.00062561035156,87.00086212158203,87.00096130371094,87.00099182128906,87.00120544433594,87.00125885009766,87.00130462646484,87.00132751464844,87.00157165527344,87.00211334228516,87.00251007080078,87.00257873535156,87.00279235839844,87.00313568115234,87.00345611572266,87.00359344482422,87.00421905517578,87.00439453125,87.00494384765625,87.00505828857422,87.00508117675781,87.0051040649414,87.00536346435547,87.0054702758789,87.00552368164062,87.00553131103516,87.00614166259766,87.00792694091797,87.0079345703125,87.00816345214844,87.0086669921875,87.00886535644531,87.00908660888672,87.00932312011719,87.00936126708984,87.0099868774414,87.01000213623047,87.01004791259766,87.01051330566406,87.01072692871094,87.01089477539062,87.01094818115234,87.01107025146484,87.01119232177734,87.01121520996094,87.0115737915039,87.0116958618164,87.01193237304688,87.01194763183594,87.01194763183594,87.011962890625,87.01209259033203,87.01215362548828,87.0125961303711,87.01297760009766,87.0131607055664,87.01322174072266,87.01398468017578,87.01400756835938,87.01410675048828,87.01414489746094,87.01458740234375,87.01490783691406,87.01557159423828,87.01560974121094,87.01575469970703,87.01602935791016,87.01604461669922,87.01617431640625,87.01771545410156,87.01799774169922,87.01808166503906,87.01814270019531,87.01849365234375,87.01852416992188,87.01853942871094,87.01940155029297,87.01961517333984,87.01981353759766,87.01981353759766,87.02024841308594,87.02058410644531,87.02062225341797,87.0216064453125,87.02191162109375,87.02194213867188,87.0221176147461,87.0221939086914,87.02261352539062,87.02285766601562,87.02313232421875,87.0232162475586,87.02324676513672,87.02364349365234,87.02471923828125,87.02484130859375,87.02518463134766,87.0267105102539,87.0270004272461,87.02700805664062,87.02726745605469,87.02759552001953,87.02766418457031,87.02798461914062,87.0281753540039,87.02836608886719,87.02867126464844,87.02928924560547,87.0300521850586,87.03015899658203,87.0304946899414,87.03060913085938,87.03079223632812,87.03089141845703,87.03126525878906,87.03138732910156,87.03147888183594,87.03154754638672,87.03157043457031,87.03205871582031,87.03224182128906,87.03263092041016,87.0326919555664,87.03295135498047,87.03316497802734,87.03316497802734,87.0333480834961,87.03346252441406,87.03382110595703,87.03396606445312,87.03400421142578,87.03408813476562,87.03424072265625,87.03438568115234,87.03439331054688,87.03460693359375,87.03468322753906,87.03469848632812,87.03514099121094,87.03524780273438,87.03562927246094,87.03564453125,87.03567504882812,87.03579711914062,87.03583526611328,87.03618621826172,87.0365982055664,87.03662872314453,87.03717803955078,87.03718566894531,87.0372543334961,87.03726196289062,87.03770446777344,87.03778076171875,87.03785705566406,87.03809356689453,87.03810119628906,87.03846740722656,87.03901672363281,87.04023742675781,87.0406723022461,87.04071044921875,87.04076385498047,87.04080200195312,87.0409164428711,87.0416259765625,87.04169464111328,87.04203796386719,87.04206848144531,87.0421371459961,87.04251098632812,87.04295349121094,87.04309844970703,87.04313659667969,87.04322814941406,87.0433120727539,87.0434799194336,87.04386138916016,87.04397583007812,87.04402923583984,87.04476928710938,87.04499816894531,87.04502868652344,87.04508972167969,87.04521179199219,87.0453109741211,87.04539489746094,87.04586029052734,87.04645538330078,87.04674530029297,87.04676818847656,87.0467758178711,87.04688262939453,87.04692840576172,87.04716491699219,87.04756927490234,87.0478744506836,87.0480728149414,87.04859161376953,87.04867553710938,87.04869079589844,87.04879760742188,87.04906463623047,87.0493392944336,87.04946899414062,87.04975128173828,87.05017852783203,87.05070495605469,87.05167388916016,87.05207061767578,87.05291748046875,87.05313873291016,87.05359649658203,87.05370330810547,87.05411529541016,87.05423736572266,87.05426788330078,87.05451965332031,87.05463409423828,87.05474090576172,87.0550537109375,87.05511474609375,87.05549621582031,87.05565643310547,87.05570983886719,87.05587005615234,87.05589294433594,87.05595397949219,87.05613708496094,87.05731964111328,87.05756378173828,87.0576400756836,87.05770111083984,87.05773162841797,87.05794525146484,87.05806732177734,87.05823516845703,87.05839538574219,87.05865478515625,87.05946350097656,87.0596694946289,87.06005096435547,87.06021881103516,87.06079864501953,87.06147003173828,87.06193542480469,87.06207275390625,87.06224060058594,87.06224060058594,87.06233215332031,87.06240844726562,87.06282043457031,87.06285095214844,87.06303405761719,87.06341552734375,87.06356811523438,87.0637435913086,87.06383514404297,87.06409454345703,87.06429290771484,87.0647201538086,87.06497955322266,87.06498718261719,87.06515502929688,87.06595611572266,87.06614685058594,87.06645202636719,87.0665283203125,87.06716918945312,87.06783294677734,87.06804656982422,87.06841278076172,87.06842803955078,87.06866455078125,87.0694351196289,87.06948852539062,87.06950378417969,87.06991577148438,87.06999206542969,87.07014465332031,87.07020568847656,87.07064819335938,87.07117462158203,87.07193756103516,87.07209014892578,87.07220458984375,87.07255554199219,87.07281494140625,87.07293701171875,87.07366180419922,87.07390594482422,87.073974609375,87.07401275634766,87.07410430908203,87.0743179321289,87.07438659667969,87.07548522949219,87.07563781738281,87.07585144042969,87.075927734375,87.07595825195312,87.07618713378906,87.0765380859375,87.07667541503906,87.07675170898438,87.07707214355469,87.07767486572266,87.0777359008789,87.0779037475586,87.07801055908203,87.07843780517578,87.07856750488281,87.07868957519531,87.07946014404297,87.07953643798828,87.07992553710938,87.08029174804688,87.08032989501953,87.08086395263672,87.08089447021484,87.0811538696289,87.08161163330078,87.0826187133789,87.08267211914062,87.0833511352539,87.08341217041016,87.08356475830078,87.0839614868164,87.08492279052734,87.08502960205078,87.08660888671875,87.08692169189453,87.08708953857422,87.08731079101562,87.08769226074219,87.08769226074219,87.08776092529297,87.0884017944336,87.0889663696289,87.08935546875,87.08949279785156,87.08960723876953,87.08968353271484,87.09005737304688,87.09030151367188,87.09031677246094,87.09033203125,87.09076690673828,87.0909652709961,87.09162902832031,87.09198760986328,87.09227752685547,87.09273529052734,87.09305572509766,87.09330749511719,87.09357452392578,87.09364318847656,87.09430694580078,87.09503936767578,87.09507751464844,87.09510803222656,87.0954360961914,87.0957260131836,87.09609985351562,87.09651184082031,87.09663391113281,87.09721374511719,87.09732818603516,87.09735107421875,87.09736633300781,87.09842681884766,87.09896087646484,87.09908294677734,87.0991439819336,87.09967803955078,87.099853515625,87.10065460205078,87.10103607177734,87.1020736694336,87.1021499633789,87.10231018066406,87.10279083251953,87.10346984863281,87.1038589477539,87.10387420654297,87.10404968261719,87.10425567626953,87.10538482666016,87.1054916381836,87.10572052001953,87.10576629638672,87.10628509521484,87.10646057128906,87.1069107055664,87.10694885253906,87.10739135742188,87.1087875366211,87.10883331298828,87.10894775390625,87.10978698730469,87.11036682128906,87.11062622070312,87.11083984375,87.11103820800781,87.1116714477539,87.11203002929688,87.11260223388672,87.1128921508789,87.1131820678711,87.11321258544922,87.11369323730469,87.11404418945312,87.11479187011719,87.11560821533203,87.117431640625,87.11864471435547,87.11925506591797,87.11927032470703,87.12063598632812,87.12073516845703,87.12173461914062,87.12191009521484,87.12252044677734,87.12252044677734,87.12269592285156,87.12288665771484,87.12310028076172,87.12396240234375,87.12488555908203,87.1251220703125,87.12550354003906,87.12641143798828,87.12651824951172,87.12771606445312,87.12879943847656,87.1288070678711,87.12886810302734,87.12956237792969,87.13002014160156,87.13005828857422,87.13011169433594,87.13036346435547,87.13041687011719,87.13054656982422,87.13133239746094,87.13282775878906,87.13301849365234,87.1332778930664,87.1335678100586,87.13526916503906,87.13531494140625,87.13641357421875,87.13725280761719,87.13766479492188,87.1387939453125,87.13882446289062,87.13910675048828,87.13947296142578,87.13986206054688,87.1399154663086,87.1402359008789,87.14024353027344,87.14065551757812,87.14103698730469,87.14107513427734,87.14132690429688,87.14134979248047,87.14189910888672,87.14197540283203,87.14202117919922,87.14247131347656,87.14453887939453,87.14576721191406,87.14678192138672,87.14739990234375,87.14811706542969,87.14823913574219,87.14827728271484,87.14887237548828,87.15003204345703,87.15056610107422,87.15081787109375,87.15287780761719,87.15328216552734,87.15352630615234,87.15538787841797,87.15599060058594,87.15605163574219,87.15609741210938,87.15677642822266,87.15887451171875,87.15936279296875,87.15998840332031,87.16020965576172,87.16075897216797,87.16138458251953,87.16148376464844,87.16171264648438,87.16177368164062,87.16239166259766,87.16275024414062,87.1637191772461,87.16468811035156,87.16574096679688,87.16576385498047,87.16593933105469,87.16703033447266,87.16828155517578,87.1690902709961,87.17161560058594,87.17345428466797,87.17383575439453,87.1750717163086,87.1771011352539,87.1771469116211,87.17767333984375,87.18174743652344,87.18216705322266,87.18348693847656,87.1843032836914,87.18433380126953,87.18441009521484,87.186767578125,87.1868667602539,87.18738555908203,87.18749237060547,87.18750762939453,87.19493865966797,87.19568634033203,87.19624328613281,87.1993408203125,87.20063781738281,87.20148468017578,87.20368194580078,87.20370483398438,87.20645904541016,87.207275390625,87.20767211914062,87.20934295654297,87.20977020263672,87.21154022216797,87.21610260009766,87.216552734375,87.21678161621094,87.2183609008789,87.2216567993164,87.22222137451172,87.22293090820312,87.2229995727539,87.22893524169922,87.22907257080078,87.23014831542969,87.23046875,87.24237823486328,87.24662780761719,87.25581359863281,87.2563705444336,87.26363372802734,87.27659606933594,87.27830505371094,87.28083038330078,87.28376007080078,87.28945922851562],\"xaxis\":\"x\",\"y\":[86.8091370617486,86.82099887430093,86.82174198549484,86.82903326468244,86.83786270413702,86.84292864496436,86.84323228179628,86.84548159148538,86.84555350547188,86.85029583335994,86.8516022707815,86.8537357190479,86.85669218293766,86.86522597600327,86.86682406459232,86.87726357830039,86.87918927505021,86.87927317470114,86.88046375069999,86.88170226935651,86.88197394441666,86.88612098430528,86.88643261158015,86.88962878875827,86.89648059358389,86.8985660991926,86.9003799297412,86.90321653698679,86.90577347872929,86.91459492774092,86.92501446534163,86.93107921153712,86.93140282447641,86.93477079617786,86.93539804594907,86.93685230656511,86.93756745120872,86.93923345856282,86.93984073222666,86.94229379821087,86.94267733947225,86.94308485206247,86.94435533249077,86.94597739240868,86.94637291933446,86.94650476164307,86.94671650838112,86.94932938322424,86.95059586843107,86.95301297742202,86.9536002749785,86.9565687245327,86.95711207465297,86.9580309755917,86.96187837386987,86.96624515093947,86.96642893112721,86.9673238607371,86.9687701309102,86.96978491716425,86.97000065912377,86.97207018384663,86.9758696394671,86.9766047602181,86.9790138787661,86.9797290234097,86.98054404859013,86.98573783650458,86.9890259037766,86.99080377733192,86.99106746194911,86.99111939982825,86.99214617174673,86.99241784680687,86.99335272863148,86.99397198795974,86.99485093668372,86.99895802435762,87.0007438883559,87.00103154430192,87.00107149651666,87.0013991046774,87.00144704733509,87.00204233533451,87.00236994349527,87.00296123627322,87.00520255551939,87.00538633570713,87.00548222102248,87.00638114585382,87.00770356416126,87.01048423830625,87.01066801849399,87.01099562665473,87.01115144029217,87.01131923959403,87.01135120136581,87.01265763878737,87.01271357188799,87.01277749543155,87.01307713704199,87.01360450627638,87.0140559663028,87.01630927121337,87.01795530246011,87.01797927378895,87.01993293708908,87.02002482718295,87.02025255480689,87.0204403302161,87.02046030632347,87.02059614385354,87.02079590492718,87.02141516425544,87.02141915947692,87.02239798873771,87.0225617928181,87.02262172114018,87.02340478454883,87.02361653128688,87.02385624457523,87.02404401998444,87.02419983362188,87.02480311206426,87.0254103857281,87.02554622325817,87.02563012290909,87.02594974062691,87.0271483070687,87.027252182827,87.02734407292087,87.0277196237393,87.02864651512095,87.02867847689274,87.02931371710689,87.03026058459591,87.03032850336095,87.03075599205852,87.03113553809843,87.03126738040702,87.03189063495675,87.03190661584264,87.03197053938621,87.03229015710403,87.03260577960036,87.03270566013717,87.03289343554638,87.0331571201636,87.0333009481366,87.03339683345195,87.03345676177403,87.03359259930411,87.0340160927802,87.0342358299612,87.03502688381279,87.0352745875441,87.03544638206742,87.03545437251037,87.0354783438392,87.03724423173011,87.03800332380993,87.03836688896394,87.03894619607746,87.03901811006398,87.0390900240505,87.03913397148668,87.03918590936584,87.03938167521798,87.03979717825115,87.03997296799594,87.04010880552602,87.04133533851812,87.04133533851812,87.04135131940401,87.04198655961817,87.0419945500611,87.0421423732556,87.042230268128,87.04287749400658,87.04293342710719,87.04314916906671,87.04365656219375,87.0437045048514,87.04374845228762,87.04376842839497,87.04383235193853,87.04435572595145,87.04441964949501,87.0450229279374,87.04515077502451,87.04577402957425,87.04595780976199,87.04610962817796,87.04626943703686,87.04630139880864,87.04644123156018,87.04654510731848,87.04680879193566,87.04704451000255,87.04720431886146,87.04720831408292,87.0473002041768,87.04753991746517,87.0476517836664,87.04771570720996,87.049026139853,87.04918594871191,87.04920192959779,87.04934975279228,87.04938171456405,87.04945762377204,87.049465614215,87.04953353298002,87.04971731316776,87.0500928639862,87.05017276841565,87.05047241002609,87.05090389394513,87.0516829621323,87.05171092868261,87.05179882355502,87.05190669453478,87.0519786085213,87.05204652728632,87.05241009244034,87.05245403987654,87.05262183917839,87.05262183917839,87.05287353813117,87.05290949512442,87.0532930363858,87.05358069233182,87.05374449641221,87.05398820492204,87.05433978441164,87.05435576529752,87.05448760760612,87.05503894816934,87.05507890038407,87.05541449898777,87.05593787300069,87.05609368663812,87.05638533780564,87.05648921356392,87.05658110365779,87.05705253979156,87.05728426263698,87.05763983734805,87.05790352196524,87.05792749329407,87.05864263793768,87.05873852325303,87.05901019831316,87.05909010274263,87.0592099593868,87.0593857491316,87.05941771090338,87.05965742419174,87.05980524738624,87.0598092426077,87.06023673130528,87.06024072652676,87.06046046370776,87.06102778515687,87.06104776126423,87.06117161312989,87.06129146977406,87.06138735508941,87.06159910182745,87.0618108485655,87.0618268294514,87.06196666220293,87.06204257141093,87.06206254751828,87.06235819390726,87.06274173516863,87.06287357747723,87.06331305183923,87.06366063610734,87.06369259787913,87.06410810091228,87.06416003879143,87.0642519288853,87.06426790977119,87.06428389065708,87.06429987154297,87.06445168995893,87.06447566128776,87.06449164217366,87.06452360394545,87.06454757527428,87.06458752748901,87.06469539846876,87.06478329334116,87.06488716909945,87.06490714520682,87.06493511175712,87.06495908308597,87.06500303052216,87.06503499229393,87.06521078203875,87.0652587246964,87.06533063868292,87.06539855744796,87.06544650010562,87.06554638064245,87.0655823376357,87.06574614171608,87.06577011304492,87.06577810348786,87.06581805570258,87.0658899696891,87.06590595057497,87.06593791234675,87.06602181199769,87.06609772120567,87.06616164474923,87.0661656399707,87.06622157307132,87.06627750617193,87.06644131025232,87.06677291363455,87.06682884673516,87.06700463647996,87.0670445886947,87.06705257913764,87.06733224464072,87.06734822552662,87.06742013951312,87.06775573811683,87.0677597333383,87.0679195421972,87.06816325070704,87.0681672459285,87.06846688753896,87.06847887320338,87.06848286842484,87.06852282063957,87.06864667250522,87.06865865816965,87.06876253392792,87.06883444791444,87.068898371458,87.06894631411568,87.06894631411568,87.06922997484023,87.06924595572613,87.06953760689363,87.06956557344394,87.06966944920222,87.06968942530959,87.069777320182,87.06984523894702,87.06997308603414,87.07016086144336,87.07025275153723,87.0702727276446,87.07029669897344,87.07046449827529,87.07059234536241,87.07073617333543,87.07088799175139,87.0709599057379,87.07096390095937,87.07099586273115,87.07102782450293,87.07109973848944,87.07139938009989,87.07140337532135,87.07154320807291,87.07165107905266,87.0716750503815,87.07179490702569,87.07183485924041,87.0718668210122,87.07191875889134,87.07194672544165,87.07199466809931,87.07206258686435,87.07257397521285,87.07269782707851,87.07271780318587,87.07273378407176,87.07274576973617,87.07298148780306,87.07302543523926,87.07305340178956,87.07310533966871,87.07325316286321,87.07328112941352,87.0732971102994,87.07333706251413,87.07334505295708,87.07340897650064,87.07352483792334,87.07355280447365,87.07392036484913,87.07396431228534,87.07418804468782,87.0744077818688,87.07443574841912,87.074451729305,87.07462352382834,87.07468345215042,87.07471940914367,87.07471940914367,87.07482328490195,87.07497909853939,87.07507098863326,87.07508696951916,87.07519883572039,87.07523079749217,87.075254768821,87.0753426636934,87.07540658723697,87.07540658723697,87.07541058245843,87.07548649166642,87.0754904868879,87.07553443432408,87.07560235308912,87.07561433875355,87.0756343148609,87.07571421929036,87.07584206637749,87.0758979994781,87.07605381311554,87.07608177966586,87.07608177966586,87.07609776055173,87.0764093878266,87.07646132570575,87.07654522535668,87.07654522535668,87.0766291250076,87.07666907722233,87.07668505810821,87.0768049147524,87.07684486696712,87.07697670927573,87.07708058503401,87.07725237955734,87.07726836044323,87.0773442696512,87.07738422186594,87.07739620753034,87.07740020275182,87.07749209284569,87.0775360402819,87.07767187781197,87.07767587303343,87.07770383958375,87.07777575357025,87.07783967711381,87.07785965322118,87.07795553853651,87.07816329005311,87.07818326616047,87.0782352040396,87.07849888865681,87.07869465450896,87.07875857805253,87.07883448726051,87.0790542244415,87.07907819577034,87.07909018143476,87.0791421193139,87.07918207152863,87.07920204763599,87.07920604285746,87.07930592339429,87.07932589950164,87.0793618564949,87.07936585171637,87.0793898230452,87.07943776570288,87.07945374658877,87.07952965579676,87.07960556500473,87.07964951244094,87.079785349971,87.07985326873603,87.0798732448434,87.0799331731655,87.07995714449433,87.07999709670905,87.08005702503115,87.08006102025261,87.08006501547409,87.08017288645385,87.08019685778268,87.08033669053424,87.08047652328577,87.08048051850724,87.0805164755005,87.08067628435941,87.08072422701707,87.08084807888272,87.08085606932568,87.0808800406545,87.08093197853366,87.08108379694961,87.08112374916433,87.0811876727079,87.08123561536559,87.08134348634533,87.08148731431837,87.08149130953983,87.08158719485517,87.08158719485517,87.08163913273432,87.08167508972757,87.08176298459998,87.08179894159322,87.08182291292206,87.08182690814354,87.08183489858648,87.08187085557972,87.08187884602268,87.0819028173515,87.08190681257298,87.08192279345887,87.08206262621042,87.08207061665337,87.08216250674724,87.0821984637405,87.0822983442773,87.08237824870676,87.08239023437118,87.08239023437118,87.08239822481411,87.08253006712272,87.08268188553868,87.08284968484054,87.08303346502828,87.08304145547122,87.08316930255835,87.08320126433013,87.08328915920252,87.08357681514855,87.08358880081298,87.08360078647739,87.08364872913506,87.08381253321545,87.08382851410133,87.08384449498723,87.08407621783263,87.08410817960441,87.08427597890628,87.084315931121,87.0844038259934,87.0844637543155,87.08467150583206,87.08470746282532,87.08495117133515,87.08520287028793,87.08527478427445,87.08539464091862,87.08539464091862,87.08558241632784,87.08577019173705,87.08586208183092,87.08614574255549,87.08621366132051,87.08621765654198,87.08625760875671,87.08634949885058,87.08654126948127,87.08657323125306,87.08666512134693,87.08682093498436,87.08686088719908,87.08689284897086,87.08720048102427,87.08720048102427,87.08730435678254,87.08740823254084,87.08749213219176,87.08758402228563,87.08767191715803,87.0876918932654,87.0877198598157,87.08777579291632,87.08812737240592,87.0882751956004,87.0883511048084,87.0883790713587,87.08862677509,87.08865873686179,87.08874663173418,87.08885050749247,87.0888584979354,87.08887048359983,87.08892641670045,87.08927799619005,87.08938187194833,87.08947775726367,87.08955766169314,87.08958962346492,87.08961359479375,87.08967751833731,87.08974144188088,87.08980936064592,87.08992921729009,87.08994519817597,87.08995318861892,87.09009701659194,87.09014495924961,87.09015294969255,87.09023285412201,87.09028878722262,87.0902927824441,87.0903966582024,87.09040065342387,87.09056046228277,87.09078019946377,87.09081216123555,87.09082814212144,87.09094799876561,87.09106785540979,87.09111579806746,87.09114775983925,87.09116374072514,87.09119570249692,87.09136350179878,87.09137548746318,87.09164716252333,87.09179099049635,87.09190285669757,87.09191084714053,87.09193481846935,87.09198276112704,87.09215056042888,87.0922224744154,87.09228240273748,87.09232235495222,87.09248615903259,87.09255807301909,87.09266594399887,87.09272187709948,87.09273785798537,87.09273785798537,87.09276582453568,87.09276981975714,87.09284173374365,87.09289766684427,87.09294960472342,87.09311340880379,87.09314537057557,87.09319331323326,87.09329718899153,87.09332515554185,87.09334912687069,87.09339307430687,87.09340106474983,87.09351692617253,87.09353290705843,87.09362879237378,87.09378860123267,87.093816567783,87.09395240531305,87.09395240531305,87.09397238142043,87.09424006125909,87.09433994179591,87.09447977454744,87.09453570764806,87.0947194878358,87.09474345916465,87.09487130625178,87.09488728713765,87.09491924890943,87.09508305298982,87.0950870482113,87.09509503865424,87.09525884273461,87.09529879494934,87.09533874716408,87.09535872327143,87.09537869937878,87.0955385082377,87.09561042222421,87.09574625975428,87.09576623586165,87.09579420241195,87.09579420241195,87.09598597304264,87.09605389180767,87.09609783924387,87.09617374845186,87.0962696337672,87.09629760031751,87.09630159553899,87.09634953819665,87.0964294426261,87.09650934705556,87.09652532794145,87.09669712246478,87.09687690743104,87.09700874973964,87.09710863027647,87.09712461116234,87.09718453948443,87.09718453948443,87.09735633400777,87.09738829577955,87.09752812853108,87.09754011419551,87.09764798517526,87.09783975580595,87.09785573669184,87.09817934963112,87.09818734007408,87.09820332095997,87.09826324928206,87.09842705336243,87.0985069577919,87.09853092912073,87.09855490044956,87.09858686222134,87.09858686222134,87.09883456595264,87.09885054683853,87.09895042737534,87.09899837003303,87.09923009287843,87.09929002120053,87.09936193518703,87.0993819112944,87.09941387306618,87.09950176793858,87.0997614573343,87.09980939999198,87.09990928052879,87.10001715150855,87.1000850702736,87.1000850702736,87.1001130368239,87.10012102726685,87.10016097948156,87.10026485523986,87.10034475966931,87.10060844428651,87.1008281814675,87.10100796643377,87.10110784697059,87.1011637800712,87.1012516749436,87.10147540734607,87.10150736911785,87.10150736911785,87.10151136433933,87.10157129266142,87.10165918753381,87.10167916364118,87.10199478613751,87.10202275268783,87.10206270490255,87.10213461888907,87.10234237040564,87.10256610280811,87.10280581609646,87.10289770619033,87.10315340036459,87.10323730001551,87.1034570371965,87.10370074570635,87.10389251633703,87.10436794769228,87.10445584256468,87.10449579477941,87.10455971832297,87.10459567531622,87.10484337904752,87.10496723091318,87.1050231640138,87.10517498242976,87.10535476739602,87.10541070049663,87.10551457625493,87.10553055714082,87.10555452846967,87.1055784997985,87.10561046157028,87.10567438511384,87.10567838033532,87.10607790248258,87.10641350108628,87.10650139595867,87.1066012764955,87.1067171379182,87.1067331188041,87.10683699456239,87.10683699456239,87.10724051193112,87.10735237813236,87.10747622999801,87.10748821566243,87.10762005797102,87.10793168524589,87.10800759445388,87.10803556100419,87.10805154189006,87.1080755132189,87.10819936508456,87.10821135074897,87.10824331252076,87.10843907837292,87.10846304970175,87.10859089678888,87.10883860052019,87.1088505861846,87.10889053839932,87.10889852884227,87.10891850494964,87.10907431858708,87.10913424690916,87.10942190285519,87.10954175949936,87.10972953490858,87.10981742978099,87.10988934376749,87.11010508572701,87.11018499015647,87.11077228771296,87.11093609179333,87.11125970473262,87.11146346102772,87.1115114036854,87.11157932245044,87.11171116475903,87.11193489716149,87.11217860567133,87.11248623772472,87.1127379366775,87.11280186022105,87.11281784110696,87.11286578376462,87.1130895161671,87.11319339192539,87.11321336803275,87.11322934891864,87.11326930113336,87.1132932724622,87.1133372198984,87.11344908609964,87.11355296185792,87.11359690929413,87.11372076115978,87.11377269903892,87.11378867992481,87.11390054612605,87.11392851267635,87.11395248400518,87.11396446966961,87.11409231675674,87.1143759774813,87.11458372899787,87.11461968599113,87.11473155219235,87.11491133715863,87.11507913646048,87.115151050447,87.11547865860774,87.11557054870161,87.11585820464765,87.11591813296974,87.11593011863417,87.11594210429857,87.11607794182865,87.11613387492926,87.11616184147957,87.11616583670104,87.11648545441886,87.11742033624347,87.11742433146493,87.11754418810912,87.1178078727263,87.1179117484846,87.1180276099073,87.11815146177295,87.11817143788032,87.11849904604108,87.11850703648403,87.11853100781286,87.11877471632269,87.11888658252393,87.11897447739632,87.11900244394664,87.1190663674902,87.11913029103376,87.11914227669817,87.11933005210739,87.11939397565095,87.1195178275166,87.11952581795956,87.11952581795956,87.1195338084025,87.11960172716753,87.11963368893932,87.11986541178473,87.12006517285836,87.12016105817371,87.12019301994549,87.12059254209275,87.12060452775717,87.12065646563632,87.12067644174368,87.12090816458908,87.12107596389095,87.12142354815907,87.12144352426643,87.12151943347442,87.12166326144742,87.12167125189038,87.1217391706554,87.12254620539288,87.12269402858738,87.12273797602357,87.12276993779535,87.1229537179831,87.12296969886899,87.12297768931194,87.12342914933834,87.12354101553957,87.12364489129786,87.12364489129786,87.12387261892181,87.1240484086666,87.12406838477396,87.12458376834394,87.12474357720285,87.12475955808873,87.12485144818261,87.12489140039733,87.12511113757833,87.12523898466546,87.12538281263846,87.12542676007467,87.12544274096055,87.12565049247715,87.12621381870478,87.12627774224835,87.12645752721463,87.12725657150915,87.12740838992511,87.12741238514658,87.12754822267665,87.12772001719998,87.12775597419324,87.12792377349508,87.12802365403189,87.12812353456872,87.12828334342763,87.12860695636691,87.12900647851417,87.1290624116148,87.12923820135958,87.12929812968167,87.12939401499702,87.12944595287617,87.12964171872832,87.12970564227189,87.12975358492956,87.12978954192282,87.12980152758723,87.13005722176149,87.13015310707684,87.13035686337193,87.13038882514371,87.13052466267379,87.13063652887502,87.13063652887502,87.13073241419036,87.13079234251245,87.13098011792167,87.13105602712965,87.13107600323701,87.13111995067321,87.13119985510266,87.13127576431064,87.13127975953212,87.13139162573336,87.13143157794808,87.13143956839102,87.13167129123644,87.13172722433706,87.13192698541069,87.13193497585362,87.13195095673953,87.1320148802831,87.13203485639045,87.13221863657819,87.13243437853771,87.13245035942361,87.13273801536964,87.1327420105911,87.13277796758436,87.13278196280584,87.13301368565125,87.13305363786597,87.1330935900807,87.13321744194636,87.13322143716783,87.13341320779853,87.13370086374455,87.13434009918018,87.13456782680412,87.13458780291148,87.13461576946179,87.13463574556914,87.13469567389124,87.1350672294882,87.13510318648144,87.13528297144772,87.13529895233361,87.13533490932687,87.13553067517903,87.13576239802444,87.13583830723243,87.13585828333979,87.13590622599746,87.13595017343366,87.13603806830605,87.1362378293797,87.13629775770178,87.13632572425209,87.13671326073494,87.13683311737911,87.136849098265,87.13688106003679,87.13694498358035,87.13699692145948,87.1370408688957,87.13728457740552,87.13759620468039,87.13774802309635,87.13776000876078,87.13776400398226,87.13781993708287,87.1378439084117,87.13796776027735,87.1381795070154,87.1383393158743,87.1384431916326,87.13871486669274,87.13875881412893,87.13876680457187,87.1388227376725,87.13896257042404,87.13910639839706,87.13917431716209,87.13932214035658,87.13954587275904,87.13982154304067,87.14032893616769,87.14053668768426,87.14098015726773,87.14109601869043,87.14133573197881,87.14139166507942,87.14160740703895,87.14167133058251,87.14168731146839,87.14181915377699,87.14187908209908,87.14193501519969,87.14209881928008,87.14213078105186,87.14233054212549,87.14241444177642,87.14244240832673,87.14252630797765,87.14253829364208,87.14257025541386,87.1426661407292,87.14328540005747,87.1434132471446,87.14345319935931,87.1434851611311,87.14350114201699,87.14361300821821,87.14367693176177,87.14376482663418,87.14384872628511,87.14398456381517,87.14440805729129,87.14451592827103,87.14471568934468,87.14480358421707,87.14510722104899,87.14545880053859,87.14570250904842,87.14577442303494,87.14586231790733,87.14586231790733,87.14591026056499,87.14595021277972,87.14616595473925,87.14618193562514,87.14627782094048,87.14647758201411,87.14655748644357,87.14664937653744,87.14669731919511,87.1468331567252,87.14693703248346,87.14716076488594,87.14729660241602,87.14730059763748,87.14738849250989,87.1478079907645,87.14790787130133,87.14806768016024,87.14810763237496,87.14844323097867,87.14879081524678,87.14890268144802,87.14909445207871,87.14910244252165,87.1492262943873,87.14962981175604,87.14965777830636,87.1496657687493,87.14988151070882,87.14992146292354,87.150001367353,87.15003332912478,87.1502650519702,87.1505407222518,87.15094024439908,87.15102014882854,87.15108007715062,87.15126385733836,87.15139969486843,87.151463618412,87.15184316445189,87.15197101153902,87.15200696853228,87.15202694463964,87.15207488729732,87.15218675349854,87.1522227104918,87.15279802238386,87.15287792681332,87.15298979301456,87.15302974522928,87.15304572611517,87.15316558275936,87.1533493629471,87.1534212769336,87.15346122914832,87.15362902845018,87.15394465094653,87.1539766127183,87.1540645075907,87.15412044069132,87.15434417309379,87.15441209185882,87.15447601540238,87.15487953277112,87.15491948498584,87.15512324128096,87.15531501191164,87.155334988019,87.1556146535221,87.15563063440797,87.15576647193805,87.1560061852264,87.1565335544608,87.15656152101111,87.15691709572218,87.15694905749396,87.1570289619234,87.15723671344,87.15774011134555,87.15779604444617,87.158623055291,87.15878685937139,87.15887475424378,87.15899061566648,87.15919037674013,87.15919037674013,87.15922633373337,87.15956193233708,87.15985757872605,87.16006133502117,87.16013324900767,87.16019317732976,87.16023312954448,87.16042889539665,87.16055674248378,87.16056473292672,87.16057272336965,87.1608004509936,87.16090432675189,87.16125191102,87.16143968642922,87.16159150484519,87.16183121813356,87.16199901743539,87.162130859744,87.16227069249554,87.1623066494888,87.16265423375691,87.1630377750183,87.16305775112565,87.16307373201155,87.16324552653487,87.16339734495082,87.16359311080299,87.16380885276251,87.16387277630608,87.164176413138,87.16423634146008,87.16424832712451,87.16425631756746,87.16481165335216,87.16509131885525,87.16515524239881,87.16518720417059,87.16546686967368,87.16555875976755,87.16597825802216,87.16617801909581,87.16672136921608,87.16676132143081,87.16684522108173,87.16709692003451,87.16745249474559,87.16765625104068,87.16766424148364,87.1677561315775,87.16786400255727,87.16845529533522,87.16851122843585,87.16863108508002,87.16865505640885,87.16892673146899,87.16901862156286,87.16925433962976,87.16927431573711,87.16950603858253,87.17023716411202,87.17026113544085,87.17032106376294,87.17076053812494,87.17106417495687,87.17120001248693,87.17131187868817,87.17141575444646,87.17174735782869,87.17193513323791,87.17223477484836,87.17238659326432,87.17253841168028,87.17255439256617,87.17280609151894,87.17298987170669,87.17338140341101,87.17380889210858,87.17476375004054,87.1753989902547,87.17571860797251,87.17572659841545,87.17644174305906,87.17649368093821,87.17701705495114,87.177108945045,87.17742856276281,87.17742856276281,87.17752045285668,87.17762033339349,87.17773219959474,87.17818365962114,87.17866708141935,87.178790933285,87.17899069435862,87.17946612571387,87.17952205881448,87.1801493085857,87.18071663003482,87.18072062525628,87.18075258702807,87.18111615218208,87.18135586547044,87.1813758415778,87.18140380812811,87.1815356504367,87.18156361698702,87.18163153575205,87.18204304356374,87.18282610697239,87.1829259875092,87.18306182503926,87.18321364345522,87.18410457784363,87.18412854917247,87.18470386106452,87.18514333542652,87.18535907738604,87.185950370164,87.18596635104988,87.18611417424438,87.18630594487507,87.18650970117017,87.18653766772047,87.18670546702234,87.18670946224381,87.18692520420333,87.18712496527695,87.18714494138433,87.18727678369292,87.18728876935734,87.18757642530338,87.1876163775181,87.18764034884694,87.18787606691382,87.1889587719329,87.18960200259001,87.19013336704587,87.19045697998516,87.19083253080359,87.19089645434715,87.19091643045451,87.19122805772938,87.19183533139324,87.19211499689632,87.19224683920491,87.19332554900254,87.19353729574058,87.19366514282771,87.19463997686702,87.19495559936337,87.19498756113515,87.195011532464,87.19536710717506,87.19646579308004,87.19672148725428,87.19704909541505,87.19716495683775,87.19745261278379,87.19778022094454,87.19783215882369,87.19795201546788,87.19798397723966,87.19830759017893,87.19849536558814,87.19900275871518,87.1995101518422,87.20006149240544,87.20007347806985,87.20016536816372,87.20073668483431,87.20139190115583,87.20181539463192,87.20313781293939,87.2041006613143,87.20430042238792,87.2049476482665,87.20601037717822,87.20603434850706,87.20631001878867,87.20844346705508,87.20866320423607,87.20935437755084,87.20978186624842,87.2097978471343,87.20983779934903,87.21107232278408,87.21112426066323,87.21139593572337,87.21145186882399,87.21145985926694,87.2153512049813,87.21574273668563,87.21603438785313,87.21765644777102,87.21833563542138,87.21877910500484,87.21992972878897,87.2199417144534,87.22138398940501,87.2218114781026,87.22201922961918,87.22289418312168,87.22311791552416,87.22404480690581,87.22643394934647,87.22666966741335,87.22678952405752,87.22761653490237,87.22934247057856,87.22963811696754,87.23000967256449,87.23004562955774,87.23315391186347,87.23322582584998,87.23378915207763,87.23395695137948,87.2401934920983,87.24241883045858,87.24722907711165,87.24752072827917,87.25132417912113,87.25811206040319,87.25900699001306,87.2603294083205,87.26186357336601,87.2648480038061],\"yaxis\":\"y\",\"type\":\"scattergl\"}],                        {\"template\":{\"data\":{\"bar\":[{\"error_x\":{\"color\":\"#2a3f5f\"},\"error_y\":{\"color\":\"#2a3f5f\"},\"marker\":{\"line\":{\"color\":\"#E5ECF6\",\"width\":0.5},\"pattern\":{\"fillmode\":\"overlay\",\"size\":10,\"solidity\":0.2}},\"type\":\"bar\"}],\"barpolar\":[{\"marker\":{\"line\":{\"color\":\"#E5ECF6\",\"width\":0.5},\"pattern\":{\"fillmode\":\"overlay\",\"size\":10,\"solidity\":0.2}},\"type\":\"barpolar\"}],\"carpet\":[{\"aaxis\":{\"endlinecolor\":\"#2a3f5f\",\"gridcolor\":\"white\",\"linecolor\":\"white\",\"minorgridcolor\":\"white\",\"startlinecolor\":\"#2a3f5f\"},\"baxis\":{\"endlinecolor\":\"#2a3f5f\",\"gridcolor\":\"white\",\"linecolor\":\"white\",\"minorgridcolor\":\"white\",\"startlinecolor\":\"#2a3f5f\"},\"type\":\"carpet\"}],\"choropleth\":[{\"colorbar\":{\"outlinewidth\":0,\"ticks\":\"\"},\"type\":\"choropleth\"}],\"contour\":[{\"colorbar\":{\"outlinewidth\":0,\"ticks\":\"\"},\"colorscale\":[[0.0,\"#0d0887\"],[0.1111111111111111,\"#46039f\"],[0.2222222222222222,\"#7201a8\"],[0.3333333333333333,\"#9c179e\"],[0.4444444444444444,\"#bd3786\"],[0.5555555555555556,\"#d8576b\"],[0.6666666666666666,\"#ed7953\"],[0.7777777777777778,\"#fb9f3a\"],[0.8888888888888888,\"#fdca26\"],[1.0,\"#f0f921\"]],\"type\":\"contour\"}],\"contourcarpet\":[{\"colorbar\":{\"outlinewidth\":0,\"ticks\":\"\"},\"type\":\"contourcarpet\"}],\"heatmap\":[{\"colorbar\":{\"outlinewidth\":0,\"ticks\":\"\"},\"colorscale\":[[0.0,\"#0d0887\"],[0.1111111111111111,\"#46039f\"],[0.2222222222222222,\"#7201a8\"],[0.3333333333333333,\"#9c179e\"],[0.4444444444444444,\"#bd3786\"],[0.5555555555555556,\"#d8576b\"],[0.6666666666666666,\"#ed7953\"],[0.7777777777777778,\"#fb9f3a\"],[0.8888888888888888,\"#fdca26\"],[1.0,\"#f0f921\"]],\"type\":\"heatmap\"}],\"heatmapgl\":[{\"colorbar\":{\"outlinewidth\":0,\"ticks\":\"\"},\"colorscale\":[[0.0,\"#0d0887\"],[0.1111111111111111,\"#46039f\"],[0.2222222222222222,\"#7201a8\"],[0.3333333333333333,\"#9c179e\"],[0.4444444444444444,\"#bd3786\"],[0.5555555555555556,\"#d8576b\"],[0.6666666666666666,\"#ed7953\"],[0.7777777777777778,\"#fb9f3a\"],[0.8888888888888888,\"#fdca26\"],[1.0,\"#f0f921\"]],\"type\":\"heatmapgl\"}],\"histogram\":[{\"marker\":{\"pattern\":{\"fillmode\":\"overlay\",\"size\":10,\"solidity\":0.2}},\"type\":\"histogram\"}],\"histogram2d\":[{\"colorbar\":{\"outlinewidth\":0,\"ticks\":\"\"},\"colorscale\":[[0.0,\"#0d0887\"],[0.1111111111111111,\"#46039f\"],[0.2222222222222222,\"#7201a8\"],[0.3333333333333333,\"#9c179e\"],[0.4444444444444444,\"#bd3786\"],[0.5555555555555556,\"#d8576b\"],[0.6666666666666666,\"#ed7953\"],[0.7777777777777778,\"#fb9f3a\"],[0.8888888888888888,\"#fdca26\"],[1.0,\"#f0f921\"]],\"type\":\"histogram2d\"}],\"histogram2dcontour\":[{\"colorbar\":{\"outlinewidth\":0,\"ticks\":\"\"},\"colorscale\":[[0.0,\"#0d0887\"],[0.1111111111111111,\"#46039f\"],[0.2222222222222222,\"#7201a8\"],[0.3333333333333333,\"#9c179e\"],[0.4444444444444444,\"#bd3786\"],[0.5555555555555556,\"#d8576b\"],[0.6666666666666666,\"#ed7953\"],[0.7777777777777778,\"#fb9f3a\"],[0.8888888888888888,\"#fdca26\"],[1.0,\"#f0f921\"]],\"type\":\"histogram2dcontour\"}],\"mesh3d\":[{\"colorbar\":{\"outlinewidth\":0,\"ticks\":\"\"},\"type\":\"mesh3d\"}],\"parcoords\":[{\"line\":{\"colorbar\":{\"outlinewidth\":0,\"ticks\":\"\"}},\"type\":\"parcoords\"}],\"pie\":[{\"automargin\":true,\"type\":\"pie\"}],\"scatter\":[{\"marker\":{\"colorbar\":{\"outlinewidth\":0,\"ticks\":\"\"}},\"type\":\"scatter\"}],\"scatter3d\":[{\"line\":{\"colorbar\":{\"outlinewidth\":0,\"ticks\":\"\"}},\"marker\":{\"colorbar\":{\"outlinewidth\":0,\"ticks\":\"\"}},\"type\":\"scatter3d\"}],\"scattercarpet\":[{\"marker\":{\"colorbar\":{\"outlinewidth\":0,\"ticks\":\"\"}},\"type\":\"scattercarpet\"}],\"scattergeo\":[{\"marker\":{\"colorbar\":{\"outlinewidth\":0,\"ticks\":\"\"}},\"type\":\"scattergeo\"}],\"scattergl\":[{\"marker\":{\"colorbar\":{\"outlinewidth\":0,\"ticks\":\"\"}},\"type\":\"scattergl\"}],\"scattermapbox\":[{\"marker\":{\"colorbar\":{\"outlinewidth\":0,\"ticks\":\"\"}},\"type\":\"scattermapbox\"}],\"scatterpolar\":[{\"marker\":{\"colorbar\":{\"outlinewidth\":0,\"ticks\":\"\"}},\"type\":\"scatterpolar\"}],\"scatterpolargl\":[{\"marker\":{\"colorbar\":{\"outlinewidth\":0,\"ticks\":\"\"}},\"type\":\"scatterpolargl\"}],\"scatterternary\":[{\"marker\":{\"colorbar\":{\"outlinewidth\":0,\"ticks\":\"\"}},\"type\":\"scatterternary\"}],\"surface\":[{\"colorbar\":{\"outlinewidth\":0,\"ticks\":\"\"},\"colorscale\":[[0.0,\"#0d0887\"],[0.1111111111111111,\"#46039f\"],[0.2222222222222222,\"#7201a8\"],[0.3333333333333333,\"#9c179e\"],[0.4444444444444444,\"#bd3786\"],[0.5555555555555556,\"#d8576b\"],[0.6666666666666666,\"#ed7953\"],[0.7777777777777778,\"#fb9f3a\"],[0.8888888888888888,\"#fdca26\"],[1.0,\"#f0f921\"]],\"type\":\"surface\"}],\"table\":[{\"cells\":{\"fill\":{\"color\":\"#EBF0F8\"},\"line\":{\"color\":\"white\"}},\"header\":{\"fill\":{\"color\":\"#C8D4E3\"},\"line\":{\"color\":\"white\"}},\"type\":\"table\"}]},\"layout\":{\"annotationdefaults\":{\"arrowcolor\":\"#2a3f5f\",\"arrowhead\":0,\"arrowwidth\":1},\"autotypenumbers\":\"strict\",\"coloraxis\":{\"colorbar\":{\"outlinewidth\":0,\"ticks\":\"\"}},\"colorscale\":{\"diverging\":[[0,\"#8e0152\"],[0.1,\"#c51b7d\"],[0.2,\"#de77ae\"],[0.3,\"#f1b6da\"],[0.4,\"#fde0ef\"],[0.5,\"#f7f7f7\"],[0.6,\"#e6f5d0\"],[0.7,\"#b8e186\"],[0.8,\"#7fbc41\"],[0.9,\"#4d9221\"],[1,\"#276419\"]],\"sequential\":[[0.0,\"#0d0887\"],[0.1111111111111111,\"#46039f\"],[0.2222222222222222,\"#7201a8\"],[0.3333333333333333,\"#9c179e\"],[0.4444444444444444,\"#bd3786\"],[0.5555555555555556,\"#d8576b\"],[0.6666666666666666,\"#ed7953\"],[0.7777777777777778,\"#fb9f3a\"],[0.8888888888888888,\"#fdca26\"],[1.0,\"#f0f921\"]],\"sequentialminus\":[[0.0,\"#0d0887\"],[0.1111111111111111,\"#46039f\"],[0.2222222222222222,\"#7201a8\"],[0.3333333333333333,\"#9c179e\"],[0.4444444444444444,\"#bd3786\"],[0.5555555555555556,\"#d8576b\"],[0.6666666666666666,\"#ed7953\"],[0.7777777777777778,\"#fb9f3a\"],[0.8888888888888888,\"#fdca26\"],[1.0,\"#f0f921\"]]},\"colorway\":[\"#636efa\",\"#EF553B\",\"#00cc96\",\"#ab63fa\",\"#FFA15A\",\"#19d3f3\",\"#FF6692\",\"#B6E880\",\"#FF97FF\",\"#FECB52\"],\"font\":{\"color\":\"#2a3f5f\"},\"geo\":{\"bgcolor\":\"white\",\"lakecolor\":\"white\",\"landcolor\":\"#E5ECF6\",\"showlakes\":true,\"showland\":true,\"subunitcolor\":\"white\"},\"hoverlabel\":{\"align\":\"left\"},\"hovermode\":\"closest\",\"mapbox\":{\"style\":\"light\"},\"paper_bgcolor\":\"white\",\"plot_bgcolor\":\"#E5ECF6\",\"polar\":{\"angularaxis\":{\"gridcolor\":\"white\",\"linecolor\":\"white\",\"ticks\":\"\"},\"bgcolor\":\"#E5ECF6\",\"radialaxis\":{\"gridcolor\":\"white\",\"linecolor\":\"white\",\"ticks\":\"\"}},\"scene\":{\"xaxis\":{\"backgroundcolor\":\"#E5ECF6\",\"gridcolor\":\"white\",\"gridwidth\":2,\"linecolor\":\"white\",\"showbackground\":true,\"ticks\":\"\",\"zerolinecolor\":\"white\"},\"yaxis\":{\"backgroundcolor\":\"#E5ECF6\",\"gridcolor\":\"white\",\"gridwidth\":2,\"linecolor\":\"white\",\"showbackground\":true,\"ticks\":\"\",\"zerolinecolor\":\"white\"},\"zaxis\":{\"backgroundcolor\":\"#E5ECF6\",\"gridcolor\":\"white\",\"gridwidth\":2,\"linecolor\":\"white\",\"showbackground\":true,\"ticks\":\"\",\"zerolinecolor\":\"white\"}},\"shapedefaults\":{\"line\":{\"color\":\"#2a3f5f\"}},\"ternary\":{\"aaxis\":{\"gridcolor\":\"white\",\"linecolor\":\"white\",\"ticks\":\"\"},\"baxis\":{\"gridcolor\":\"white\",\"linecolor\":\"white\",\"ticks\":\"\"},\"bgcolor\":\"#E5ECF6\",\"caxis\":{\"gridcolor\":\"white\",\"linecolor\":\"white\",\"ticks\":\"\"}},\"title\":{\"x\":0.05},\"xaxis\":{\"automargin\":true,\"gridcolor\":\"white\",\"linecolor\":\"white\",\"ticks\":\"\",\"title\":{\"standoff\":15},\"zerolinecolor\":\"white\",\"zerolinewidth\":2},\"yaxis\":{\"automargin\":true,\"gridcolor\":\"white\",\"linecolor\":\"white\",\"ticks\":\"\",\"title\":{\"standoff\":15},\"zerolinecolor\":\"white\",\"zerolinewidth\":2}}},\"xaxis\":{\"anchor\":\"y\",\"domain\":[0.0,1.0],\"title\":{\"text\":\"Predicted Value\"}},\"yaxis\":{\"anchor\":\"x\",\"domain\":[0.0,1.0],\"title\":{\"text\":\"Actual Value\"}},\"coloraxis\":{\"colorbar\":{\"title\":{\"text\":\"Actual\"}},\"colorscale\":[[0.0,\"#440154\"],[0.1111111111111111,\"#482878\"],[0.2222222222222222,\"#3e4989\"],[0.3333333333333333,\"#31688e\"],[0.4444444444444444,\"#26828e\"],[0.5555555555555556,\"#1f9e89\"],[0.6666666666666666,\"#35b779\"],[0.7777777777777778,\"#6ece58\"],[0.8888888888888888,\"#b5de2b\"],[1.0,\"#fde725\"]]},\"legend\":{\"tracegroupgap\":0},\"margin\":{\"t\":60},\"title\":{\"text\":\"Predicted vs Actual Values\"},\"width\":1000,\"height\":1000},                        {\"responsive\": true}                    ).then(function(){\n",
              "                            \n",
              "var gd = document.getElementById('da4b1a89-5dc5-4e85-b65d-963dce292ba4');\n",
              "var x = new MutationObserver(function (mutations, observer) {{\n",
              "        var display = window.getComputedStyle(gd).display;\n",
              "        if (!display || display === 'none') {{\n",
              "            console.log([gd, 'removed!']);\n",
              "            Plotly.purge(gd);\n",
              "            observer.disconnect();\n",
              "        }}\n",
              "}});\n",
              "\n",
              "// Listen for the removal of the full notebook cells\n",
              "var notebookContainer = gd.closest('#notebook-container');\n",
              "if (notebookContainer) {{\n",
              "    x.observe(notebookContainer, {childList: true});\n",
              "}}\n",
              "\n",
              "// Listen for the clearing of the current output cell\n",
              "var outputEl = gd.closest('.output');\n",
              "if (outputEl) {{\n",
              "    x.observe(outputEl, {childList: true});\n",
              "}}\n",
              "\n",
              "                        })                };                            </script>        </div>\n",
              "</body>\n",
              "</html>"
            ]
          },
          "metadata": {}
        }
      ],
      "source": [
        "plotting_prediction(y_test, y_pred)"
      ]
    }
  ],
  "metadata": {
    "colab": {
      "provenance": [],
      "authorship_tag": "ABX9TyPSnUXPabX3RUqL9LDiiDhj",
      "include_colab_link": true
    },
    "kernelspec": {
      "display_name": "Python 3",
      "name": "python3"
    },
    "language_info": {
      "name": "python"
    }
  },
  "nbformat": 4,
  "nbformat_minor": 0
}