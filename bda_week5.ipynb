{
 "cells": [
  {
   "cell_type": "code",
   "execution_count": 5,
   "metadata": {},
   "outputs": [],
   "source": [
    "import mysql.connector as mysql\n",
    "from mysql.connector import Error\n",
    "import sqlalchemy\n",
    "from urllib.parse import quote_plus as urlquote\n",
    "import matplotlib.pyplot as plt\n",
    "import pandas as pd\n",
    "import os"
   ]
  },
  {
   "cell_type": "code",
   "execution_count": 6,
   "metadata": {},
   "outputs": [],
   "source": [
    "class StudiKasusS2:\n",
    "    def _init_(self, host, port, user, password):\n",
    "        self.host = host\n",
    "        self.port = port\n",
    "        self.user = user\n",
    "        self.password = password\n",
    "\n",
    "    def create_db(self, db_name):\n",
    "        conn = mysql.connect(\n",
    "            host=self.host,\n",
    "            port=self.port,\n",
    "            user=self.user,\n",
    "            passwd=self.password\n",
    "        )\n",
    "        try:\n",
    "            if conn.is_connected():\n",
    "                cursor = conn.cursor()\n",
    "                cursor.execute(\"CREATE DATABASE {}\".format(db_name))\n",
    "        except Error as e:\n",
    "            print(\"Error while connecting to MySQL\", e)\n",
    "        # preparing a cursor object\n",
    "        # creating database\n",
    "\n",
    "\n",
    "\n",
    "    def create_table(self, db_name, table_name, df):\n",
    "        conn = mysql.connect(\n",
    "            host=self.host,\n",
    "            port=self.port,\n",
    "            user=self.user,\n",
    "            passwd=self.password\n",
    "        )\n",
    "        try:\n",
    "            if conn.is_connected():\n",
    "                cursor = conn.cursor()\n",
    "                cursor.execute(\"USE {}\".format(db_name))\n",
    "                cursor.execute(\"CREATE TABLE {}\".format(table_name))\n",
    "        except Error as e:\n",
    "            print(\"Error while connecting to MySQL\", e)\n",
    "\n",
    "        engine_stmt = 'mysql+mysqldb://%s:%s@%s:%s/%s' % (self.user, urlquote(self.password),\n",
    "                                                            self.host, self.port, db_name)\n",
    "        engine = sqlalchemy.create_engine(engine_stmt)\n",
    "        df.to_sql(name=table_name, con=engine,\n",
    "                  if_exists='append', index=False, chunksize=1000)\n",
    "\n",
    "    def load_data(self, db_name, table_name):\n",
    "        conn = mysql.connect(\n",
    "            host=self.host,\n",
    "            port=self.port,\n",
    "            user=self.user,\n",
    "            passwd=self.password\n",
    "        )\n",
    "        try:\n",
    "            if conn.is_connected():\n",
    "                cursor = conn.cursor()\n",
    "                cursor.execute(\"SELECT * FROM {}.{}\".format(db_name, table_name))\n",
    "                result = cursor.fetchall()\n",
    "                return result\n",
    "        except Error as e:\n",
    "            print(\"Error while connecting to MySQL\", e)\n",
    "\n",
    "    def import_csv(self, path):\n",
    "        return pd.read_csv(path, index_col=False, delimiter=',')"
   ]
  }
 ],
 "metadata": {
  "interpreter": {
   "hash": "cce015c4ecf33923d51c7505c6cacba67fb5651e31cde048e08fe5ed25449064"
  },
  "kernelspec": {
   "display_name": "Python 3.10.2 ('msit')",
   "language": "python",
   "name": "python3"
  },
  "language_info": {
   "codemirror_mode": {
    "name": "ipython",
    "version": 3
   },
   "file_extension": ".py",
   "mimetype": "text/x-python",
   "name": "python",
   "nbconvert_exporter": "python",
   "pygments_lexer": "ipython3",
   "version": "3.10.2"
  },
  "orig_nbformat": 4
 },
 "nbformat": 4,
 "nbformat_minor": 2
}
