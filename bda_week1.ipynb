{
 "cells": [
  {
   "cell_type": "code",
   "execution_count": 1,
   "metadata": {},
   "outputs": [],
   "source": [
    "import mysql.connector as mysql\n",
    "import psycopg2 as psy\n",
    "import os\n",
    "\n",
    "conn = mysql.connect(\n",
    "    host = \"localhost\",\n",
    "    port = \"3306\",\n",
    "    user = \"root\",\n",
    "    passwd = \"MyNewPass\"\n",
    ")"
   ]
  },
  {
   "cell_type": "code",
   "execution_count": 2,
   "metadata": {},
   "outputs": [],
   "source": [
    "try:\n",
    "    if conn.is_connected():\n",
    "        cursor = conn.cursor()\n",
    "        cursor.execute(\"CREATE DATABASE BDA_COBA2\")\n",
    "        cursor.execute(\"USE BDA_COBA2\")\n",
    "        cursor.execute(\"CREATE TABLE customers (name VARCHAR(255), address VARCHAR(255))\")\n",
    "        sql = \"INSERT INTO customers (name, address) VALUES (%s, %s)\"\n",
    "        val = (\"Agus\", \"Jepara\")\n",
    "        cursor.execute(sql, val)\n",
    "        conn.commit()\n",
    "except mysql.Error as e:\n",
    "    print('Tidak bisa konek ke DB', e)"
   ]
  },
  {
   "cell_type": "code",
   "execution_count": 3,
   "metadata": {},
   "outputs": [],
   "source": [
    "try:\n",
    "    if conn.is_connected():\n",
    "        cursor = conn.cursor()\n",
    "        sql = \"INSERT INTO customers (name, address) VALUES (%s, %s)\"\n",
    "        val = (\"Rika\", \"Jambi\")\n",
    "        cursor.execute(sql, val)\n",
    "        conn.commit()\n",
    "except mysql.Error as e:\n",
    "    print('Tidak bisa konek ke DB', e)"
   ]
  }
 ],
 "metadata": {
  "interpreter": {
   "hash": "cce015c4ecf33923d51c7505c6cacba67fb5651e31cde048e08fe5ed25449064"
  },
  "kernelspec": {
   "display_name": "Python 3.10.2 ('msit')",
   "language": "python",
   "name": "python3"
  },
  "language_info": {
   "codemirror_mode": {
    "name": "ipython",
    "version": 3
   },
   "file_extension": ".py",
   "mimetype": "text/x-python",
   "name": "python",
   "nbconvert_exporter": "python",
   "pygments_lexer": "ipython3",
   "version": "3.10.2"
  },
  "orig_nbformat": 4
 },
 "nbformat": 4,
 "nbformat_minor": 2
}
